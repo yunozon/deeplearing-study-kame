{
 "cells": [
  {
   "cell_type": "markdown",
   "id": "3b93859c-afef-4c0f-a359-c47150e151d9",
   "metadata": {},
   "source": [
    "# Reguarization"
   ]
  },
  {
   "cell_type": "markdown",
   "id": "579c7eae-9b9e-4400-9c94-ef554eb68a23",
   "metadata": {},
   "source": [
    "## L2正則化をスクラッチで実装"
   ]
  },
  {
   "cell_type": "code",
   "execution_count": 1,
   "id": "c3a165d7-ef47-4520-b16b-d3bbe61fe047",
   "metadata": {},
   "outputs": [],
   "source": [
    "import torch\n",
    "from torch import nn, optim\n",
    "import torchvision\n",
    "\n",
    "import torchvision\n",
    "from torchvision import models, transforms\n",
    "from torch.utils.data import DataLoader, Subset\n",
    "import torch.nn.functional as F\n",
    "\n",
    "import time\n",
    "\n",
    "\n",
    "%load_ext autoreload\n",
    "%autoreload 2\n",
    "import utils\n",
    "import time"
   ]
  },
  {
   "cell_type": "code",
   "execution_count": 2,
   "id": "02c60b5d-202f-4654-a2c3-5356091045d3",
   "metadata": {},
   "outputs": [],
   "source": [
    "# model\n",
    "conv_model = nn.Sequential(\n",
    "    # 1x28x28 \n",
    "    nn.Conv2d(1,4, kernel_size=3, stride=2, padding=1),\n",
    "    nn.ReLU(),\n",
    "\n",
    "    # 4x14x14\n",
    "    nn.Conv2d(4, 8, kernel_size=3, stride=2, padding=1),\n",
    "    nn.ReLU(),\n",
    "\n",
    "    # 8x7x7\n",
    "    nn.Conv2d(8,16, kernel_size=3, stride=2, padding=1),\n",
    "    nn.ReLU(),\n",
    "\n",
    "    # 16x4x4\n",
    "    nn.Conv2d(16,32, kernel_size=3, stride=2, padding=1),\n",
    "    nn.ReLU(),\n",
    "    # 32x2x2\n",
    "    # nn.Flatten() <- GAP -> 32x1x1\n",
    "    nn.AdaptiveAvgPool2d(1),\n",
    "    # 32xx1x1\n",
    "    nn.Flatten(),\n",
    "    # 32\n",
    "    nn.Linear(32, 10) \n",
    ")"
   ]
  },
  {
   "cell_type": "code",
   "execution_count": 3,
   "id": "a266dcde-eb2d-47a2-89be-2afa1353ca80",
   "metadata": {},
   "outputs": [],
   "source": [
    "l2_reg = torch.tensor(0.)\n",
    "for name, param in conv_model.named_parameters():\n",
    "    # print(name, param)\n",
    "    if name in 'weight':\n",
    "        # L2正則化項\n",
    "        l2_reg = torch.linalg.norm(param)**2"
   ]
  },
  {
   "cell_type": "code",
   "execution_count": 4,
   "id": "0039527f-efcd-4acd-99f6-a3a70bc69e7a",
   "metadata": {},
   "outputs": [
    {
     "ename": "NameError",
     "evalue": "name 'loss' is not defined",
     "output_type": "error",
     "traceback": [
      "\u001b[0;31m---------------------------------------------------------------------------\u001b[0m",
      "\u001b[0;31mNameError\u001b[0m                                 Traceback (most recent call last)",
      "Cell \u001b[0;32mIn[4], line 1\u001b[0m\n\u001b[0;32m----> 1\u001b[0m loss \u001b[38;5;241m+\u001b[39m\u001b[38;5;241m=\u001b[39m (weight_decay \u001b[38;5;241m/\u001b[39m (\u001b[38;5;241m2\u001b[39m\u001b[38;5;241m*\u001b[39mm)) \u001b[38;5;241m*\u001b[39m l2_reg \n",
      "\u001b[0;31mNameError\u001b[0m: name 'loss' is not defined"
     ]
    }
   ],
   "source": [
    "loss += (weight_decay / (2*m)) * l2_reg "
   ]
  },
  {
   "cell_type": "markdown",
   "id": "2988a70e-f996-4ff4-b9be-d43b2aa228d8",
   "metadata": {},
   "source": [
    "## PytorchでL2正則を使う"
   ]
  },
  {
   "cell_type": "code",
   "execution_count": null,
   "id": "ec7ec2e3-ac1f-4994-a29b-e116b4e91718",
   "metadata": {},
   "outputs": [],
   "source": [
    "optim.SGD(conv_model.parameters(), lr=0.03, weight_decay=0.01)"
   ]
  },
  {
   "cell_type": "code",
   "execution_count": null,
   "id": "0fedaf0a-26d1-4696-93a3-edcf20b4c03f",
   "metadata": {},
   "outputs": [],
   "source": []
  },
  {
   "cell_type": "code",
   "execution_count": null,
   "id": "abbd3be4-5a78-4ef7-974e-78019d5bdfbb",
   "metadata": {},
   "outputs": [],
   "source": []
  },
  {
   "cell_type": "code",
   "execution_count": 6,
   "id": "8650ef89-ec53-49b7-b821-8740647bd849",
   "metadata": {},
   "outputs": [
    {
     "name": "stdout",
     "output_type": "stream",
     "text": [
      "Files already downloaded and verified\n",
      "Files already downloaded and verified\n"
     ]
    }
   ],
   "source": [
    "# データの準備\n",
    "transform = transforms.Compose([\n",
    "    transforms.ToTensor(),\n",
    "    transforms.Normalize(mean=[0.4914,0.4822,0.4465], std=[0.2023,0.1994,0.2010]),\n",
    "])\n",
    "\n",
    "classes = ('airplane', 'automobile', 'bird', 'cat', 'deer',\n",
    "           'dog', 'flog','horse', 'ship', 'truck')\t\t\n",
    "\n",
    "train_dataset = torchvision.datasets.CIFAR10('./cifar10_data', train=True, download=True, transform=transform)\n",
    "val_dataset = torchvision.datasets.CIFAR10('./cifar10_data', train=False, download=True, transform=transform)\n",
    "\n",
    "# dataloader\n",
    "train_loader = DataLoader(train_dataset, batch_size=128, shuffle=True, num_workers=4)\n",
    "val_loader = DataLoader(val_dataset, batch_size=128, num_workers=4)\n",
    "# train_dataset_sub = Subset(train_dataset, range(1000))\n",
    "# val_dataset_sub = Subset(val_dataset, range(1000))\n",
    "\n",
    "# train_loader = DataLoader(train_dataset_sub, batch_size=128, shuffle=True, num_workers=4)\n",
    "# val_loader = DataLoader(val_dataset_sub, batch_size=128, num_workers=4)\n"
   ]
  },
  {
   "cell_type": "code",
   "execution_count": 15,
   "id": "ab919864-a6e5-433a-81ee-db9b750d553a",
   "metadata": {},
   "outputs": [],
   "source": [
    "# model実装\n",
    "\n",
    "def get_conv_model():\n",
    "    return nn.Sequential(\n",
    "    # 3x28x28\n",
    "    nn.Conv2d(3, 4, kernel_size=3, stride=2, padding=1),\n",
    "    nn.ReLU(),\n",
    "    # 4x14x14\n",
    "    nn.Conv2d(4, 8, kernel_size=3, stride=2, padding=1),\n",
    "    nn.ReLU(),\n",
    "    # 8x7x7\n",
    "    nn.Conv2d(8, 16, kernel_size=3, stride=2, padding=1),\n",
    "    nn.ReLU(),\n",
    "    # 16x4x4\n",
    "    nn.Conv2d(16, 32, kernel_size=3, stride=2, padding=1),\n",
    "    nn.ReLU(),\n",
    "    # 32x2x2 -> GAP -> 32 x 1 x 1\n",
    "    \n",
    "    nn.Flatten(),\n",
    "    # # 128 -> 32\n",
    "    nn.Linear(128, 10)\n",
    "    # nn.Linear(32, 10)\n",
    "    # 10\n",
    ")"
   ]
  },
  {
   "cell_type": "code",
   "execution_count": 16,
   "id": "449be44b-b7f5-4789-aa1c-40dc92ee43a7",
   "metadata": {},
   "outputs": [
    {
     "name": "stdout",
     "output_type": "stream",
     "text": [
      "Files already downloaded and verified\n",
      "Files already downloaded and verified\n"
     ]
    }
   ],
   "source": [
    "conv_model = get_conv_model()\n",
    "conv_model_l2 = get_conv_model()\n",
    "transform = transforms.Compose([\n",
    "    transforms.ToTensor(),\n",
    "    # transforms.Normalize((0.5, 0.5, 0.5), (0.5, 0.5, 0.5))])\n",
    "    # CIFAR10用\n",
    "    transforms.Normalize(mean=[0.4914, 0.4822, 0.4465], std=[0.2023, 0.1994, 0.2010])\n",
    "])\n",
    "classes = ('plane', 'car', 'bird', 'cat',\n",
    "           'deer', 'dog', 'frog', 'horse', 'ship', 'truck')\n",
    "train_dataset = torchvision.datasets.CIFAR10('./cifar10_data', train=True, download=True, transform=transform)\n",
    "val_dataset = torchvision.datasets.CIFAR10('./cifar10_data', train=False, download=True, transform=transform)\n",
    "train_loader = DataLoader(train_dataset, batch_size=128, shuffle=True, num_workers=4)\n",
    "val_loader = DataLoader(val_dataset, batch_size=128, num_workers=4)\n",
    "\n",
    "opt = optim.SGD(conv_model.parameters(), lr=0.03)\n",
    "opt_l2 = optim.SGD(conv_model_l2.parameters(), lr=0.03, weight_decay=0.001)"
   ]
  },
  {
   "cell_type": "code",
   "execution_count": 9,
   "id": "c24c8192-19af-4719-b103-53e3d6a55bd0",
   "metadata": {},
   "outputs": [],
   "source": [
    "# optimizerを設定\n",
    "opt = optim.SGD(conv_model.parameters(), lr = 0.03)\n",
    "opt_l2 = optim.SGD(conv_model.parameters(), lr = 0.03, weight_decay=0.001)\n"
   ]
  },
  {
   "cell_type": "code",
   "execution_count": 17,
   "id": "fd360cf1-5392-4356-9a1d-19c6b40eb28c",
   "metadata": {},
   "outputs": [
    {
     "name": "stderr",
     "output_type": "stream",
     "text": [
      "                                                           "
     ]
    },
    {
     "name": "stdout",
     "output_type": "stream",
     "text": [
      "epoch: 0: train error: 2.2536296338376487, validation error: 2.078069437908221, validation accuracy: 0.2589992088607595\n"
     ]
    },
    {
     "name": "stderr",
     "output_type": "stream",
     "text": [
      "                                                           "
     ]
    },
    {
     "name": "stdout",
     "output_type": "stream",
     "text": [
      "epoch: 1: train error: 1.9817669672124527, validation error: 1.9048669670201555, validation accuracy: 0.31180775316455694\n"
     ]
    },
    {
     "name": "stderr",
     "output_type": "stream",
     "text": [
      "                                                           "
     ]
    },
    {
     "name": "stdout",
     "output_type": "stream",
     "text": [
      "epoch: 2: train error: 1.8484944586863603, validation error: 1.7432475180565556, validation accuracy: 0.37361550632911394\n"
     ]
    },
    {
     "name": "stderr",
     "output_type": "stream",
     "text": [
      "                                                           "
     ]
    },
    {
     "name": "stdout",
     "output_type": "stream",
     "text": [
      "epoch: 3: train error: 1.7110785300774343, validation error: 1.6140859232673161, validation accuracy: 0.42049050632911394\n"
     ]
    },
    {
     "name": "stderr",
     "output_type": "stream",
     "text": [
      "                                                           "
     ]
    },
    {
     "name": "stdout",
     "output_type": "stream",
     "text": [
      "epoch: 4: train error: 1.6189525362170871, validation error: 1.5892763152907166, validation accuracy: 0.4311708860759494\n"
     ]
    },
    {
     "name": "stderr",
     "output_type": "stream",
     "text": [
      "                                                           "
     ]
    },
    {
     "name": "stdout",
     "output_type": "stream",
     "text": [
      "epoch: 5: train error: 1.5606027137288048, validation error: 1.5389797415914415, validation accuracy: 0.44343354430379744\n"
     ]
    },
    {
     "name": "stderr",
     "output_type": "stream",
     "text": [
      "                                                           "
     ]
    },
    {
     "name": "stdout",
     "output_type": "stream",
     "text": [
      "epoch: 6: train error: 1.5154737877418927, validation error: 1.4732524594174157, validation accuracy: 0.4755735759493671\n"
     ]
    },
    {
     "name": "stderr",
     "output_type": "stream",
     "text": [
      "                                                           "
     ]
    },
    {
     "name": "stdout",
     "output_type": "stream",
     "text": [
      "epoch: 7: train error: 1.4810904099813202, validation error: 1.4793821663796147, validation accuracy: 0.47379351265822783\n"
     ]
    },
    {
     "name": "stderr",
     "output_type": "stream",
     "text": [
      "                                                           "
     ]
    },
    {
     "name": "stdout",
     "output_type": "stream",
     "text": [
      "epoch: 8: train error: 1.4502518616064126, validation error: 1.4253209904779363, validation accuracy: 0.4864517405063291\n"
     ]
    },
    {
     "name": "stderr",
     "output_type": "stream",
     "text": [
      "                                                           "
     ]
    },
    {
     "name": "stdout",
     "output_type": "stream",
     "text": [
      "epoch: 9: train error: 1.4246810766132287, validation error: 1.4267650691768792, validation accuracy: 0.48595727848101267\n"
     ]
    },
    {
     "name": "stderr",
     "output_type": "stream",
     "text": [
      "                                                           "
     ]
    },
    {
     "name": "stdout",
     "output_type": "stream",
     "text": [
      "epoch: 10: train error: 1.4007421198403438, validation error: 1.4556893713866608, validation accuracy: 0.4834849683544304\n"
     ]
    },
    {
     "name": "stderr",
     "output_type": "stream",
     "text": [
      "                                                           "
     ]
    },
    {
     "name": "stdout",
     "output_type": "stream",
     "text": [
      "epoch: 11: train error: 1.381774458738849, validation error: 1.393226920803891, validation accuracy: 0.5024723101265823\n"
     ]
    },
    {
     "name": "stderr",
     "output_type": "stream",
     "text": [
      "                                                           "
     ]
    },
    {
     "name": "stdout",
     "output_type": "stream",
     "text": [
      "epoch: 12: train error: 1.3612029775024375, validation error: 1.352237897583201, validation accuracy: 0.5134493670886076\n"
     ]
    },
    {
     "name": "stderr",
     "output_type": "stream",
     "text": [
      "                                                           "
     ]
    },
    {
     "name": "stdout",
     "output_type": "stream",
     "text": [
      "epoch: 13: train error: 1.3493227333668858, validation error: 1.3562669482412217, validation accuracy: 0.5124604430379747\n"
     ]
    },
    {
     "name": "stderr",
     "output_type": "stream",
     "text": [
      "                                                           "
     ]
    },
    {
     "name": "stdout",
     "output_type": "stream",
     "text": [
      "epoch: 14: train error: 1.3339436575579826, validation error: 1.3407098749015904, validation accuracy: 0.5144382911392406\n"
     ]
    },
    {
     "name": "stderr",
     "output_type": "stream",
     "text": [
      "                                                           "
     ]
    },
    {
     "name": "stdout",
     "output_type": "stream",
     "text": [
      "epoch: 15: train error: 1.3184330804878488, validation error: 1.3231682913212837, validation accuracy: 0.5215585443037974\n"
     ]
    },
    {
     "name": "stderr",
     "output_type": "stream",
     "text": [
      "                                                           "
     ]
    },
    {
     "name": "stdout",
     "output_type": "stream",
     "text": [
      "epoch: 16: train error: 1.3080514123677598, validation error: 1.3582308307478699, validation accuracy: 0.5096914556962026\n"
     ]
    },
    {
     "name": "stderr",
     "output_type": "stream",
     "text": [
      "                                                           "
     ]
    },
    {
     "name": "stdout",
     "output_type": "stream",
     "text": [
      "epoch: 17: train error: 1.2915711829729397, validation error: 1.336576656450199, validation accuracy: 0.5166139240506329\n"
     ]
    },
    {
     "name": "stderr",
     "output_type": "stream",
     "text": [
      "                                                           "
     ]
    },
    {
     "name": "stdout",
     "output_type": "stream",
     "text": [
      "epoch: 18: train error: 1.2856413394288944, validation error: 1.3394837138019031, validation accuracy: 0.5187895569620253\n"
     ]
    },
    {
     "name": "stderr",
     "output_type": "stream",
     "text": [
      "                                                           "
     ]
    },
    {
     "name": "stdout",
     "output_type": "stream",
     "text": [
      "epoch: 19: train error: 1.2702101571175752, validation error: 1.2915775157228302, validation accuracy: 0.5363924050632911\n"
     ]
    },
    {
     "name": "stderr",
     "output_type": "stream",
     "text": [
      "                                                           "
     ]
    },
    {
     "name": "stdout",
     "output_type": "stream",
     "text": [
      "epoch: 0: train error: 2.181844763743603, validation error: 2.033788457701478, validation accuracy: 0.27986550632911394\n"
     ]
    },
    {
     "name": "stderr",
     "output_type": "stream",
     "text": [
      "                                                           "
     ]
    },
    {
     "name": "stdout",
     "output_type": "stream",
     "text": [
      "epoch: 1: train error: 1.9780196558179148, validation error: 1.9214899268331407, validation accuracy: 0.28530458860759494\n"
     ]
    },
    {
     "name": "stderr",
     "output_type": "stream",
     "text": [
      "                                                           "
     ]
    },
    {
     "name": "stdout",
     "output_type": "stream",
     "text": [
      "epoch: 2: train error: 1.872556737621727, validation error: 1.8054777700689775, validation accuracy: 0.3416732594936709\n"
     ]
    },
    {
     "name": "stderr",
     "output_type": "stream",
     "text": [
      "                                                           "
     ]
    },
    {
     "name": "stdout",
     "output_type": "stream",
     "text": [
      "epoch: 3: train error: 1.7085244899515606, validation error: 1.6190808573855628, validation accuracy: 0.416435917721519\n"
     ]
    },
    {
     "name": "stderr",
     "output_type": "stream",
     "text": [
      "                                                           "
     ]
    },
    {
     "name": "stdout",
     "output_type": "stream",
     "text": [
      "epoch: 4: train error: 1.6043801835125975, validation error: 1.59483738337891, validation accuracy: 0.424248417721519\n"
     ]
    },
    {
     "name": "stderr",
     "output_type": "stream",
     "text": [
      "                                                           "
     ]
    },
    {
     "name": "stdout",
     "output_type": "stream",
     "text": [
      "epoch: 5: train error: 1.5424438596076673, validation error: 1.5147289852552777, validation accuracy: 0.4530261075949367\n"
     ]
    },
    {
     "name": "stderr",
     "output_type": "stream",
     "text": [
      "                                                           "
     ]
    },
    {
     "name": "stdout",
     "output_type": "stream",
     "text": [
      "epoch: 6: train error: 1.5013652686267862, validation error: 1.4734188333342346, validation accuracy: 0.47151898734177217\n"
     ]
    },
    {
     "name": "stderr",
     "output_type": "stream",
     "text": [
      "                                                           "
     ]
    },
    {
     "name": "stdout",
     "output_type": "stream",
     "text": [
      "epoch: 7: train error: 1.4723482866726263, validation error: 1.4753910861437833, validation accuracy: 0.46825553797468356\n"
     ]
    },
    {
     "name": "stderr",
     "output_type": "stream",
     "text": [
      "                                                           "
     ]
    },
    {
     "name": "stdout",
     "output_type": "stream",
     "text": [
      "epoch: 8: train error: 1.449843161856122, validation error: 1.4464855118642879, validation accuracy: 0.481309335443038\n"
     ]
    },
    {
     "name": "stderr",
     "output_type": "stream",
     "text": [
      "                                                           "
     ]
    },
    {
     "name": "stdout",
     "output_type": "stream",
     "text": [
      "epoch: 9: train error: 1.4307571847725402, validation error: 1.4215510615819618, validation accuracy: 0.48872626582278483\n"
     ]
    },
    {
     "name": "stderr",
     "output_type": "stream",
     "text": [
      "                                                           "
     ]
    },
    {
     "name": "stdout",
     "output_type": "stream",
     "text": [
      "epoch: 10: train error: 1.408124537114292, validation error: 1.4909485171112833, validation accuracy: 0.4759691455696203\n"
     ]
    },
    {
     "name": "stderr",
     "output_type": "stream",
     "text": [
      "                                                           "
     ]
    },
    {
     "name": "stdout",
     "output_type": "stream",
     "text": [
      "epoch: 11: train error: 1.3937143047752283, validation error: 1.4132543077951745, validation accuracy: 0.4921875\n"
     ]
    },
    {
     "name": "stderr",
     "output_type": "stream",
     "text": [
      "                                                           "
     ]
    },
    {
     "name": "stdout",
     "output_type": "stream",
     "text": [
      "epoch: 12: train error: 1.3744693756713282, validation error: 1.387349109106426, validation accuracy: 0.4991099683544304\n"
     ]
    },
    {
     "name": "stderr",
     "output_type": "stream",
     "text": [
      "                                                           "
     ]
    },
    {
     "name": "stdout",
     "output_type": "stream",
     "text": [
      "epoch: 13: train error: 1.3620397605554526, validation error: 1.3611913542204266, validation accuracy: 0.509493670886076\n"
     ]
    },
    {
     "name": "stderr",
     "output_type": "stream",
     "text": [
      "                                                           "
     ]
    },
    {
     "name": "stdout",
     "output_type": "stream",
     "text": [
      "epoch: 14: train error: 1.3494090009528352, validation error: 1.3590973359120042, validation accuracy: 0.5124604430379747\n"
     ]
    },
    {
     "name": "stderr",
     "output_type": "stream",
     "text": [
      "                                                           "
     ]
    },
    {
     "name": "stdout",
     "output_type": "stream",
     "text": [
      "epoch: 15: train error: 1.3309070905456153, validation error: 1.3595271487779255, validation accuracy: 0.5103837025316456\n"
     ]
    },
    {
     "name": "stderr",
     "output_type": "stream",
     "text": [
      "                                                           "
     ]
    },
    {
     "name": "stdout",
     "output_type": "stream",
     "text": [
      "epoch: 16: train error: 1.320479457640587, validation error: 1.3181850034979326, validation accuracy: 0.5257120253164557\n"
     ]
    },
    {
     "name": "stderr",
     "output_type": "stream",
     "text": [
      "                                                           "
     ]
    },
    {
     "name": "stdout",
     "output_type": "stream",
     "text": [
      "epoch: 17: train error: 1.311035198933633, validation error: 1.3615991194036943, validation accuracy: 0.5091969936708861\n"
     ]
    },
    {
     "name": "stderr",
     "output_type": "stream",
     "text": [
      "                                                           "
     ]
    },
    {
     "name": "stdout",
     "output_type": "stream",
     "text": [
      "epoch: 18: train error: 1.2968604095146785, validation error: 1.3124389331552047, validation accuracy: 0.5304588607594937\n"
     ]
    },
    {
     "name": "stderr",
     "output_type": "stream",
     "text": [
      "                                                           "
     ]
    },
    {
     "name": "stdout",
     "output_type": "stream",
     "text": [
      "epoch: 19: train error: 1.2856355829312063, validation error: 1.285955864417402, validation accuracy: 0.5374802215189873\n"
     ]
    },
    {
     "name": "stderr",
     "output_type": "stream",
     "text": [
      "\r"
     ]
    }
   ],
   "source": [
    "# num_epoch = 20\n",
    "# train_losses, val_losses, val_accuracies = utils.learn(conv_model, train_loader, val_loader, opt, F.cross_entropy, num_epoch=num_epoch)\n",
    "# train_losses_l2, val_losses_l2, val_accuracies_l2 = utils.learn(conv_model_l2, train_loader, val_loader, opt_l2, F.cross_entropy, num_epoch=num_epoch)"
   ]
  },
  {
   "cell_type": "code",
   "execution_count": 22,
   "id": "4fcd1609-b7d3-46c8-a3e5-c6c5fbd31167",
   "metadata": {},
   "outputs": [
    {
     "data": {
      "text/plain": [
       "<matplotlib.legend.Legend at 0x7fff2a99b2b0>"
      ]
     },
     "execution_count": 22,
     "metadata": {},
     "output_type": "execute_result"
    },
    {
     "data": {
      "image/png": "[encoded data removed]",
      "text/plain": [
       "<Figure size 640x480 with 1 Axes>"
      ]
     },
     "metadata": {},
     "output_type": "display_data"
    }
   ],
   "source": [
    "# 描画\n",
    "import matplotlib.pyplot as plt\n",
    "# plt.plot(train_losses, label='train loss without weigth decay')\n",
    "# plt.plot(train_losses_l2, label='train loss with weight decay')\n",
    "plt.plot(val_losses, label='val loss withou t weight decay')\n",
    "plt.plot(val_losses_l2, label='val loss without weight decay')\n",
    "plt.xlabel('epoch')\n",
    "plt.ylabel('loss')\n",
    "plt.legend()"
   ]
  },
  {
   "cell_type": "code",
   "execution_count": 19,
   "id": "7d26ce7a-3773-4c12-99cf-d3559eeca09d",
   "metadata": {},
   "outputs": [
    {
     "data": {
      "text/plain": [
       "<matplotlib.legend.Legend at 0x7fff2a9d4940>"
      ]
     },
     "execution_count": 19,
     "metadata": {},
     "output_type": "execute_result"
    },
    {
     "data": {
      "image/png": "[encoded data removed]",
      "text/plain": [
       "<Figure size 640x480 with 1 Axes>"
      ]
     },
     "metadata": {},
     "output_type": "display_data"
    }
   ],
   "source": [
    "plt.plot(train_losses, label='train loss without weigth decay')\n",
    "plt.plot(train_losses_l2, label='train loss with weight decay')\n",
    "# plt.plot(val_losses, label='val loss withou t weight decay')\n",
    "# plt.plot(val_losses_l2, label='val loss without weight decay')\n",
    "plt.xlabel('epoch')\n",
    "plt.ylabel('loss')\n",
    "plt.legend()"
   ]
  },
  {
   "cell_type": "code",
   "execution_count": null,
   "id": "ce4c1d6b-d552-4776-add2-725a0775b061",
   "metadata": {},
   "outputs": [],
   "source": []
  },
  {
   "cell_type": "markdown",
   "id": "c2664f1c-a0be-4150-9881-fbcbaddaa48a",
   "metadata": {},
   "source": [
    "## Dropout"
   ]
  },
  {
   "cell_type": "markdown",
   "id": "040bc582-d0f8-49f3-af7b-3dfb8822ebc0",
   "metadata": {},
   "source": [
    "### スクラッチでDropoutを実装する"
   ]
  },
  {
   "cell_type": "code",
   "execution_count": 18,
   "id": "12091582-8873-4c1b-a33e-973b5945a1fc",
   "metadata": {},
   "outputs": [],
   "source": [
    "# dropoutの関数を実装する\n",
    "def dropout(X, drop_p):\n",
    "    # drop_p分でなくす. -> 1 - drop_p分残す\n",
    "    keep_p = 1 - drop_p\n",
    "    mask = torch.rand(X.shape) < keep_p\n",
    "    return X * mask / keep_p"
   ]
  },
  {
   "cell_type": "code",
   "execution_count": 22,
   "id": "3a77db9d-68cb-45d1-b345-a952cacbda2e",
   "metadata": {},
   "outputs": [
    {
     "data": {
      "text/plain": [
       "tensor([[ 1.1410, -0.0000, -0.4729,  ..., -0.8791, -2.5388, -1.9363],\n",
       "        [-0.8938,  0.0000, -0.0000,  ...,  0.0000, -1.9348,  0.4656],\n",
       "        [-2.6353, -1.5070,  0.0000,  ...,  0.1731,  0.3867,  2.6484],\n",
       "        ...,\n",
       "        [-3.4791,  0.9292,  1.6697,  ...,  0.0000, -0.5510, -2.4964],\n",
       "        [ 2.0496,  0.3838, -2.2762,  ...,  0.4343,  0.4701, -0.9204],\n",
       "        [ 0.8369,  2.9693,  0.1071,  ...,  1.6421,  0.1972,  0.9035]])"
      ]
     },
     "execution_count": 22,
     "metadata": {},
     "output_type": "execute_result"
    }
   ],
   "source": [
    "X = torch.randn(100, 100)\n",
    "# 本来はReLU -> dropoutだが、省略する\n",
    "droped_X =dropout(X, 0.3)\n",
    "droped_X"
   ]
  },
  {
   "cell_type": "code",
   "execution_count": 12,
   "id": "eeded119-65a4-455d-bd4c-cd5ff2e44119",
   "metadata": {},
   "outputs": [
    {
     "data": {
      "text/plain": [
       "tensor(39)"
      ]
     },
     "execution_count": 12,
     "metadata": {},
     "output_type": "execute_result"
    }
   ],
   "source": [
    "# つまり、randnは0 ~ 1をランダムに取るから、その値が0.4より小さいならTrueとする -> 40%の確率で残る\n",
    "torch.sum(torch.rand((10, 10)) < 1 - 0.6)"
   ]
  },
  {
   "cell_type": "code",
   "execution_count": 15,
   "id": "66b71559-e95a-40a8-ad89-38049d3ed707",
   "metadata": {},
   "outputs": [
    {
     "data": {
      "text/plain": [
       "tensor(139.7141)"
      ]
     },
     "execution_count": 15,
     "metadata": {},
     "output_type": "execute_result"
    }
   ],
   "source": [
    "X = torch.randn(100, 100)\n",
    "keep_p = 0.3\n",
    "mask = (torch.rand(X.shape) < keep_p)\n",
    "(X*mask).sum() / keep_p"
   ]
  },
  {
   "cell_type": "code",
   "execution_count": 16,
   "id": "e5e1f6e8-e015-48aa-be9b-76643cf7b855",
   "metadata": {},
   "outputs": [],
   "source": [
    "def relu(X):\n",
    "    return torch.clamp(X, min=0)\n",
    "    "
   ]
  },
  {
   "cell_type": "code",
   "execution_count": null,
   "id": "751bcaf6-8139-4b57-b4d5-9370f15edd23",
   "metadata": {},
   "outputs": [],
   "source": []
  },
  {
   "cell_type": "markdown",
   "id": "a880a060-0f6e-4148-b93e-32f2a3f1fd97",
   "metadata": {},
   "source": [
    "### Dropoutを実装"
   ]
  },
  {
   "cell_type": "code",
   "execution_count": 23,
   "id": "be4ac557-03a7-4e5f-a6f2-6f1fad575984",
   "metadata": {},
   "outputs": [],
   "source": [
    "model = nn.Sequential(\n",
    "    nn.Linear(64, 20),\n",
    "    nn.ReLU(),\n",
    "    # 40%で0にする\n",
    "    nn.Dropout(p=0.4),\n",
    "    nn.Linear(20, 10)\n",
    ")"
   ]
  },
  {
   "cell_type": "code",
   "execution_count": null,
   "id": "37ce2ec6-5827-40ec-9940-8210ed4cb748",
   "metadata": {},
   "outputs": [],
   "source": []
  },
  {
   "cell_type": "code",
   "execution_count": null,
   "id": "d08da669-326d-49be-91c2-630e8a7b5def",
   "metadata": {},
   "outputs": [],
   "source": []
  },
  {
   "cell_type": "code",
   "execution_count": null,
   "id": "6b0ad3e2-0fd3-42f9-992c-56f16827917e",
   "metadata": {},
   "outputs": [],
   "source": []
  },
  {
   "cell_type": "code",
   "execution_count": null,
   "id": "9799a55b-8eea-44a0-9c51-c4ce9aee9672",
   "metadata": {},
   "outputs": [],
   "source": []
  },
  {
   "cell_type": "code",
   "execution_count": null,
   "id": "f33d74a2-3f3c-4e48-ac5e-86804acdf191",
   "metadata": {},
   "outputs": [],
   "source": []
  }
 ],
 "metadata": {
  "kernelspec": {
   "display_name": "Python 3 (ipykernel)",
   "language": "python",
   "name": "python3"
  },
  "language_info": {
   "codemirror_mode": {
    "name": "ipython",
    "version": 3
   },
   "file_extension": ".py",
   "mimetype": "text/x-python",
   "name": "python",
   "nbconvert_exporter": "python",
   "pygments_lexer": "ipython3",
   "version": "3.8.18"
  }
 },
 "nbformat": 4,
 "nbformat_minor": 5
}
