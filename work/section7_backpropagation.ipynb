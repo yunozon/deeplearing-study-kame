{
 "cells": [
  {
   "cell_type": "markdown",
   "id": "2d1f4e28-a714-4770-a37c-ece0da05910a",
   "metadata": {},
   "source": [
    "# backpropagation"
   ]
  },
  {
   "cell_type": "markdown",
   "id": "828b2621-dd56-4f8b-847d-68dc32e59252",
   "metadata": {},
   "source": [
    "## backwardを実装"
   ]
  },
  {
   "cell_type": "code",
   "execution_count": 182,
   "id": "1df8216c-ccf4-4fa4-9437-662fa1e0702f",
   "metadata": {},
   "outputs": [],
   "source": [
    "import torch\n",
    "import numpy as np\n",
    "from sklearn import datasets\n",
    "import matplotlib.pyplot as plt\n",
    "\n",
    "import torch.nn.functional as F\n",
    "from sklearn.model_selection import train_test_split"
   ]
  },
  {
   "cell_type": "code",
   "execution_count": 195,
   "id": "916be61d-3a7d-4e29-8f20-d0a972a0c815",
   "metadata": {},
   "outputs": [],
   "source": [
    "def linear_backward(A, W, b, Z):\n",
    "    W.grad_ = Z.grad_.T @ A\n",
    "    b.grad_ = torch.sum(Z.grad_, dim=0)\n",
    "    A.grad_ = Z.grad_ @ W\n",
    "\n",
    "def relu_backward(Z, A):\n",
    "    Z.grad_ = A.grad_ * (Z > 0).float()\n",
    "\n",
    "# softmax\n",
    "def softmax(x):\n",
    "    e_x = torch.exp(x - torch.max(x, dim=-1, keepdim=True)[0])\n",
    "    return e_x / (torch.sum(e_x, dim=-1, keepdim=True) + 1e-10)\n",
    "\n",
    "# cross_entropy\n",
    "def cross_entropy(y_true, y_pred):\n",
    "    return torch.sum(y_true * torch.log(y_pred)) / y_true.shape[0]\n",
    "\n",
    "# softmax関数とcross_entropyを一つにまとめる\n",
    "def softmax_cross_entorpy(x, y_true):\n",
    "    e_x = torch.exp(x - torch.max(x, dim=-1, keepdim=True)[0])\n",
    "    softmax_out = e_x / (torch.sum(e_x, dim=-1, keepdim=True) + 1e-10)\n",
    "    loss = -torch.sum(y_true * torch.log(softmax_out + 1e-10)) / y_true.shape[0]\n",
    "    return loss, softmax_out\n",
    "    \n",
    "    "
   ]
  },
  {
   "cell_type": "code",
   "execution_count": 196,
   "id": "1dac4d91-f71e-4afe-a013-09c3f5aebefe",
   "metadata": {},
   "outputs": [],
   "source": [
    "# model\n",
    "def linear(X, W, b):\n",
    "    return X@W.T + b\n",
    "\n",
    "def relu(Z):\n",
    "    # .clapm_minの中より小さいのは()で置き換える\n",
    "    return Z.clamp_min(0.)\n",
    "\n",
    "def forward_and_backward(X, y):\n",
    "    # forward\n",
    "    Z1 = linear(X, W1, b1)\n",
    "    Z1.retain_grad()\n",
    "    A1 = relu(Z1)\n",
    "    A1.retain_grad()\n",
    "    Z2 = linear(A1, W2, b2)\n",
    "    Z2.retain_grad()\n",
    "    \n",
    "    # 出力層\n",
    "    loss, A2 = softmax_cross_entorpy(Z2, y)\n",
    "\n",
    "    # backward\n",
    "    Z2.grad_ = (A2 - y)/ X.shape[0]\n",
    "    linear_backward(A1, W2, b2, Z2)\n",
    "    relu_backward(Z1, A1)\n",
    "    linear_backward(X, W1, b1, Z1)\n",
    "    return loss, Z1, A1, Z2, A2\n",
    "    \n"
   ]
  },
  {
   "cell_type": "code",
   "execution_count": null,
   "id": "90fcda9f-5824-444c-b4d1-062fb8be8c13",
   "metadata": {},
   "outputs": [],
   "source": []
  },
  {
   "cell_type": "code",
   "execution_count": null,
   "id": "f6993b58-ae6f-4bf0-9b9b-d6118b192828",
   "metadata": {},
   "outputs": [],
   "source": []
  },
  {
   "cell_type": "markdown",
   "id": "0dc24b27-b6ab-4a01-b004-33ebed1e449f",
   "metadata": {},
   "source": [
    "## Autogradとスクラッチで実装したbackpropagationが一致することを確かめる"
   ]
  },
  {
   "cell_type": "code",
   "execution_count": 197,
   "id": "0f5c0539-621e-4700-826d-f912cc4b55e4",
   "metadata": {},
   "outputs": [],
   "source": [
    "# MNISTデータをロード\n",
    "dataset = datasets.load_digits()"
   ]
  },
  {
   "cell_type": "code",
   "execution_count": 198,
   "id": "b7c0f00f-9f94-46e8-a6e2-060644b2ad88",
   "metadata": {},
   "outputs": [],
   "source": [
    "images = dataset['images']\n",
    "target = dataset['target']"
   ]
  },
  {
   "cell_type": "code",
   "execution_count": 199,
   "id": "32f61cd2-cdae-4e7f-9aa5-fbd4568d7c6d",
   "metadata": {},
   "outputs": [
    {
     "name": "stdout",
     "output_type": "stream",
     "text": [
      "(1797, 8, 8)\n",
      "(1797,)\n"
     ]
    }
   ],
   "source": [
    "# 確認\n",
    "print(images.shape)\n",
    "print(target.shape)"
   ]
  },
  {
   "cell_type": "code",
   "execution_count": 200,
   "id": "93b38835-8437-47c3-856b-5175095a62f2",
   "metadata": {},
   "outputs": [],
   "source": [
    "# 前処理と画像の標準化とデータ分割\n",
    "# データの分割\n",
    "\n",
    "X_train, X_test, y_train, y_test = train_test_split(images, target, test_size=0.2, random_state=42)\n",
    "\n",
    "\n",
    "# one-hot\n",
    "y_train = F.one_hot(torch.tensor(y_train), num_classes = 10)\n",
    "y_test = F.one_hot(torch.tensor(y_test), num_classes=10)\n",
    "X_train = torch.tensor(X_train, dtype=torch.float32).reshape(-1, 64)\n",
    "# import pdb; pdb.set_trace()\n",
    "X_test  = torch.tensor(X_test, dtype=torch.float32).reshape(-1, 64)\n",
    "\n",
    "# 標準化\n",
    "X_mean = X_train.mean()\n",
    "X_std = X_train.std()\n",
    "X_train = (X_train - X_mean) / X_std\n",
    "X_test =  (X_test - X_mean) / X_std\n",
    "\n"
   ]
  },
  {
   "cell_type": "code",
   "execution_count": 201,
   "id": "81ab2c9e-112f-418c-b07f-62bc6001a4c7",
   "metadata": {},
   "outputs": [
    {
     "name": "stdout",
     "output_type": "stream",
     "text": [
      "True\n",
      "True\n",
      "True\n",
      "True\n"
     ]
    }
   ],
   "source": [
    "# パラメータの初期化\n",
    "nh = 30\n",
    "class_num = 10\n",
    "m, n = X_train.shape # 入力\n",
    "\n",
    "# W1 = torch.randn((nh, n), requires_grad=True)\n",
    "W1 = torch.randn((nh, n ) ) * torch.sqrt(torch.tensor((2./n)))\n",
    "W1.requires_grad = True\n",
    "b1 = torch.zeros((1, nh), requires_grad=True)\n",
    "\n",
    "# W2 = torch.randn((class_num, nh), requires_grad=True)\n",
    "W2 = torch.randn((class_num, nh ) ) * torch.sqrt(torch.tensor((2./nh)))\n",
    "W2.requires_grad = True\n",
    "\n",
    "b2 = torch.zeros((1, class_num), requires_grad=True)\n",
    "\n",
    "loss, Z1, A1, Z2, A2 = forward_and_backward(X_train, y_train)\n",
    "loss.backward()\n",
    "\n",
    "# autogradと等しいことを確認する\n",
    "print(torch.allclose(W1.grad_, W1.grad))\n",
    "print(torch.allclose(b1.grad_, b1.grad))\n",
    "print(torch.allclose(W2.grad_, W2.grad))\n",
    "print(torch.allclose(b2.grad_, b2.grad))\n"
   ]
  },
  {
   "cell_type": "code",
   "execution_count": 202,
   "id": "1dffb83a-541f-436e-9a2a-d7f75f42f1e3",
   "metadata": {},
   "outputs": [
    {
     "data": {
      "text/plain": [
       "tensor([[-0.0099, -0.0087,  0.0038,  ...,  0.0252,  0.0110, -0.0019],\n",
       "        [-0.0284, -0.0241,  0.0220,  ..., -0.0099, -0.0318, -0.0302],\n",
       "        [-0.0336, -0.0374, -0.0598,  ...,  0.0433, -0.0011, -0.0251],\n",
       "        ...,\n",
       "        [-0.0999, -0.0988, -0.0558,  ...,  0.1000, -0.0427, -0.0972],\n",
       "        [-0.0093, -0.0086, -0.0055,  ...,  0.0215,  0.0052, -0.0091],\n",
       "        [ 0.0069,  0.0066,  0.0066,  ..., -0.0181,  0.0043,  0.0082]],\n",
       "       grad_fn=<MmBackward0>)"
      ]
     },
     "execution_count": 202,
     "metadata": {},
     "output_type": "execute_result"
    }
   ],
   "source": [
    "W1.grad_"
   ]
  },
  {
   "cell_type": "code",
   "execution_count": null,
   "id": "d1b8714d-fc4c-4b47-af33-b53ec0cb5aa8",
   "metadata": {},
   "outputs": [],
   "source": []
  },
  {
   "cell_type": "code",
   "execution_count": null,
   "id": "554000f7-37d2-47fa-9d98-5251d0543d81",
   "metadata": {},
   "outputs": [],
   "source": [
    "W1.grad"
   ]
  },
  {
   "cell_type": "code",
   "execution_count": null,
   "id": "b53be8c7-5b9e-43c2-bba9-afa5625d4d97",
   "metadata": {},
   "outputs": [],
   "source": [
    "torch.sum(W1.grad_ == W1.grad)"
   ]
  },
  {
   "cell_type": "code",
   "execution_count": null,
   "id": "1b3750a6-f28b-4c7e-9414-4e68d0bc04af",
   "metadata": {},
   "outputs": [],
   "source": [
    "Z2.grad_"
   ]
  },
  {
   "cell_type": "code",
   "execution_count": null,
   "id": "eef2c943-923f-42b1-b682-c064020eec59",
   "metadata": {},
   "outputs": [],
   "source": [
    "Z2.grad"
   ]
  },
  {
   "cell_type": "code",
   "execution_count": null,
   "id": "dbf897f3-2d53-43db-b896-4b30e20c63d5",
   "metadata": {},
   "outputs": [],
   "source": [
    "torch.sum(Z2.grad_ == Z2.grad)"
   ]
  },
  {
   "cell_type": "code",
   "execution_count": null,
   "id": "3200c229-5111-419a-b840-830e35694c7a",
   "metadata": {},
   "outputs": [],
   "source": []
  },
  {
   "cell_type": "code",
   "execution_count": null,
   "id": "b7546a59-381c-4d6e-a663-4d7e926f3d05",
   "metadata": {},
   "outputs": [],
   "source": []
  },
  {
   "cell_type": "code",
   "execution_count": null,
   "id": "f2f8e034-dec3-4b49-bee9-09be78073628",
   "metadata": {},
   "outputs": [],
   "source": []
  },
  {
   "cell_type": "code",
   "execution_count": null,
   "id": "ead7a76c-dbf1-49b1-bf8d-4c492624b5cf",
   "metadata": {},
   "outputs": [],
   "source": []
  },
  {
   "cell_type": "code",
   "execution_count": null,
   "id": "03659ccf-958a-4e68-8ee4-101d5bf13d21",
   "metadata": {},
   "outputs": [],
   "source": []
  },
  {
   "cell_type": "code",
   "execution_count": null,
   "id": "400b16c7-3f7e-4f4a-8196-60bca6fe9872",
   "metadata": {},
   "outputs": [],
   "source": []
  },
  {
   "cell_type": "code",
   "execution_count": null,
   "id": "49657ef6-42a3-4de0-967b-02acd57b4a1a",
   "metadata": {},
   "outputs": [],
   "source": []
  },
  {
   "cell_type": "code",
   "execution_count": null,
   "id": "16089db1-fe85-4797-86fd-0351556c097c",
   "metadata": {},
   "outputs": [],
   "source": []
  },
  {
   "cell_type": "code",
   "execution_count": null,
   "id": "d2aa22c2-aabe-47c7-8061-bd918e7169fa",
   "metadata": {},
   "outputs": [],
   "source": []
  },
  {
   "cell_type": "code",
   "execution_count": null,
   "id": "a0b03c9c-2af8-44b2-ac3f-bf2cdcd49c6e",
   "metadata": {},
   "outputs": [],
   "source": [
    "\n"
   ]
  }
 ],
 "metadata": {
  "kernelspec": {
   "display_name": "Python 3 (ipykernel)",
   "language": "python",
   "name": "python3"
  },
  "language_info": {
   "codemirror_mode": {
    "name": "ipython",
    "version": 3
   },
   "file_extension": ".py",
   "mimetype": "text/x-python",
   "name": "python",
   "nbconvert_exporter": "python",
   "pygments_lexer": "ipython3",
   "version": "3.8.18"
  }
 },
 "nbformat": 4,
 "nbformat_minor": 5
}
