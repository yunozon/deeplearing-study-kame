{
 "cells": [
  {
   "cell_type": "code",
   "execution_count": 13,
   "id": "2a0d2275-c0b3-4d6c-a0b5-9ab316648667",
   "metadata": {},
   "outputs": [],
   "source": [
    "# ライブラリ\n",
    "import time\n",
    "\n",
    "import torch\n",
    "import torchvision\n",
    "import numpy\n",
    "from torchvision import transforms\n",
    "from torch import optim, nn\n",
    "import matplotlib.pyplot as plt\n",
    "import pandas as pd\n",
    "import torch.nn.functional as F\n",
    "from torch.utils.data import DataLoader\n"
   ]
  },
  {
   "cell_type": "markdown",
   "id": "37d52c28-2373-4415-8340-9efd450f5961",
   "metadata": {},
   "source": [
    "## Pooling Layer"
   ]
  },
  {
   "cell_type": "markdown",
   "id": "d0da7b90-7831-4b88-a41a-e8d3541692ab",
   "metadata": {},
   "source": [
    "### Pooling Layerの実装"
   ]
  },
  {
   "cell_type": "code",
   "execution_count": 11,
   "id": "313738dc-8c45-4c12-8ef0-5884ec9d994a",
   "metadata": {},
   "outputs": [],
   "source": [
    "def max_pooling(X, kernel_size=2, stride=2):\n",
    "    # 2つのfor文が必要 -> 行と列\n",
    "    X_h, X_w = X.shape\n",
    "    # output_dataで全体\n",
    "    output_data = []\n",
    "    \n",
    "    for i in range(0, X_h - kernel_size + 1 , stride):\n",
    "        # 各行のPooling Layerの結果リスト\n",
    "        row = []\n",
    "        for j in range(0, X_w - kernel_size + 1, stride):\n",
    "            row.append(X[i:i+kernel_size, j:j + kernel_size].max().item())\n",
    "        output_data.append(row)\n",
    "\n",
    "    # output_dataは2重のリスト -> tensorで返す\n",
    "    return torch.tensor(output_data)"
   ]
  },
  {
   "cell_type": "code",
   "execution_count": 4,
   "id": "e134f3bb-21a9-4f7e-98ec-a1085f69c3de",
   "metadata": {},
   "outputs": [
    {
     "data": {
      "text/plain": [
       "[0, 2, 4, 6, 8]"
      ]
     },
     "execution_count": 4,
     "metadata": {},
     "output_type": "execute_result"
    }
   ],
   "source": [
    "list(range(0, 10, 2))"
   ]
  },
  {
   "cell_type": "code",
   "execution_count": 7,
   "id": "76da4a7a-7a2c-4cd7-a05a-eb3af8a1b45e",
   "metadata": {},
   "outputs": [
    {
     "data": {
      "text/plain": [
       "tensor([[ 9.1882e-03,  1.2648e+00, -8.9548e-02,  1.5777e-01,  3.6658e-01,\n",
       "         -1.4760e+00, -4.1927e-01, -1.5019e+00,  7.3932e-01, -1.9316e+00],\n",
       "        [-3.0236e-01,  6.8257e-01,  1.2812e+00,  1.5360e+00, -1.8397e+00,\n",
       "         -1.4720e+00, -1.1495e+00, -6.0637e-01,  1.0009e+00,  5.6880e-01],\n",
       "        [ 4.2695e-01,  1.1521e+00,  1.1153e+00,  1.2723e+00,  4.6337e-01,\n",
       "         -8.8391e-01, -5.9059e-01,  4.9275e-01,  3.7180e-01,  8.9132e-01],\n",
       "        [-8.5886e-01,  8.1191e-01,  2.2431e-01, -6.1972e-01,  2.3964e+00,\n",
       "         -6.0985e-01,  7.7234e-01,  8.8816e-01,  1.2133e+00,  1.9372e+00],\n",
       "        [-5.2708e-01,  1.0526e+00,  6.4253e-01, -6.9700e-01, -1.8623e-01,\n",
       "          1.6916e+00, -2.0841e-01,  1.0645e-01, -9.1570e-01,  1.6907e+00],\n",
       "        [-6.1019e-01,  2.7628e-01,  6.6511e-01, -9.6864e-02,  1.4281e+00,\n",
       "          9.6458e-02, -3.8315e-01, -2.9375e-01,  4.0688e-01, -7.9941e-01],\n",
       "        [ 1.3277e+00,  3.1105e-03, -2.1702e+00, -1.2622e+00, -8.7651e-01,\n",
       "         -2.0181e-01,  2.0125e+00, -8.4076e-01,  2.6756e-02, -4.0963e-01],\n",
       "        [-3.5844e-01,  1.4872e+00, -9.3661e-01, -2.7042e-01, -1.3936e+00,\n",
       "          1.4756e+00,  2.6158e-01,  1.0746e+00, -2.5752e-01,  3.4850e+00],\n",
       "        [ 7.0690e-01,  6.4144e-01,  1.5143e+00, -1.2021e+00, -2.3220e-01,\n",
       "         -5.7607e-02,  1.8201e+00,  1.0412e+00, -9.1301e-01,  6.4397e-01],\n",
       "        [ 1.8616e-01, -1.8411e+00,  3.1293e-01,  1.5652e+00,  1.3496e+00,\n",
       "         -5.4384e-01,  1.0708e+00, -1.1042e+00, -5.7818e-01, -7.3365e-01]])"
      ]
     },
     "execution_count": 7,
     "metadata": {},
     "output_type": "execute_result"
    }
   ],
   "source": [
    "X = torch.randn(10, 10)\n",
    "X"
   ]
  },
  {
   "cell_type": "code",
   "execution_count": 10,
   "id": "e2461da5-f5a7-44e9-96dd-63b7fdd153b4",
   "metadata": {},
   "outputs": [
    {
     "data": {
      "text/plain": [
       "1.2722848653793335"
      ]
     },
     "execution_count": 10,
     "metadata": {},
     "output_type": "execute_result"
    }
   ],
   "source": [
    "X[2:2+2, 2:2+2].max().item()"
   ]
  },
  {
   "cell_type": "code",
   "execution_count": null,
   "id": "9af2c55c-4a40-44b1-a7d3-376ffb26ec0e",
   "metadata": {},
   "outputs": [],
   "source": [
    "### 自作したPooling層を使ってみる"
   ]
  },
  {
   "cell_type": "code",
   "execution_count": 27,
   "id": "e4f696f6-004e-44bb-ab92-2472e126933f",
   "metadata": {},
   "outputs": [],
   "source": [
    "# 実際のデータでやってみる\n",
    "\n",
    "# データ準備\n",
    "\n",
    "# PIL -> tensor, 正規化\n",
    "transform = transforms.Compose([\n",
    "    transforms.ToTensor(),\n",
    "    transforms.Normalize((0.5,), (0.5,))\n",
    "])\n",
    "\n",
    "train_dataset = torchvision.datasets.MNIST('./mnist_data', train=True, download=True,transform=transform )\n",
    "val_dataset = torchvision.datasets.MNIST('./mnist_data', train=False, download=True, transform=transform)\n",
    "\n",
    "# dataloader\n",
    "train_loader = DataLoader(train_dataset, batch_size=128, shuffle=True, num_workers=4)\n",
    "val_loader = DataLoader(val_dataset, batch_size=128, num_workers=4)\n",
    "\n"
   ]
  },
  {
   "cell_type": "code",
   "execution_count": 28,
   "id": "38effe9d-f0a4-4722-8244-fd54af810bd6",
   "metadata": {},
   "outputs": [
    {
     "data": {
      "text/plain": [
       "torch.Size([1, 28, 28])"
      ]
     },
     "execution_count": 28,
     "metadata": {},
     "output_type": "execute_result"
    }
   ],
   "source": [
    "X, y = train_dataset[0]\n",
    "X.shape"
   ]
  },
  {
   "cell_type": "code",
   "execution_count": 29,
   "id": "1eeaaf1d-9a4b-4a7b-83de-f17d7db8fe39",
   "metadata": {},
   "outputs": [
    {
     "data": {
      "text/plain": [
       "torch.Size([14, 14])"
      ]
     },
     "execution_count": 29,
     "metadata": {},
     "output_type": "execute_result"
    }
   ],
   "source": [
    "# 今回は、Xがrank2を想定しているから後半2つを取る\n",
    "X_ = X[0, :, :]\n",
    "max_out = max_pooling(X_)\n",
    "max_out.shape"
   ]
  },
  {
   "cell_type": "code",
   "execution_count": 30,
   "id": "2b1dcb70-bccf-4134-92d9-216a7a81b3f4",
   "metadata": {},
   "outputs": [
    {
     "data": {
      "text/plain": [
       "tensor([[-1.0000, -1.0000, -1.0000, -1.0000, -1.0000, -1.0000, -1.0000, -1.0000,\n",
       "         -1.0000, -1.0000, -1.0000, -1.0000, -1.0000, -1.0000],\n",
       "        [-1.0000, -1.0000, -1.0000, -1.0000, -1.0000, -1.0000, -1.0000, -1.0000,\n",
       "         -1.0000, -1.0000, -1.0000, -1.0000, -1.0000, -1.0000],\n",
       "        [-1.0000, -1.0000, -1.0000, -1.0000, -1.0000, -1.0000, -0.8588, -0.8588,\n",
       "          0.0667,  0.3725,  1.0000,  0.9373, -1.0000, -1.0000],\n",
       "        [-1.0000, -1.0000, -1.0000, -0.6157,  0.9843,  0.9843,  0.9843,  0.9843,\n",
       "          0.9843,  0.7647,  0.9843,  0.5294, -1.0000, -1.0000],\n",
       "        [-1.0000, -1.0000, -1.0000, -0.8588,  0.9843,  0.9843,  0.9843,  0.5529,\n",
       "          0.9373, -1.0000, -1.0000, -1.0000, -1.0000, -1.0000],\n",
       "        [-1.0000, -1.0000, -1.0000, -1.0000, -0.8902,  0.2078,  0.9843, -0.9843,\n",
       "         -1.0000, -1.0000, -1.0000, -1.0000, -1.0000, -1.0000],\n",
       "        [-1.0000, -1.0000, -1.0000, -1.0000, -1.0000, -0.9137,  0.9843,  0.7647,\n",
       "         -0.1529, -1.0000, -1.0000, -1.0000, -1.0000, -1.0000],\n",
       "        [-1.0000, -1.0000, -1.0000, -1.0000, -1.0000, -1.0000, -0.3647,  0.9843,\n",
       "          0.9843,  0.1765, -1.0000, -1.0000, -1.0000, -1.0000],\n",
       "        [-1.0000, -1.0000, -1.0000, -1.0000, -1.0000, -1.0000, -1.0000, -0.8745,\n",
       "          0.9765,  0.9843, -0.4980, -1.0000, -1.0000, -1.0000],\n",
       "        [-1.0000, -1.0000, -1.0000, -1.0000, -1.0000, -1.0000,  0.1608,  0.9843,\n",
       "          0.9843,  0.9843, -0.9843, -1.0000, -1.0000, -1.0000],\n",
       "        [-1.0000, -1.0000, -1.0000, -1.0000, -0.4824,  0.9843,  0.9843,  0.9843,\n",
       "          0.9843, -0.3882, -1.0000, -1.0000, -1.0000, -1.0000],\n",
       "        [-1.0000, -1.0000,  0.3490,  0.9843,  0.9843,  0.9843,  0.9843, -0.3725,\n",
       "         -1.0000, -1.0000, -1.0000, -1.0000, -1.0000, -1.0000],\n",
       "        [-1.0000, -1.0000,  0.9843,  0.9843,  0.6627,  0.0353, -1.0000, -1.0000,\n",
       "         -1.0000, -1.0000, -1.0000, -1.0000, -1.0000, -1.0000],\n",
       "        [-1.0000, -1.0000, -1.0000, -1.0000, -1.0000, -1.0000, -1.0000, -1.0000,\n",
       "         -1.0000, -1.0000, -1.0000, -1.0000, -1.0000, -1.0000]])"
      ]
     },
     "execution_count": 30,
     "metadata": {},
     "output_type": "execute_result"
    }
   ],
   "source": [
    "max_out"
   ]
  },
  {
   "cell_type": "code",
   "execution_count": 32,
   "id": "32ec7978-39f8-48ae-8fbc-f488cb70b269",
   "metadata": {},
   "outputs": [
    {
     "data": {
      "text/plain": [
       "<matplotlib.image.AxesImage at 0x7fff102fa190>"
      ]
     },
     "execution_count": 32,
     "metadata": {},
     "output_type": "execute_result"
    },
    {
     "data": {
      "image/png": "[encoded data removed]",
      "text/plain": [
       "<Figure size 640x480 with 1 Axes>"
      ]
     },
     "metadata": {},
     "output_type": "display_data"
    }
   ],
   "source": [
    "# 縮小した画像を表示してみる\n",
    "X = X / 2 + 0.5 # -1 ~ 1 -> 0 ~ 1に追加\n",
    "plt.imshow(X_, cmap='gray')"
   ]
  },
  {
   "cell_type": "code",
   "execution_count": 33,
   "id": "3e8b5929-35fe-4899-9ad5-35da50896ab2",
   "metadata": {},
   "outputs": [
    {
     "data": {
      "text/plain": [
       "<matplotlib.image.AxesImage at 0x7fff0eee2190>"
      ]
     },
     "execution_count": 33,
     "metadata": {},
     "output_type": "execute_result"
    },
    {
     "data": {
      "image/png": "[encoded data removed]",
      "text/plain": [
       "<Figure size 640x480 with 1 Axes>"
      ]
     },
     "metadata": {},
     "output_type": "display_data"
    }
   ],
   "source": [
    "# maxpoolingしたあと\n",
    "plt.imshow(max_pooling(X_), cmap='gray')"
   ]
  },
  {
   "cell_type": "markdown",
   "id": "faf24eaf-8a7d-477f-9e76-bf86060032bd",
   "metadata": {},
   "source": [
    "### 実際にConv -> ReLU -> Poolingを試してみる"
   ]
  },
  {
   "cell_type": "code",
   "execution_count": 41,
   "id": "8a665214-6fd2-4db5-992c-ee8c5a26a061",
   "metadata": {},
   "outputs": [
    {
     "data": {
      "text/plain": [
       "<matplotlib.image.AxesImage at 0x7fff0fcf26d0>"
      ]
     },
     "execution_count": 41,
     "metadata": {},
     "output_type": "execute_result"
    },
    {
     "data": {
      "image/png": "[encoded data removed]",
      "text/plain": [
       "<Figure size 640x480 with 1 Axes>"
      ]
     },
     "metadata": {},
     "output_type": "display_data"
    }
   ],
   "source": [
    "# 最初の画像\n",
    "plt.imshow(X_, cmap='gray')"
   ]
  },
  {
   "cell_type": "code",
   "execution_count": 38,
   "id": "9c0b8b75-111d-46fd-b8f6-9c06ab25d465",
   "metadata": {},
   "outputs": [],
   "source": [
    "# upper edge fileter\n",
    "top_edge_filter = torch.tensor([[-1, -1, -1], \n",
    "                                [0,0,0], \n",
    "                                [1,1,1]])\n",
    "\n",
    "\n",
    "\n",
    "\n",
    "# 関数化\n",
    "def apply_filter(im, filter):\n",
    "    # 画像の縦横\n",
    "    im_h, im_w = im.shape\n",
    "    # filterの縦横\n",
    "    f_h, f_w = top_edge_filter.shape\n",
    "    output_data = []\n",
    "    for i in range(im_h - f_h + 1):\n",
    "        row = []\n",
    "        for j in range(im_w - f_w + 1):\n",
    "            row.append((im[i:i+f_h, j:j+f_w] * filter).sum().item())\n",
    "        output_data.append(row)\n",
    "\n",
    "    return torch.tensor(output_data)\n",
    "\n",
    "\n",
    "\n",
    "# ReLU\n",
    "def relu(X):\n",
    "    return torch.clamp(X, min=0)"
   ]
  },
  {
   "cell_type": "code",
   "execution_count": 36,
   "id": "daedb0f9-3953-4e67-9305-35d217030977",
   "metadata": {},
   "outputs": [
    {
     "data": {
      "text/plain": [
       "<matplotlib.image.AxesImage at 0x7fff1136d6d0>"
      ]
     },
     "execution_count": 36,
     "metadata": {},
     "output_type": "execute_result"
    },
    {
     "data": {
      "image/png": "[encoded data removed]",
      "text/plain": [
       "<Figure size 640x480 with 1 Axes>"
      ]
     },
     "metadata": {},
     "output_type": "display_data"
    }
   ],
   "source": [
    "# 畳み込み層を実装した後の画像\n",
    "conv_out = apply_filter(X_, top_edge_filter)\n",
    "plt.imshow(conv_out, cmap='gray')"
   ]
  },
  {
   "cell_type": "code",
   "execution_count": 39,
   "id": "f60ce051-872e-463c-a238-6a1149bf6ac3",
   "metadata": {},
   "outputs": [
    {
     "data": {
      "text/plain": [
       "<matplotlib.image.AxesImage at 0x7fff0fc2a2b0>"
      ]
     },
     "execution_count": 39,
     "metadata": {},
     "output_type": "execute_result"
    },
    {
     "data": {
      "image/png": "[encoded data removed]",
      "text/plain": [
       "<Figure size 640x480 with 1 Axes>"
      ]
     },
     "metadata": {},
     "output_type": "display_data"
    }
   ],
   "source": [
    "# ReLU層実装\n",
    "relu_out = relu(conv_out)\n",
    "plt.imshow(relu_out, cmap='gray')"
   ]
  },
  {
   "cell_type": "code",
   "execution_count": 40,
   "id": "bdfbd0e0-ac73-4dbe-92e2-40d4a5e69925",
   "metadata": {},
   "outputs": [
    {
     "data": {
      "text/plain": [
       "<matplotlib.image.AxesImage at 0x7fff100ecfd0>"
      ]
     },
     "execution_count": 40,
     "metadata": {},
     "output_type": "execute_result"
    },
    {
     "data": {
      "image/png": "[encoded data removed]",
      "text/plain": [
       "<Figure size 640x480 with 1 Axes>"
      ]
     },
     "metadata": {},
     "output_type": "display_data"
    }
   ],
   "source": [
    "# max Pooling (サイズ削減)\n",
    "max_out = max_pooling(relu_out)\n",
    "plt.imshow(max_out, cmap='gray')"
   ]
  },
  {
   "cell_type": "markdown",
   "id": "a8d81c58-3157-4f33-9474-71eb1d25a368",
   "metadata": {},
   "source": [
    "### Pytorchのmax pooling Layer"
   ]
  },
  {
   "cell_type": "code",
   "execution_count": 60,
   "id": "7d3adf31-6739-46cb-b646-24fee724e7a1",
   "metadata": {},
   "outputs": [],
   "source": [
    "conv_model = nn.Sequential(\n",
    "    # 1x28x28\n",
    "    nn.Conv2d(1, 4, kernel_size=3, stride=1, padding=1),\n",
    "    nn.ReLU(),\n",
    "    nn.MaxPool2d(2, 2),\n",
    "\n",
    "    # 4x14x14\n",
    "    nn.Conv2d(4, 8, kernel_size=3, stride=1, padding=1),\n",
    "    nn.ReLU(),\n",
    "    nn.MaxPool2d(2, 2),    \n",
    "\n",
    "    # 8x7x7\n",
    "    nn.Conv2d(8, 16, kernel_size=3, stride=1, padding=1),\n",
    "    nn.ReLU(),\n",
    "    nn.MaxPool2d(2, 2),    \n",
    "\n",
    "    # 16x3x3\n",
    "    nn.Conv2d(16, 32, kernel_size=3, stride=1, padding=1),\n",
    "    nn.ReLU(),\n",
    "    nn.MaxPool2d(2, 2),    \n",
    "\n",
    "    # 32x1x1\n",
    "    nn.Conv2d(32, 10, kernel_size=3, stride=1, padding=1),\n",
    "    # nn.MaxPool2d(2, 2),\n",
    "    # 10x1x1\n",
    "    nn.Flatten()\n",
    "    \n",
    "    \n",
    ")\n",
    "\n",
    "class ConvModel(nn.Module):\n",
    "\n",
    "    def __init__(self, in_ch):\n",
    "\n",
    "        super().__init__()\n",
    "        self.conv1 = nn.Conv2d(in_ch, 4, kernel_size=3, stride=1, padding=1)\n",
    "        self.conv2 = nn.Conv2d(4, 8, kernel_size=3, stride=1, padding=1)\n",
    "        self.conv3 = nn.Conv2d(8, 16, kernel_size=3, stride=1, padding=1)\n",
    "        self.conv4 = nn.Conv2d(16, 32, kernel_size=3, stride=1, padding=1)\n",
    "        self.conv5 = nn.Conv2d(32, 10, kernel_size=3, stride=1, padding=1)\n",
    "        self.flatten = nn.Flatten()\n",
    "\n",
    "\n",
    "    def forward(self, X):\n",
    "        X = F.relu(self.conv1(X))\n",
    "        X = F.max_pool2d(X, 2)\n",
    "            \n",
    "        X = F.relu(self.conv2(X))\n",
    "        X = F.max_pool2d(X, 2)       \n",
    "        \n",
    "        X = F.relu(self.conv3(X))\n",
    "        X = F.max_pool2d(X, 2)        \n",
    "        \n",
    "        X = F.relu(self.conv4(X))\n",
    "        X = F.max_pool2d(X, 2)       \n",
    "        \n",
    "        X = F.relu(self.conv5(X))\n",
    "        X = self.flatten(X)\n",
    "\n",
    "        return X"
   ]
  },
  {
   "cell_type": "code",
   "execution_count": 54,
   "id": "357fb83d-62d4-42e8-9270-84844a9b1451",
   "metadata": {},
   "outputs": [],
   "source": [
    "X, y = next(iter(train_loader))"
   ]
  },
  {
   "cell_type": "code",
   "execution_count": 55,
   "id": "011d69f9-7e93-4fa7-ab67-cdf29dd9bd3a",
   "metadata": {},
   "outputs": [
    {
     "data": {
      "text/plain": [
       "torch.Size([128, 1, 28, 28])"
      ]
     },
     "execution_count": 55,
     "metadata": {},
     "output_type": "execute_result"
    }
   ],
   "source": [
    "X.shape"
   ]
  },
  {
   "cell_type": "code",
   "execution_count": 56,
   "id": "9949dd77-0d5f-43d7-90d5-61644523c7fe",
   "metadata": {},
   "outputs": [],
   "source": [
    "preds = conv_model(X)"
   ]
  },
  {
   "cell_type": "code",
   "execution_count": 57,
   "id": "f40d37df-6bc9-4dba-b977-a0f5c59b0935",
   "metadata": {},
   "outputs": [
    {
     "data": {
      "text/plain": [
       "torch.Size([128, 10])"
      ]
     },
     "execution_count": 57,
     "metadata": {},
     "output_type": "execute_result"
    }
   ],
   "source": [
    "preds.shape"
   ]
  },
  {
   "cell_type": "code",
   "execution_count": null,
   "id": "2d93cf1f-a390-4aab-93f7-7cb376f8b148",
   "metadata": {},
   "outputs": [],
   "source": []
  },
  {
   "cell_type": "code",
   "execution_count": 59,
   "id": "72035488-4e02-4f67-8a2a-9825926a9198",
   "metadata": {},
   "outputs": [],
   "source": [
    "X, y = next(iter(train_loader))"
   ]
  },
  {
   "cell_type": "code",
   "execution_count": 61,
   "id": "f1ac631b-7fc0-4918-883d-813dc8841a8b",
   "metadata": {},
   "outputs": [],
   "source": [
    "conv_model2 = ConvModel(in_ch=1)"
   ]
  },
  {
   "cell_type": "code",
   "execution_count": 62,
   "id": "3419dbc9-17a2-413b-beee-b47f1eaf3b22",
   "metadata": {},
   "outputs": [],
   "source": [
    "preds = conv_model2(X)"
   ]
  },
  {
   "cell_type": "code",
   "execution_count": 63,
   "id": "b6cac251-ccc0-45a1-ba85-dcca09c142eb",
   "metadata": {},
   "outputs": [
    {
     "data": {
      "text/plain": [
       "tensor([[0.0000, 0.0275, 0.0601,  ..., 0.0644, 0.0000, 0.0000],\n",
       "        [0.0003, 0.0297, 0.0632,  ..., 0.0650, 0.0000, 0.0000],\n",
       "        [0.0000, 0.0292, 0.0618,  ..., 0.0657, 0.0000, 0.0000],\n",
       "        ...,\n",
       "        [0.0000, 0.0256, 0.0616,  ..., 0.0641, 0.0000, 0.0000],\n",
       "        [0.0000, 0.0289, 0.0638,  ..., 0.0652, 0.0000, 0.0000],\n",
       "        [0.0000, 0.0266, 0.0603,  ..., 0.0620, 0.0000, 0.0000]],\n",
       "       grad_fn=<ViewBackward0>)"
      ]
     },
     "execution_count": 63,
     "metadata": {},
     "output_type": "execute_result"
    }
   ],
   "source": [
    "preds"
   ]
  },
  {
   "cell_type": "code",
   "execution_count": 64,
   "id": "e28f2f44-844e-4f5d-ac84-ac1e4ecb1a78",
   "metadata": {},
   "outputs": [
    {
     "data": {
      "text/plain": [
       "torch.Size([128, 10])"
      ]
     },
     "execution_count": 64,
     "metadata": {},
     "output_type": "execute_result"
    }
   ],
   "source": [
    "preds.shape"
   ]
  },
  {
   "cell_type": "code",
   "execution_count": null,
   "id": "2bb32be0-27db-49e8-a2c2-c6f1824ec975",
   "metadata": {},
   "outputs": [],
   "source": []
  }
 ],
 "metadata": {
  "kernelspec": {
   "display_name": "Python 3 (ipykernel)",
   "language": "python",
   "name": "python3"
  },
  "language_info": {
   "codemirror_mode": {
    "name": "ipython",
    "version": 3
   },
   "file_extension": ".py",
   "mimetype": "text/x-python",
   "name": "python",
   "nbconvert_exporter": "python",
   "pygments_lexer": "ipython3",
   "version": "3.8.18"
  }
 },
 "nbformat": 4,
 "nbformat_minor": 5
}
