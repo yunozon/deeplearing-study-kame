{
 "cells": [
  {
   "cell_type": "markdown",
   "id": "0bf93d51-1411-4f95-b27e-943f212a5653",
   "metadata": {},
   "source": [
    "## Transposed conv"
   ]
  },
  {
   "cell_type": "markdown",
   "id": "c4b69c3a-76f0-4d21-93b2-c2e21db3e84f",
   "metadata": {},
   "source": [
    "### transposed convの実装"
   ]
  },
  {
   "cell_type": "code",
   "execution_count": 61,
   "id": "95ab1b5c-e1db-4509-b0a0-d923d4bd3dbb",
   "metadata": {},
   "outputs": [
    {
     "name": "stdout",
     "output_type": "stream",
     "text": [
      "The autoreload extension is already loaded. To reload it, use:\n",
      "  %reload_ext autoreload\n"
     ]
    }
   ],
   "source": [
    "# ライブラリ\n",
    "import torch\n",
    "from torch import nn\n",
    "import torchvision\n",
    "from torchvision import datasets\n",
    "from torch.utils.data import DataLoader\n",
    "import torchvision.models as models\n",
    "from torchvision.models import ResNet18_Weights\n",
    "from torchvision.datasets import CIFAR10\n",
    "from torchvision import transforms\n",
    "from torch import optim\n",
    "import torch.nn.functional as F\n",
    "from tqdm import tqdm\n",
    "\n",
    "\n",
    "import matplotlib.pyplot as plt\n",
    "%load_ext autoreload\n",
    "%autoreload 2\n",
    "import utils\n",
    "import time"
   ]
  },
  {
   "cell_type": "code",
   "execution_count": 47,
   "id": "ac16fb34-a6cc-4820-84e1-b98170a399ba",
   "metadata": {},
   "outputs": [],
   "source": [
    "def conv_transposed2d(input, weight, stride=1, padding=1):\n",
    "    batch_size, ch_in, h_in, w_in = input.shape\n",
    "    _, ch_out, f_h, f_w = weight.shape\n",
    "\n",
    "    # 出力サイズ\n",
    "    h_out = stride * (h_in - 1) + f_h - 2 * padding\n",
    "    w_out = stride * (w_in -1 ) + f_w - 2 * padding\n",
    "\n",
    "    output = torch.zeros([batch_size, ch_out, h_out, w_out])\n",
    "\n",
    "    for b in range(batch_size):\n",
    "        for i in range(ch_in):\n",
    "            for o in range(ch_out):\n",
    "                for h in range(h_in):\n",
    "                    for w in range(w_in):\n",
    "                        h_start = h * stride - padding\n",
    "                        w_start = w * stride - padding\n",
    "                        for f_h_idx in range(f_h):\n",
    "                            for f_w_idx in range(f_w):\n",
    "                                # 出力位置の計算\n",
    "                                h_out_idx = h_start + f_h_idx\n",
    "                                w_out_idx = w_start + f_w_idx\n",
    "    \n",
    "                                if 0 <= h_out_idx < h_out and 0 <= w_out_idx < w_out:\n",
    "                                    output[b, o, h_out_idx, w_out_idx] += input[b, i, h, w] * weight[i, o, f_h_idx, f_w_idx]\n",
    "    return output\n",
    "    "
   ]
  },
  {
   "cell_type": "code",
   "execution_count": 48,
   "id": "2900d04f-6b00-43de-99ac-dfc17e75033a",
   "metadata": {},
   "outputs": [
    {
     "data": {
      "text/plain": [
       "torch.Size([1, 16, 29, 29])"
      ]
     },
     "execution_count": 48,
     "metadata": {},
     "output_type": "execute_result"
    }
   ],
   "source": [
    "input = torch.randn(1, 3, 16, 16)\n",
    "weight = torch.randn(3, 16, 3, 3)\n",
    "\n",
    "output = conv_transposed2d(input, weight, stride=2, padding=2)\n",
    "output.shape"
   ]
  },
  {
   "cell_type": "code",
   "execution_count": 41,
   "id": "80196d12-8e0e-4fa3-9532-ccc996baae7a",
   "metadata": {},
   "outputs": [
    {
     "data": {
      "text/plain": [
       "torch.Size([1, 1, 0, 0])"
      ]
     },
     "execution_count": 41,
     "metadata": {},
     "output_type": "execute_result"
    }
   ],
   "source": [
    "input = torch.tensor([[1., 2.], [3., 4.]])\n",
    "weight = torch.tensor([[-1., 1.], [-2., 2.]])\n",
    "\n",
    "input = input.unsqueeze(0).unsqueeze(0)\n",
    "weight = weight.unsqueeze(0).unsqueeze(0)\n",
    "\n",
    "output = conv_transposed2d(input, weight, stride=2, padding=2)\n",
    "output.shape"
   ]
  },
  {
   "cell_type": "code",
   "execution_count": 29,
   "id": "06f8f5b9-5b1d-4e03-86eb-5f84d36377a2",
   "metadata": {},
   "outputs": [
    {
     "data": {
      "text/plain": [
       "torch.Size([1, 1, 2, 2])"
      ]
     },
     "execution_count": 29,
     "metadata": {},
     "output_type": "execute_result"
    }
   ],
   "source": []
  },
  {
   "cell_type": "code",
   "execution_count": 49,
   "id": "2a834396-1009-445e-a654-3d604d4aabb9",
   "metadata": {},
   "outputs": [],
   "source": [
    "convt_layer = nn.ConvTranspose2d(3, 16, kernel_size=3, stride=2, padding=2, bias=False)\n",
    "output_ = convt_layer(input)"
   ]
  },
  {
   "cell_type": "code",
   "execution_count": 50,
   "id": "e07cbebd-7fd6-4a7b-9900-2c1b03b233d6",
   "metadata": {},
   "outputs": [
    {
     "data": {
      "text/plain": [
       "True"
      ]
     },
     "execution_count": 50,
     "metadata": {},
     "output_type": "execute_result"
    }
   ],
   "source": [
    "# 結果を確かめる\n",
    "input = torch.randn(1, 3, 5, 5)\n",
    "convt_layer = nn.ConvTranspose2d(3, 4, kernel_size=3, stride=2, padding=2, bias=False)\n",
    "weight = convt_layer.weight\n",
    "output_scratch = conv_transposed2d(input, weight, stride=2, padding=2)\n",
    "output = convt_layer(input)\n",
    "torch.allclose(output, output_scratch)"
   ]
  },
  {
   "cell_type": "code",
   "execution_count": 51,
   "id": "354f4ca9-3dd2-4ccf-9357-7cfb9ab9712c",
   "metadata": {},
   "outputs": [],
   "source": [
    "output_scratch = conv_transposed2d(input, weight, stride=2, padding=2)\n"
   ]
  },
  {
   "cell_type": "code",
   "execution_count": 59,
   "id": "f3c7a170-1284-4225-986f-90ac114e105c",
   "metadata": {},
   "outputs": [
    {
     "name": "stdout",
     "output_type": "stream",
     "text": [
      "ConvTranspose2d(1, 1, kernel_size=(2, 2), stride=(2, 2), padding=(1, 1), bias=False)\n"
     ]
    },
    {
     "data": {
      "text/plain": [
       "tensor([[[[ 2., -4.],\n",
       "          [ 3., -4.]]]], grad_fn=<ConvolutionBackward0>)"
      ]
     },
     "execution_count": 59,
     "metadata": {},
     "output_type": "execute_result"
    }
   ],
   "source": [
    "tensor = torch.tensor([[[[1, 2],\n",
    "                         [3, 4 ]]]]).float() \n",
    "                      \n",
    "conv_trans = nn.ConvTranspose2d(1, 1, kernel_size=2,\n",
    "                                stride=2, padding=1, bias=False) \n",
    "print(conv_trans)\n",
    "\n",
    "\n",
    "with torch.no_grad():\n",
    "    conv_trans.weight = nn.Parameter(torch.tensor([[[[-1, 1],\n",
    "                                                     [-2, 2]]]]).float()) #Kernelの初期値を修正\n",
    "\n",
    "conv_trans(tensor) #転置畳み込み\n"
   ]
  },
  {
   "cell_type": "markdown",
   "id": "d294da79-2e16-4309-867b-96ea97d39f24",
   "metadata": {},
   "source": [
    "## Autoencoder"
   ]
  },
  {
   "cell_type": "markdown",
   "id": "4e1278dc-b345-406d-8ca9-ac7c55341d50",
   "metadata": {},
   "source": [
    "### MNISTで試す\n"
   ]
  },
  {
   "cell_type": "code",
   "execution_count": 80,
   "id": "cea61d96-1613-4b5b-b69a-c8aa14eec14f",
   "metadata": {},
   "outputs": [],
   "source": [
    "# MNISTを取得する\n",
    "transform = transforms.Compose([\n",
    "    transforms.ToTensor(),\n",
    "    transforms.Normalize((0.5, ), (0.5, ))\n",
    "])\n",
    "train_dataset = datasets.MNIST('./mnist_data',train=True, download=True, transform=transform)\n",
    "val_dataset = datasets.MNIST('./mnist_data',train=False, download=True, transform=transform)\n",
    "\n",
    "train_loader = DataLoader(train_dataset, batch_size=128, shuffle=True)\n",
    "val_loader = DataLoader(val_dataset, batch_size=128)\n",
    "\n"
   ]
  },
  {
   "cell_type": "code",
   "execution_count": 19,
   "id": "8d40c3bd-64e9-4de3-a4d1-16cbde70c24b",
   "metadata": {},
   "outputs": [],
   "source": [
    "X, y = next(iter(train_loader))"
   ]
  },
  {
   "cell_type": "code",
   "execution_count": 86,
   "id": "d94ce335-3d8b-41e5-a927-db596cb29422",
   "metadata": {},
   "outputs": [],
   "source": [
    "class ConvAutoencoder(nn.Module):\n",
    "    def __init__(self):\n",
    "        super().__init__()\n",
    "        self.encoder = nn.Sequential(\n",
    "            nn.Conv2d(1, 16, kernel_size=3, stride=1, padding=1),\n",
    "            nn.ReLU(),\n",
    "            nn.MaxPool2d(2, 2),\n",
    "    \n",
    "            nn.Conv2d(16, 4, kernel_size=3, stride=1, padding=1),\n",
    "            nn.ReLU(),\n",
    "            nn.MaxPool2d(2, 2),\n",
    "        )\n",
    "        self.decoder = nn.Sequential(\n",
    "            nn.ConvTranspose2d(4, 16, kernel_size=2, stride=2),\n",
    "            nn.ReLU(),\n",
    "            nn.ConvTranspose2d(16,1, kernel_size=2, stride=2),\n",
    "            nn.Sigmoid(),\n",
    "        )\n",
    "\n",
    "    def forward(self, X):\n",
    "        X = self.encoder(X)\n",
    "        X = self.decoder(X)\n",
    "        return X\n",
    "\n"
   ]
  },
  {
   "cell_type": "code",
   "execution_count": 96,
   "id": "6abe471d-b197-4500-9c63-2149f15db652",
   "metadata": {},
   "outputs": [],
   "source": [
    "class Autoencoder(nn.Module):\n",
    "    def __init__(self):\n",
    "        super().__init__()\n",
    "        # encoder\n",
    "        self.conv1 = nn.Conv2d(1, 16, 3, padding=1)\n",
    "        self.conv2 = nn.Conv2d(16, 4, 3, padding=1)\n",
    "        self.pool = nn.MaxPool2d(2, 2)\n",
    "\n",
    "        # decoder \n",
    "        self.t_conv1 = nn.ConvTranspose2d(4, 16, 2, stride=2)\n",
    "        self.t_conv2 = nn.ConvTranspose2d(16, 1, 2, stride=2)\n",
    "\n",
    "    def forward(self, X):\n",
    "        # encoder\n",
    "        X = self.pool(F.relu(self.conv1(X)))\n",
    "        X = self.pool(F.relu(self.conv2(X)))\n",
    "\n",
    "        # decoder\n",
    "        X = F.relu(self.t_conv1(X))\n",
    "        X = F.sigmoid(self.t_conv2(X))\n",
    "        return X"
   ]
  },
  {
   "cell_type": "code",
   "execution_count": 97,
   "id": "4497e2e1-1967-44b6-af4a-bf812a0bf8bf",
   "metadata": {},
   "outputs": [],
   "source": [
    "# MNISTを取得する\n",
    "transform = transforms.Compose([\n",
    "    transforms.ToTensor(),\n",
    "])\n",
    "train_dataset = datasets.MNIST('./mnist_data',train=True, download=True, transform=transform)\n",
    "val_dataset = datasets.MNIST('./mnist_data',train=False, download=True, transform=transform)\n",
    "\n",
    "train_loader = DataLoader(train_dataset, batch_size=128, shuffle=True)\n",
    "val_loader = DataLoader(val_dataset, batch_size=128)\n",
    "\n"
   ]
  },
  {
   "cell_type": "code",
   "execution_count": 98,
   "id": "411f3ff0-1ea5-40a1-80c9-394fc0d34b17",
   "metadata": {},
   "outputs": [],
   "source": [
    "model = Autoencoder()\n",
    "# loss_func = F.mse_loss\n",
    "opt = optim.Adam(model.parameters(), lr=0.01)\n",
    "num_epochs = 10"
   ]
  },
  {
   "cell_type": "code",
   "execution_count": null,
   "id": "d596cb38-877b-4d80-8378-6334638282f7",
   "metadata": {},
   "outputs": [],
   "source": []
  },
  {
   "cell_type": "code",
   "execution_count": 99,
   "id": "8f51d6a5-7170-4229-bca2-4bec090fb83c",
   "metadata": {},
   "outputs": [
    {
     "name": "stderr",
     "output_type": "stream",
     "text": [
      "                                                           \r"
     ]
    },
    {
     "name": "stdout",
     "output_type": "stream",
     "text": [
      "epoch : 1 :train loss : 6.176121798151337\n"
     ]
    },
    {
     "name": "stderr",
     "output_type": "stream",
     "text": [
      "                                                           \r"
     ]
    },
    {
     "name": "stdout",
     "output_type": "stream",
     "text": [
      "epoch : 2 :train loss : 2.415715503031765\n"
     ]
    },
    {
     "name": "stderr",
     "output_type": "stream",
     "text": [
      "                                                           \r"
     ]
    },
    {
     "name": "stdout",
     "output_type": "stream",
     "text": [
      "epoch : 3 :train loss : 2.070273109717664\n"
     ]
    },
    {
     "name": "stderr",
     "output_type": "stream",
     "text": [
      "                                                           \r"
     ]
    },
    {
     "name": "stdout",
     "output_type": "stream",
     "text": [
      "epoch : 4 :train loss : 1.9854168229774116\n"
     ]
    },
    {
     "name": "stderr",
     "output_type": "stream",
     "text": [
      "                                                           \r"
     ]
    },
    {
     "name": "stdout",
     "output_type": "stream",
     "text": [
      "epoch : 5 :train loss : 1.9297642943574422\n"
     ]
    },
    {
     "name": "stderr",
     "output_type": "stream",
     "text": [
      "                                                           \r"
     ]
    },
    {
     "name": "stdout",
     "output_type": "stream",
     "text": [
      "epoch : 6 :train loss : 1.8888470097137158\n"
     ]
    },
    {
     "name": "stderr",
     "output_type": "stream",
     "text": [
      "                                                           \r"
     ]
    },
    {
     "name": "stdout",
     "output_type": "stream",
     "text": [
      "epoch : 7 :train loss : 1.858665697546656\n"
     ]
    },
    {
     "name": "stderr",
     "output_type": "stream",
     "text": [
      "                                                           \r"
     ]
    },
    {
     "name": "stdout",
     "output_type": "stream",
     "text": [
      "epoch : 8 :train loss : 1.8353098046296694\n"
     ]
    },
    {
     "name": "stderr",
     "output_type": "stream",
     "text": [
      "                                                           \r"
     ]
    },
    {
     "name": "stdout",
     "output_type": "stream",
     "text": [
      "epoch : 9 :train loss : 1.8163412676564157\n"
     ]
    },
    {
     "name": "stderr",
     "output_type": "stream",
     "text": [
      "                                                           "
     ]
    },
    {
     "name": "stdout",
     "output_type": "stream",
     "text": [
      "epoch : 10 :train loss : 1.8012105030799979\n"
     ]
    },
    {
     "name": "stderr",
     "output_type": "stream",
     "text": [
      "\r"
     ]
    }
   ],
   "source": [
    "# 簡易的な学習ループ\n",
    "for epoch in range(1, num_epoch+1):\n",
    "\n",
    "    train_loss = 0.0\n",
    "    \n",
    "    for train_batch, data in tqdm(enumerate(train_loader), total=len(train_loader), desc=\"Training\", leave=False):\n",
    "        X, _ = data\n",
    "        # 勾配0\n",
    "        opt.zero_grad()\n",
    "\n",
    "        # forward\n",
    "        output = model(X)\n",
    "        loss = F.mse_loss(output, X)\n",
    "        train_loss += loss.item()*X.shape[0]\n",
    "\n",
    "        # backward\n",
    "        loss.backward()\n",
    "        opt.step()\n",
    "\n",
    "    train_loss = train_loss / len(train_loader)\n",
    "    print(f'epoch : {epoch} :train loss : {train_loss}')\n",
    "        \n",
    "    # model.eval()\n",
    "    # with torch.no_grad():\n",
    "    #     for val_batch\n",
    "\n"
   ]
  },
  {
   "cell_type": "code",
   "execution_count": null,
   "id": "97c9baf3-d71b-4ccc-9d56-91a907d991da",
   "metadata": {},
   "outputs": [],
   "source": []
  },
  {
   "cell_type": "code",
   "execution_count": 21,
   "id": "a7ee6c85-3a23-455a-b0cd-f2e745cd967a",
   "metadata": {},
   "outputs": [
    {
     "data": {
      "text/plain": [
       "torch.Size([128, 1, 28, 28])"
      ]
     },
     "execution_count": 21,
     "metadata": {},
     "output_type": "execute_result"
    }
   ],
   "source": []
  },
  {
   "cell_type": "code",
   "execution_count": 100,
   "id": "b06ebccb-c3c5-4184-abb5-174a2ecc8e01",
   "metadata": {},
   "outputs": [],
   "source": [
    "# Autoencoderの出力結果を見る\n",
    "val_loader = DataLoader(val_dataset, batch_size=8)\n",
    "images, label = next(iter(val_loader))"
   ]
  },
  {
   "cell_type": "code",
   "execution_count": 101,
   "id": "6f1345f0-95d2-4f94-aa04-4e45cbc29092",
   "metadata": {},
   "outputs": [],
   "source": [
    "output = model(images)\n"
   ]
  },
  {
   "cell_type": "code",
   "execution_count": 102,
   "id": "167672e4-0205-416c-9bfb-81d818daf45c",
   "metadata": {},
   "outputs": [
    {
     "data": {
      "text/plain": [
       "<matplotlib.image.AxesImage at 0x7fff0e126a30>"
      ]
     },
     "execution_count": 102,
     "metadata": {},
     "output_type": "execute_result"
    },
    {
     "data": {
      "image/png": "[encoded data removed]",
      "text/plain": [
       "<Figure size 640x480 with 1 Axes>"
      ]
     },
     "metadata": {},
     "output_type": "display_data"
    }
   ],
   "source": [
    "output_grid = torchvision.utils.make_grid(output)\n",
    "images_grid = torchvision.utils.make_grid(images)\n",
    "\n",
    "\n",
    "plt.imshow(torch.permute(images_grid, (1, 2, 0)))"
   ]
  },
  {
   "cell_type": "code",
   "execution_count": 103,
   "id": "4ea7aefd-fa17-482c-a176-5999626fe431",
   "metadata": {},
   "outputs": [
    {
     "data": {
      "text/plain": [
       "<matplotlib.image.AxesImage at 0x7fff0e0f68b0>"
      ]
     },
     "execution_count": 103,
     "metadata": {},
     "output_type": "execute_result"
    },
    {
     "data": {
      "image/png": "[encoded data removed]",
      "text/plain": [
       "<Figure size 640x480 with 1 Axes>"
      ]
     },
     "metadata": {},
     "output_type": "display_data"
    }
   ],
   "source": [
    "plt.imshow(torch.permute(output_grid, (1, 2, 0)))"
   ]
  },
  {
   "cell_type": "code",
   "execution_count": null,
   "id": "a4f3f4d0-6e02-4928-8441-b0d7a9e0af99",
   "metadata": {},
   "outputs": [],
   "source": []
  },
  {
   "cell_type": "code",
   "execution_count": null,
   "id": "9a6e132b-4c1d-4fd8-9127-bf1294f1538e",
   "metadata": {},
   "outputs": [],
   "source": []
  }
 ],
 "metadata": {
  "kernelspec": {
   "display_name": "Python 3 (ipykernel)",
   "language": "python",
   "name": "python3"
  },
  "language_info": {
   "codemirror_mode": {
    "name": "ipython",
    "version": 3
   },
   "file_extension": ".py",
   "mimetype": "text/x-python",
   "name": "python",
   "nbconvert_exporter": "python",
   "pygments_lexer": "ipython3",
   "version": "3.8.18"
  }
 },
 "nbformat": 4,
 "nbformat_minor": 5
}
