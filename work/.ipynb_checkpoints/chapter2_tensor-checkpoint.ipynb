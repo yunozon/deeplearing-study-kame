{
 "cells": [
  {
   "cell_type": "markdown",
   "id": "c0d41e8a-c22b-4909-9eb7-d12701aa446d",
   "metadata": {},
   "source": [
    "## Tensorの基礎"
   ]
  },
  {
   "cell_type": "code",
   "execution_count": 1,
   "id": "77ebc8d8-7377-493d-afec-31d360e4e2d9",
   "metadata": {},
   "outputs": [],
   "source": [
    "# ライブラリ\n",
    "import numpy as np\n",
    "import torch"
   ]
  },
  {
   "cell_type": "code",
   "execution_count": 4,
   "id": "081651e9-067b-4781-92a3-e84684495d1f",
   "metadata": {},
   "outputs": [
    {
     "data": {
      "text/plain": [
       "tensor([1, 2, 3, 4])"
      ]
     },
     "execution_count": 4,
     "metadata": {},
     "output_type": "execute_result"
    }
   ],
   "source": [
    "my_list = [1,2,3,4]\n",
    "tensor_from_list = torch.tensor(my_list)\n",
    "tensor_from_list"
   ]
  },
  {
   "cell_type": "code",
   "execution_count": 6,
   "id": "ba881f4f-276c-4ebd-8dc5-16a011550585",
   "metadata": {},
   "outputs": [
    {
     "data": {
      "text/plain": [
       "torch.int64"
      ]
     },
     "execution_count": 6,
     "metadata": {},
     "output_type": "execute_result"
    }
   ],
   "source": [
    "tensor_from_list.dtype"
   ]
  },
  {
   "cell_type": "code",
   "execution_count": 7,
   "id": "38220dd6-87f1-4fca-ba48-36572a95b742",
   "metadata": {},
   "outputs": [
    {
     "data": {
      "text/plain": [
       "tensor([1., 2., 3., 4.])"
      ]
     },
     "execution_count": 7,
     "metadata": {},
     "output_type": "execute_result"
    }
   ],
   "source": [
    "my_list = [1.,2.,3.,4.]\n",
    "tensor_from_list = torch.tensor(my_list)\n",
    "tensor_from_list"
   ]
  },
  {
   "cell_type": "code",
   "execution_count": 8,
   "id": "9293d500-06b3-4e3d-a6a1-89018d94e6cc",
   "metadata": {},
   "outputs": [
    {
     "data": {
      "text/plain": [
       "tensor([1., 2., 3., 4.], dtype=torch.float64)"
      ]
     },
     "execution_count": 8,
     "metadata": {},
     "output_type": "execute_result"
    }
   ],
   "source": [
    "tensor_from_list = torch.tensor(my_list, dtype=torch.float64)\n",
    "tensor_from_list"
   ]
  },
  {
   "cell_type": "code",
   "execution_count": 12,
   "id": "3393e628-b378-41a3-a8ac-920ce9e63030",
   "metadata": {},
   "outputs": [
    {
     "data": {
      "text/plain": [
       "tensor([[0., 0., 0.],\n",
       "        [0., 0., 0.]])"
      ]
     },
     "execution_count": 12,
     "metadata": {},
     "output_type": "execute_result"
    }
   ],
   "source": [
    "zeros_tensor = torch.zeros((2, 3))\n",
    "zeros_tensor"
   ]
  },
  {
   "cell_type": "code",
   "execution_count": 13,
   "id": "6c210b10-64a8-4623-a172-61f3c46661ca",
   "metadata": {},
   "outputs": [
    {
     "data": {
      "text/plain": [
       "tensor([[1., 1., 1.],\n",
       "        [1., 1., 1.],\n",
       "        [1., 1., 1.]])"
      ]
     },
     "execution_count": 13,
     "metadata": {},
     "output_type": "execute_result"
    }
   ],
   "source": [
    "torch.ones((3, 3))"
   ]
  },
  {
   "cell_type": "code",
   "execution_count": 14,
   "id": "b1f43908-a5c4-40fb-9702-4e14832883d3",
   "metadata": {},
   "outputs": [
    {
     "data": {
      "text/plain": [
       "tensor([[1., 0., 0.],\n",
       "        [0., 1., 0.],\n",
       "        [0., 0., 1.]])"
      ]
     },
     "execution_count": 14,
     "metadata": {},
     "output_type": "execute_result"
    }
   ],
   "source": [
    "torch.eye(3)"
   ]
  },
  {
   "cell_type": "code",
   "execution_count": 15,
   "id": "766c5671-6668-4178-9864-683fac954acc",
   "metadata": {},
   "outputs": [
    {
     "data": {
      "text/plain": [
       "tensor([[0.8288, 0.5821],\n",
       "        [0.0727, 0.5710]])"
      ]
     },
     "execution_count": 15,
     "metadata": {},
     "output_type": "execute_result"
    }
   ],
   "source": [
    "torch.rand(2, 2)"
   ]
  },
  {
   "cell_type": "code",
   "execution_count": 17,
   "id": "59328abc-1e7f-4561-81b6-f452888f5e14",
   "metadata": {},
   "outputs": [
    {
     "data": {
      "text/plain": [
       "torch.float32"
      ]
     },
     "execution_count": 17,
     "metadata": {},
     "output_type": "execute_result"
    }
   ],
   "source": [
    "torch.rand(3, 3).dtype"
   ]
  },
  {
   "cell_type": "code",
   "execution_count": 20,
   "id": "a5fc38d2-9c6f-4cba-a60f-e9cfb4fd44b2",
   "metadata": {},
   "outputs": [
    {
     "data": {
      "text/plain": [
       "array([[0., 0., 0., 0.],\n",
       "       [0., 0., 0., 0.],\n",
       "       [0., 0., 0., 0.]])"
      ]
     },
     "execution_count": 20,
     "metadata": {},
     "output_type": "execute_result"
    }
   ],
   "source": [
    "np.zeros((3,4))"
   ]
  },
  {
   "cell_type": "code",
   "execution_count": 21,
   "id": "f4cd5e8f-cd50-44f4-a458-54e544586e13",
   "metadata": {},
   "outputs": [
    {
     "data": {
      "text/plain": [
       "array([[1., 1., 1.],\n",
       "       [1., 1., 1.],\n",
       "       [1., 1., 1.]])"
      ]
     },
     "execution_count": 21,
     "metadata": {},
     "output_type": "execute_result"
    }
   ],
   "source": [
    "np.ones((3, 3))"
   ]
  },
  {
   "cell_type": "code",
   "execution_count": 22,
   "id": "395f04eb-ea89-46c8-b008-f51e3d8b32cc",
   "metadata": {},
   "outputs": [
    {
     "data": {
      "text/plain": [
       "array([[1., 0., 0.],\n",
       "       [0., 1., 0.],\n",
       "       [0., 0., 1.]])"
      ]
     },
     "execution_count": 22,
     "metadata": {},
     "output_type": "execute_result"
    }
   ],
   "source": [
    "np.eye(3)"
   ]
  },
  {
   "cell_type": "code",
   "execution_count": 28,
   "id": "f3f8870c-0b34-4055-9016-8f7d18cf10d5",
   "metadata": {},
   "outputs": [
    {
     "data": {
      "text/plain": [
       "array([0.90409498, 0.26514581, 0.00951622, 0.28150479, 0.83424564,\n",
       "       0.75543772, 0.27386626, 0.7740845 , 0.3140399 , 0.58866699,\n",
       "       0.21639093, 0.94674604, 0.12819278, 0.63655496, 0.58057643,\n",
       "       0.91913029, 0.50566141, 0.19567966, 0.12681022, 0.77418549,\n",
       "       0.992559  , 0.44181243, 0.97711495, 0.22666585, 0.69547179])"
      ]
     },
     "execution_count": 28,
     "metadata": {},
     "output_type": "execute_result"
    }
   ],
   "source": [
    "np.random.rand(25)"
   ]
  },
  {
   "cell_type": "code",
   "execution_count": 29,
   "id": "bb87977d-a394-4f17-9630-90f756a2ece1",
   "metadata": {},
   "outputs": [
    {
     "data": {
      "text/plain": [
       "torch.Size([4])"
      ]
     },
     "execution_count": 29,
     "metadata": {},
     "output_type": "execute_result"
    }
   ],
   "source": [
    "tensor_from_list.shape"
   ]
  },
  {
   "cell_type": "markdown",
   "id": "6813d79d-9319-4c86-9bf8-3378457d9597",
   "metadata": {},
   "source": [
    "## 行列の演算"
   ]
  },
  {
   "cell_type": "markdown",
   "id": "f6cd7916-8a85-46c7-bd2d-a76bfc27a937",
   "metadata": {},
   "source": [
    "### 加減算, 要素ごとの乗除算"
   ]
  },
  {
   "cell_type": "code",
   "execution_count": 3,
   "id": "69174349-3408-4dbe-b8a9-42ff3e1dd709",
   "metadata": {},
   "outputs": [
    {
     "name": "stdout",
     "output_type": "stream",
     "text": [
      "tensor([[0.6044, 0.6320, 0.4447],\n",
      "        [0.6753, 0.3147, 0.1473],\n",
      "        [0.9216, 0.0755, 0.4462]])\n"
     ]
    },
    {
     "ename": "NameError",
     "evalue": "name 'pritn' is not defined",
     "output_type": "error",
     "traceback": [
      "\u001b[0;31m---------------------------------------------------------------------------\u001b[0m",
      "\u001b[0;31mNameError\u001b[0m                                 Traceback (most recent call last)",
      "Cell \u001b[0;32mIn[3], line 5\u001b[0m\n\u001b[1;32m      2\u001b[0m b \u001b[38;5;241m=\u001b[39m torch\u001b[38;5;241m.\u001b[39mrand((\u001b[38;5;241m3\u001b[39m, \u001b[38;5;241m3\u001b[39m))\n\u001b[1;32m      4\u001b[0m \u001b[38;5;28mprint\u001b[39m(a)\n\u001b[0;32m----> 5\u001b[0m \u001b[43mpritn\u001b[49m(b)\n",
      "\u001b[0;31mNameError\u001b[0m: name 'pritn' is not defined"
     ]
    }
   ],
   "source": [
    "a = torch.rand((3, 3))\n",
    "b = torch.rand((3, 3))\n",
    "\n",
    "print(a)\n",
    "print(b)"
   ]
  },
  {
   "cell_type": "code",
   "execution_count": null,
   "id": "2cd51409-c97f-40fd-809e-f202e4e30ad6",
   "metadata": {},
   "outputs": [],
   "source": [
    "a + b"
   ]
  },
  {
   "cell_type": "code",
   "execution_count": 4,
   "id": "81f98252-bd52-4694-b2d0-c1b69583de7a",
   "metadata": {},
   "outputs": [
    {
     "data": {
      "text/plain": [
       "tensor([[-0.0577,  0.1434, -0.3054],\n",
       "        [ 0.2286,  0.0216,  0.0272],\n",
       "        [ 0.5949, -0.8641, -0.4870]])"
      ]
     },
     "execution_count": 4,
     "metadata": {},
     "output_type": "execute_result"
    }
   ],
   "source": [
    "a - b"
   ]
  },
  {
   "cell_type": "code",
   "execution_count": 5,
   "id": "559839b5-4a5f-42d7-b3da-8f7f8004489b",
   "metadata": {},
   "outputs": [
    {
     "data": {
      "text/plain": [
       "tensor([[0.4001, 0.3087, 0.3335],\n",
       "        [0.3017, 0.0922, 0.0177],\n",
       "        [0.3011, 0.0709, 0.4164]])"
      ]
     },
     "execution_count": 5,
     "metadata": {},
     "output_type": "execute_result"
    }
   ],
   "source": [
    "a * b"
   ]
  },
  {
   "cell_type": "code",
   "execution_count": 6,
   "id": "0d6c04a8-411d-4265-8e21-9b92e897f385",
   "metadata": {},
   "outputs": [
    {
     "data": {
      "text/plain": [
       "tensor([[0.9128, 1.2936, 0.5929],\n",
       "        [1.5118, 1.0736, 1.2260],\n",
       "        [2.8209, 0.0803, 0.4781]])"
      ]
     },
     "execution_count": 6,
     "metadata": {},
     "output_type": "execute_result"
    }
   ],
   "source": [
    "a / b"
   ]
  },
  {
   "cell_type": "code",
   "execution_count": 7,
   "id": "af5b3f05-5010-492d-ada4-9ee3bf2745cb",
   "metadata": {},
   "outputs": [
    {
     "data": {
      "text/plain": [
       "tensor([[0.8277, 0.8983, 0.9442],\n",
       "        [0.6358, 0.5606, 0.6818],\n",
       "        [0.7897, 0.8916, 1.1167]])"
      ]
     },
     "execution_count": 7,
     "metadata": {},
     "output_type": "execute_result"
    }
   ],
   "source": [
    "# 行列の積\n",
    "torch.mm(a, b)"
   ]
  },
  {
   "cell_type": "code",
   "execution_count": 8,
   "id": "878bd63e-648a-4b3a-9855-d0c97dcdeec2",
   "metadata": {},
   "outputs": [
    {
     "data": {
      "text/plain": [
       "tensor([[0.8277, 0.8983, 0.9442],\n",
       "        [0.6358, 0.5606, 0.6818],\n",
       "        [0.7897, 0.8916, 1.1167]])"
      ]
     },
     "execution_count": 8,
     "metadata": {},
     "output_type": "execute_result"
    }
   ],
   "source": [
    "torch.matmul(a, b)"
   ]
  },
  {
   "cell_type": "code",
   "execution_count": 9,
   "id": "c5e6b352-1663-438e-bf3e-a7de2f4bc191",
   "metadata": {},
   "outputs": [
    {
     "data": {
      "text/plain": [
       "tensor([[0.8277, 0.8983, 0.9442],\n",
       "        [0.6358, 0.5606, 0.6818],\n",
       "        [0.7897, 0.8916, 1.1167]])"
      ]
     },
     "execution_count": 9,
     "metadata": {},
     "output_type": "execute_result"
    }
   ],
   "source": [
    "a @ b"
   ]
  },
  {
   "cell_type": "markdown",
   "id": "798e05c1-2362-46ba-bd9a-10ffd109cb4f",
   "metadata": {},
   "source": [
    "### ブロードキャスティング"
   ]
  },
  {
   "cell_type": "code",
   "execution_count": 12,
   "id": "873e888a-6888-483f-83fd-ff142a92fcbc",
   "metadata": {},
   "outputs": [
    {
     "data": {
      "text/plain": [
       "tensor([[5.4692, 5.4504, 5.6012],\n",
       "        [5.9318, 5.6982, 5.0899],\n",
       "        [5.8280, 5.0785, 5.0658]])"
      ]
     },
     "execution_count": 12,
     "metadata": {},
     "output_type": "execute_result"
    }
   ],
   "source": [
    "# (3, 3)のスカラー演算\n",
    "a = torch.rand(3, 3)\n",
    "scaler = 5\n",
    "a + 5"
   ]
  },
  {
   "cell_type": "code",
   "execution_count": 13,
   "id": "6820f1a9-ab08-4f64-8379-1bf80f93c2cc",
   "metadata": {},
   "outputs": [
    {
     "data": {
      "text/plain": [
       "tensor([[0.4692, 0.4504, 0.6012],\n",
       "        [0.9318, 0.6982, 0.0899],\n",
       "        [0.8280, 0.0785, 0.0658]])"
      ]
     },
     "execution_count": 13,
     "metadata": {},
     "output_type": "execute_result"
    }
   ],
   "source": [
    "a"
   ]
  },
  {
   "cell_type": "code",
   "execution_count": 15,
   "id": "bab5e755-31dc-49a4-9502-70e738a2c6dd",
   "metadata": {},
   "outputs": [],
   "source": [
    "b = torch.rand(1, 3)"
   ]
  },
  {
   "cell_type": "code",
   "execution_count": 16,
   "id": "562da52b-509d-488e-a50d-f5b5e0ec194d",
   "metadata": {},
   "outputs": [
    {
     "data": {
      "text/plain": [
       "tensor([[0.2234, 0.9339, 0.4424]])"
      ]
     },
     "execution_count": 16,
     "metadata": {},
     "output_type": "execute_result"
    }
   ],
   "source": [
    "b"
   ]
  },
  {
   "cell_type": "code",
   "execution_count": 17,
   "id": "7846b2cc-3c74-44c0-ae2e-b66528064001",
   "metadata": {},
   "outputs": [
    {
     "data": {
      "text/plain": [
       "tensor([[0.6926, 1.3842, 1.0437],\n",
       "        [1.1552, 1.6321, 0.5323],\n",
       "        [1.0513, 1.0124, 0.5082]])"
      ]
     },
     "execution_count": 17,
     "metadata": {},
     "output_type": "execute_result"
    }
   ],
   "source": [
    "a + b"
   ]
  },
  {
   "cell_type": "code",
   "execution_count": 19,
   "id": "a02686be-2c71-45f2-8d35-2d83d55fb2fb",
   "metadata": {},
   "outputs": [],
   "source": [
    "a = torch.rand((32, 128,128, 3))\n",
    "b = torch.rand((128, 128, 3))\n",
    "# a + b"
   ]
  },
  {
   "cell_type": "code",
   "execution_count": 20,
   "id": "ad021039-b3bb-46c2-bd10-3ffb6d215360",
   "metadata": {},
   "outputs": [
    {
     "ename": "RuntimeError",
     "evalue": "The size of tensor a (3) must match the size of tensor b (6) at non-singleton dimension 3",
     "output_type": "error",
     "traceback": [
      "\u001b[0;31m---------------------------------------------------------------------------\u001b[0m",
      "\u001b[0;31mRuntimeError\u001b[0m                              Traceback (most recent call last)",
      "Cell \u001b[0;32mIn[20], line 3\u001b[0m\n\u001b[1;32m      1\u001b[0m a \u001b[38;5;241m=\u001b[39m torch\u001b[38;5;241m.\u001b[39mrand((\u001b[38;5;241m32\u001b[39m, \u001b[38;5;241m128\u001b[39m,\u001b[38;5;241m128\u001b[39m, \u001b[38;5;241m3\u001b[39m))\n\u001b[1;32m      2\u001b[0m b \u001b[38;5;241m=\u001b[39m torch\u001b[38;5;241m.\u001b[39mrand((\u001b[38;5;241m128\u001b[39m, \u001b[38;5;241m128\u001b[39m, \u001b[38;5;241m6\u001b[39m))\n\u001b[0;32m----> 3\u001b[0m \u001b[43ma\u001b[49m\u001b[43m \u001b[49m\u001b[38;5;241;43m+\u001b[39;49m\u001b[43m \u001b[49m\u001b[43mb\u001b[49m\n",
      "\u001b[0;31mRuntimeError\u001b[0m: The size of tensor a (3) must match the size of tensor b (6) at non-singleton dimension 3"
     ]
    }
   ],
   "source": [
    "a = torch.rand((32, 128,128, 3))\n",
    "b = torch.rand((128, 128, 6))\n",
    "a + b"
   ]
  },
  {
   "cell_type": "code",
   "execution_count": 22,
   "id": "6edcc892-abdf-41ca-bb7f-f5817e53cbca",
   "metadata": {},
   "outputs": [],
   "source": [
    "\n",
    "a = torch.rand((1, 128,128, 3))\n",
    "b = torch.rand((8, 128, 128, 1))\n",
    "# a + b"
   ]
  },
  {
   "cell_type": "markdown",
   "id": "ccfd50a3-87bb-47ba-8d1e-19476f1faba5",
   "metadata": {},
   "source": [
    "### 自動勾配"
   ]
  },
  {
   "cell_type": "code",
   "execution_count": 23,
   "id": "f4708687-d940-48ef-8bf1-1fd6a1a5b4cf",
   "metadata": {},
   "outputs": [
    {
     "name": "stdout",
     "output_type": "stream",
     "text": [
      "tensor([[4.5000, 4.5000],\n",
      "        [4.5000, 4.5000]])\n"
     ]
    }
   ],
   "source": [
    "# テンサーを作成し、自動微分を有効にする\n",
    "x = torch.ones(2, 2, requires_grad=True)\n",
    "\n",
    "# テンサーに対する操作\n",
    "y = x + 2\n",
    "z = y*y*3\n",
    "out = z.mean()\n",
    "\n",
    "# 勾配を計算する\n",
    "out.backward()\n",
    "\n",
    "# 勾配 d(out)/dxを出力\n",
    "print(x.grad)"
   ]
  },
  {
   "cell_type": "code",
   "execution_count": 40,
   "id": "3bff13be-033d-40d4-80d3-ca10bb248c16",
   "metadata": {},
   "outputs": [
    {
     "name": "stdout",
     "output_type": "stream",
     "text": [
      "xの勾配 tensor(1.5000)\n",
      "yの勾配 tensor(-0.2968)\n"
     ]
    }
   ],
   "source": [
    "# int型でもなくてもいい場合は、.(ドット)をつける\n",
    "x = torch.tensor(2., requires_grad=True)\n",
    "y = torch.tensor(3., requires_grad=True)\n",
    "# w,\n",
    "z = y * torch.log(x) + torch.sin(y)\n",
    "\n",
    "# 勾配を計算する\n",
    "z.backward()\n",
    "\n",
    "# 勾配を出力する\n",
    "print ('xの勾配', x.grad)\n",
    "print('yの勾配',y.grad)\n"
   ]
  },
  {
   "cell_type": "code",
   "execution_count": 29,
   "id": "8bea3bc7-ee0b-4f1e-96f2-6618debd1aa8",
   "metadata": {},
   "outputs": [
    {
     "data": {
      "text/plain": [
       "tensor(1)"
      ]
     },
     "execution_count": 29,
     "metadata": {},
     "output_type": "execute_result"
    }
   ],
   "source": [
    "torch.tensor(1)"
   ]
  },
  {
   "cell_type": "code",
   "execution_count": 45,
   "id": "bda768d4-474b-46de-9447-505c1cd984b5",
   "metadata": {},
   "outputs": [
    {
     "data": {
      "text/plain": [
       "tensor(1.5000)"
      ]
     },
     "execution_count": 45,
     "metadata": {},
     "output_type": "execute_result"
    }
   ],
   "source": [
    "x.grad"
   ]
  },
  {
   "cell_type": "code",
   "execution_count": null,
   "id": "a16041fe-bfce-4839-900b-bea07b59e461",
   "metadata": {},
   "outputs": [],
   "source": []
  },
  {
   "cell_type": "code",
   "execution_count": 53,
   "id": "74cb627e-6e54-455e-a274-359c09245e41",
   "metadata": {},
   "outputs": [
    {
     "name": "stdout",
     "output_type": "stream",
     "text": [
      "xの勾配 tensor(10.)\n",
      "yの勾配 tensor(10.)\n",
      "x+yの勾配 None\n"
     ]
    },
    {
     "name": "stderr",
     "output_type": "stream",
     "text": [
      "/tmp/ipykernel_26/2860066900.py:17: UserWarning: The .grad attribute of a Tensor that is not a leaf Tensor is being accessed. Its .grad attribute won't be populated during autograd.backward(). If you indeed want the .grad field to be populated for a non-leaf Tensor, use .retain_grad() on the non-leaf Tensor. If you access the non-leaf Tensor by mistake, make sure you access the leaf Tensor instead. See github.com/pytorch/pytorch/pull/30531 for more informations. (Triggered internally at aten/src/ATen/core/TensorBody.h:489.)\n",
      "  print('x+yの勾配', u.grad)\n"
     ]
    }
   ],
   "source": [
    "# z = (x+ y)^2\n",
    "x = torch.tensor(2., requires_grad=True)\n",
    "y = torch.tensor(3., requires_grad=True)\n",
    "\n",
    "# 中間ノードを求めるために、別の値に入れる\n",
    "u = x + y\n",
    "\n",
    "# 中間のノードに対する勾配を保持したい\n",
    "u.retain_grad()\n",
    "\n",
    "z = u ** 2\n",
    "z.backward()\n",
    "\n",
    "# xとyの勾配\n",
    "print('xの勾配', x.grad)\n",
    "print('yの勾配', y.grad)\n",
    "print('x+yの勾配', u.grad)\n"
   ]
  },
  {
   "cell_type": "markdown",
   "id": "a1a2d0af-5413-472d-bde3-c196fc558c9d",
   "metadata": {},
   "source": [
    "### with torch.no_grad()"
   ]
  },
  {
   "cell_type": "code",
   "execution_count": 57,
   "id": "7ff41862-b171-437e-bca7-b0613b24767f",
   "metadata": {},
   "outputs": [],
   "source": [
    "x = torch.tensor(2., requires_grad=True)\n",
    "y = torch.tensor(3., requires_grad=True)\n",
    "\n",
    "with torch.no_grad():\n",
    "    z1 = y * torch.log(x) + torch.sin(y)\n",
    "\n",
    "z2 = y * torch.log(x) + torch.sin(y)\n",
    "\n",
    "# z1.backward()\n",
    "z2.backward()"
   ]
  },
  {
   "cell_type": "code",
   "execution_count": null,
   "id": "daf975dd-edd2-4059-b14a-a1697918c36b",
   "metadata": {},
   "outputs": [],
   "source": []
  }
 ],
 "metadata": {
  "kernelspec": {
   "display_name": "Python 3 (ipykernel)",
   "language": "python",
   "name": "python3"
  },
  "language_info": {
   "codemirror_mode": {
    "name": "ipython",
    "version": 3
   },
   "file_extension": ".py",
   "mimetype": "text/x-python",
   "name": "python",
   "nbconvert_exporter": "python",
   "pygments_lexer": "ipython3",
   "version": "3.8.18"
  }
 },
 "nbformat": 4,
 "nbformat_minor": 5
}
