{
 "cells": [
  {
   "cell_type": "markdown",
   "id": "34e2b995-49b8-450b-8c94-e66f33b8666d",
   "metadata": {},
   "source": [
    "# MLP"
   ]
  },
  {
   "cell_type": "markdown",
   "id": "6e9a1d84-3b07-4a0a-a890-59aef4bbc361",
   "metadata": {},
   "source": [
    "### スクラッチ実装"
   ]
  },
  {
   "cell_type": "code",
   "execution_count": null,
   "id": "e0513bfa-a43e-4a19-80ec-de18b36aa6aa",
   "metadata": {},
   "outputs": [],
   "source": [
    "# ライブラリ\n",
    "import numpy as np\n",
    "import pandas as pd\n",
    "import matplotlib.pyplot as plt\n",
    "import torch\n",
    "from sklearn import datasets\n",
    "import torch.nn.functional as F\n",
    "\n",
    "from sklearn.model_selection import train_test_split"
   ]
  },
  {
   "cell_type": "code",
   "execution_count": null,
   "id": "782cb978-02c7-4d10-8d39-b818db6cda2b",
   "metadata": {},
   "outputs": [],
   "source": []
  },
  {
   "cell_type": "code",
   "execution_count": 57,
   "id": "30dfd66e-d693-4097-aa9d-906a5c844d02",
   "metadata": {},
   "outputs": [],
   "source": [
    "# 1. データ読み込み\n",
    "dataset = datasets.load_digits()\n",
    "\n",
    "images = dataset['images']\n",
    "target = dataset['target']"
   ]
  },
  {
   "cell_type": "code",
   "execution_count": 58,
   "id": "2236c78c-85d0-4e61-b1ef-7ca58e55e674",
   "metadata": {},
   "outputs": [
    {
     "name": "stdout",
     "output_type": "stream",
     "text": [
      "(1797, 8, 8)\n",
      "(1797,)\n"
     ]
    }
   ],
   "source": [
    "# 確認\n",
    "print(images.shape)\n",
    "print(target.shape)"
   ]
  },
  {
   "cell_type": "code",
   "execution_count": 59,
   "id": "bac14112-2d72-4d55-8103-2b6d2a634f8c",
   "metadata": {},
   "outputs": [
    {
     "data": {
      "text/plain": [
       "<matplotlib.image.AxesImage at 0x2aabef149640>"
      ]
     },
     "execution_count": 59,
     "metadata": {},
     "output_type": "execute_result"
    },
    {
     "data": {
      "image/png": "[encoded data removed]",
      "text/plain": [
       "<Figure size 640x480 with 1 Axes>"
      ]
     },
     "metadata": {},
     "output_type": "display_data"
    }
   ],
   "source": [
    "# image確認\n",
    "plt.imshow(images[0], cmap='gray')"
   ]
  },
  {
   "cell_type": "code",
   "execution_count": 60,
   "id": "31afb2c5-8416-4f5b-bdab-77c56bd3f023",
   "metadata": {},
   "outputs": [],
   "source": [
    "# データを分割する\n",
    "X_train, X_test, y_train, y_test = train_test_split(images, target, test_size=0.2, random_state=42)"
   ]
  },
  {
   "cell_type": "code",
   "execution_count": 61,
   "id": "ac3e15b3-28e0-4eb0-b3a3-c69bccdd844e",
   "metadata": {},
   "outputs": [
    {
     "name": "stdout",
     "output_type": "stream",
     "text": [
      "(1437, 8, 8) (1437,)\n",
      "(360, 8, 8) (360,)\n"
     ]
    }
   ],
   "source": [
    "# shape確認\n",
    "print(X_train.shape, y_train.shape)\n",
    "print(X_test.shape, y_test.shape)"
   ]
  },
  {
   "cell_type": "code",
   "execution_count": 62,
   "id": "aeecd60c-8ae8-43c0-ab1f-51644cbb051a",
   "metadata": {},
   "outputs": [],
   "source": [
    "# 標準化\n",
    "X_mean = X_train.mean()\n",
    "X_std = X_train.std()\n",
    "\n",
    "X_train  = (X_train - X_mean) / X_std\n",
    "X_test = (X_train - X_mean) / X_std\n",
    "\n",
    "# one-hotエンコーディング\n",
    "\n",
    "y_train = F.one_hot(torch.tensor(y_train), num_classes = 10)\n",
    "y_test = F.one_hot(torch.tensor(y_test), num_classes = 10)\n",
    "\n",
    "# 1次元で扱いたいため8x8 -> 64にしたい\n",
    "X_train = torch.tensor(X_train, dtype=torch.float32).reshape(-1, 64)\n",
    "X_test = torch.tensor(X_test, dtype=torch.float32).reshape(-1, 64)"
   ]
  },
  {
   "cell_type": "code",
   "execution_count": null,
   "id": "3070db32-7616-44c2-b996-fee7933d9726",
   "metadata": {},
   "outputs": [],
   "source": []
  },
  {
   "cell_type": "markdown",
   "id": "be3e9f07-8def-423e-a70f-bcfcfd787b61",
   "metadata": {},
   "source": [
    "## スクラッチでMLPを実装"
   ]
  },
  {
   "cell_type": "markdown",
   "id": "a4d550b7-bf07-4d07-877f-4d780884c981",
   "metadata": {},
   "source": [
    "1層目  \n",
    "Z[1] = XW[1].T + B[1]  \n",
    "\n",
    "n = 64  \n",
    "X : m x n(データ数 x 特徴量)  \n",
    "W : nh x n(隠れそうのニューロン数(出力数) x 入力)  \n",
    "B : 1 x nh(broad casting)  \n",
    "\n",
    "2層目  \n",
    "Z[2] = AW[2].T + B[2]  \n",
    "W ; 出力 x nh(10 x nh(入力30))  \n",
    "B : 1 x 10  "
   ]
  },
  {
   "cell_type": "code",
   "execution_count": 69,
   "id": "22faae7d-d91c-43c4-973f-019394359eb1",
   "metadata": {},
   "outputs": [],
   "source": [
    "# 3. パラメータの初期化\n",
    "\n",
    "\n",
    "# 隠れそうのニューロン数\n",
    "nh = 30\n",
    "# データ数(入力数)\n",
    "# n = 64\n",
    "# mはデータ数, nは特徴量数\n",
    "m, n = X_train.shape\n",
    "\n",
    "class_num = 10\n",
    "\n",
    "W1 = torch.randn((nh, n),requires_grad=True) # 出力 x 入力\n",
    "# バイアスは初期値は0にすることが多い。\n",
    "b1 = torch.zeros((1, nh),requires_grad=True) # 1 x nh(隠れそうのニューロン)\n",
    "\n",
    "# 2層目\n",
    "\n",
    "W2 = torch.randn((class_num, nh), requires_grad=True)  \n",
    "b2 = torch.zeros((1, class_num), requires_grad=True)"
   ]
  },
  {
   "cell_type": "code",
   "execution_count": null,
   "id": "ea086ea5-3d34-4bae-8545-c48bf5460cb3",
   "metadata": {},
   "outputs": [],
   "source": []
  },
  {
   "cell_type": "code",
   "execution_count": 70,
   "id": "60c994c2-2681-4b42-8ecf-f5cfde7090a2",
   "metadata": {},
   "outputs": [],
   "source": [
    "# 4. 線形変換の関数\n",
    "def linear(X, W, b):\n",
    "    return X@W.T + b\n",
    "\n",
    "# ReLUの実装\n",
    "def relu(Z):\n",
    "    # .clapm_minの中より小さいのは()で置き換える\n",
    "    return Z.clamp_min(0.)\n",
    "\n",
    "def softmax(x):\n",
    "    e_x = torch.exp(x - torch.max(x, dim=-1, keepdim=True)[0])\n",
    "    return e_x / (torch.sum(e_x, dim=-1, keepdim=True) + 1e-10)\n"
   ]
  },
  {
   "cell_type": "code",
   "execution_count": null,
   "id": "da89965e-54ef-4f76-9297-8995ea3d8a13",
   "metadata": {},
   "outputs": [],
   "source": []
  },
  {
   "cell_type": "code",
   "execution_count": 75,
   "id": "e2a03f7c-8e25-415f-89bf-2dd76976d1cc",
   "metadata": {},
   "outputs": [],
   "source": [
    "# model\n",
    "def model(X):\n",
    "    Z1 = linear(X, W1, b1)\n",
    "    A1 = relu(Z1)\n",
    "    # import pdb; pdb.set_trace()\n",
    "    Z2 = linear(A1, W2, b2)\n",
    "    \n",
    "    # 出力層(softmax)\n",
    "    A2 = softmax(Z2)\n",
    "    return A2\n",
    "    "
   ]
  },
  {
   "cell_type": "code",
   "execution_count": 79,
   "id": "02568f31-5ffe-4a9c-ad4f-f6895e4ab784",
   "metadata": {},
   "outputs": [],
   "source": [
    "# modelを実際に読み込み\n",
    "y_train_pred = model(X_train)"
   ]
  },
  {
   "cell_type": "code",
   "execution_count": null,
   "id": "f659ba8e-8e33-4580-8162-930afd3eb5f5",
   "metadata": {},
   "outputs": [],
   "source": []
  },
  {
   "cell_type": "code",
   "execution_count": 43,
   "id": "d51c080f-8342-4cf1-82d3-b3897c6623e7",
   "metadata": {},
   "outputs": [
    {
     "data": {
      "text/plain": [
       "torch.Size([1437, 30])"
      ]
     },
     "execution_count": 43,
     "metadata": {},
     "output_type": "execute_result"
    }
   ],
   "source": [
    "# 実験\n",
    "z1 = linear(X_train, w1, b1)\n",
    "z1.shape"
   ]
  },
  {
   "cell_type": "code",
   "execution_count": 45,
   "id": "1fcacf2d-f548-480f-a4b3-45f6c793e525",
   "metadata": {},
   "outputs": [
    {
     "data": {
      "text/plain": [
       "tensor([-1.,  0., -3.,  3.])"
      ]
     },
     "execution_count": 45,
     "metadata": {},
     "output_type": "execute_result"
    }
   ],
   "source": [
    "# reluの実験\n",
    "a = torch.tensor([-1., 0., 2. -5.,3.])\n",
    "a"
   ]
  },
  {
   "cell_type": "code",
   "execution_count": 46,
   "id": "961ce5a7-4011-4bd8-8abc-b31f4d61ad1a",
   "metadata": {},
   "outputs": [
    {
     "data": {
      "text/plain": [
       "tensor([0., 0., 0., 3.])"
      ]
     },
     "execution_count": 46,
     "metadata": {},
     "output_type": "execute_result"
    }
   ],
   "source": [
    "# 新しいtensorに置き換える\n",
    "a.clamp_min(0.)"
   ]
  },
  {
   "cell_type": "code",
   "execution_count": 47,
   "id": "f38f9946-64fc-4962-8e34-177e1fd2023a",
   "metadata": {},
   "outputs": [
    {
     "data": {
      "text/plain": [
       "tensor([-1.,  0., -3.,  3.])"
      ]
     },
     "execution_count": 47,
     "metadata": {},
     "output_type": "execute_result"
    }
   ],
   "source": [
    "a"
   ]
  },
  {
   "cell_type": "code",
   "execution_count": null,
   "id": "494d8033-2814-4293-8367-66ddd8d4b4c3",
   "metadata": {},
   "outputs": [],
   "source": []
  }
 ],
 "metadata": {
  "kernelspec": {
   "display_name": "Python 3 (ipykernel)",
   "language": "python",
   "name": "python3"
  },
  "language_info": {
   "codemirror_mode": {
    "name": "ipython",
    "version": 3
   },
   "file_extension": ".py",
   "mimetype": "text/x-python",
   "name": "python",
   "nbconvert_exporter": "python",
   "pygments_lexer": "ipython3",
   "version": "3.8.18"
  }
 },
 "nbformat": 4,
 "nbformat_minor": 5
}
