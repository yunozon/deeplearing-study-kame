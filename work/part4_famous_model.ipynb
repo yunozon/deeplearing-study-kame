{
 "cells": [
  {
   "cell_type": "markdown",
   "id": "11acf9a6-b43a-43ce-b442-5baaef7ac4b5",
   "metadata": {},
   "source": [
    "#　有名なモデルを実装"
   ]
  },
  {
   "cell_type": "markdown",
   "id": "781f6f97-0a98-4d68-b9df-e2a6a2f02956",
   "metadata": {},
   "source": [
    "## LeNet"
   ]
  },
  {
   "cell_type": "code",
   "execution_count": 1,
   "id": "c53dd980-93fd-4516-af6d-89e5b5c6f762",
   "metadata": {},
   "outputs": [],
   "source": [
    "import torch\n",
    "import numpy \n",
    "import matplotlib.pyplot as plt\n",
    "\n",
    "from torch import nn, optim\n",
    "import torchvision\n",
    "import torch.nn.functional as F\n",
    "\n",
    "from torchvision import models, transforms\n",
    "from torchvision.models.vgg import VGG11_Weights\n",
    "\n",
    "from torch.utils.data import DataLoader, Subset\n",
    "%load_ext autoreload\n",
    "%autoreload 2\n",
    "import utils\n",
    "import time\n"
   ]
  },
  {
   "cell_type": "code",
   "execution_count": null,
   "id": "04f5a686-cea1-4f7f-af04-897c7af652fd",
   "metadata": {},
   "outputs": [],
   "source": [
    "今回は入力画像を用意するよりも、適当なtensorを用意して学習さえる"
   ]
  },
  {
   "cell_type": "code",
   "execution_count": null,
   "id": "f1fe6290-0239-4684-b615-6726dc086ad1",
   "metadata": {},
   "outputs": [],
   "source": []
  },
  {
   "cell_type": "code",
   "execution_count": 30,
   "id": "9bae93e8-5b79-478a-a47b-3b51da2782d5",
   "metadata": {},
   "outputs": [],
   "source": [
    "class LeNet(nn.Module):\n",
    "\n",
    "    def __init__(self):\n",
    "        super().__init__()\n",
    "        # kernel_size, stride, paddingは出力のサイズの式から逆算する\n",
    "        self.conv1 = nn.Conv2d(1,6, kernel_size=5)\n",
    "        self.conv2 = nn.Conv2d(6,16, kernel_size=5)\n",
    "        self.flatten = nn.Flatten()\n",
    "        # 16x5x5がinput\n",
    "        self.fc1 = nn.Linear(400, 120)\n",
    "        self.fc2 = nn.Linear(120, 84)\n",
    "        self.fc3 = nn.Linear(84, 10)\n",
    "        \n",
    "\n",
    "    def forward(self, X):\n",
    "        \"\"\"\n",
    "        block化\n",
    "        F.max_pool2d(F.relu(self.conv1(X)), 2)\n",
    "        \"\"\"\n",
    "        X = F.relu(self.conv1(X))\n",
    "        X = F.max_pool2d(X, 2)\n",
    "        \n",
    "        X = F.relu(self.conv2(X))\n",
    "        X = F.max_pool2d(X, 2)\n",
    "\n",
    "        X = self.flatten(X)\n",
    "\n",
    "        X = F.relu(self.fc1(X))\n",
    "        X = F.relu(self.fc2(X))\n",
    "        X = F.relu(self.fc3(X))\n",
    "        \n",
    "        return X"
   ]
  },
  {
   "cell_type": "code",
   "execution_count": 31,
   "id": "6a90616f-d7fe-4e36-9c47-5b9ab37e0f0b",
   "metadata": {},
   "outputs": [],
   "source": [
    "X = torch.randn((128, 1, 32, 32))"
   ]
  },
  {
   "cell_type": "code",
   "execution_count": 32,
   "id": "85a24b16-10e7-4cb1-a9ae-dc82a4e236bf",
   "metadata": {},
   "outputs": [
    {
     "data": {
      "text/plain": [
       "torch.Size([128, 10])"
      ]
     },
     "execution_count": 32,
     "metadata": {},
     "output_type": "execute_result"
    }
   ],
   "source": [
    "model = LeNet()\n",
    "out = model(X)\n",
    "out.shape\n"
   ]
  },
  {
   "cell_type": "code",
   "execution_count": 34,
   "id": "06f095aa-11c8-4036-91d1-9a12789da25a",
   "metadata": {},
   "outputs": [
    {
     "data": {
      "text/plain": [
       "LeNet(\n",
       "  (conv1): Conv2d(1, 6, kernel_size=(5, 5), stride=(1, 1))\n",
       "  (conv2): Conv2d(6, 16, kernel_size=(5, 5), stride=(1, 1))\n",
       "  (flatten): Flatten(start_dim=1, end_dim=-1)\n",
       "  (fc1): Linear(in_features=400, out_features=120, bias=True)\n",
       "  (fc2): Linear(in_features=120, out_features=84, bias=True)\n",
       "  (fc3): Linear(in_features=84, out_features=10, bias=True)\n",
       ")"
      ]
     },
     "execution_count": 34,
     "metadata": {},
     "output_type": "execute_result"
    }
   ],
   "source": [
    "LeNet()"
   ]
  },
  {
   "cell_type": "code",
   "execution_count": null,
   "id": "94642f0a-707d-4bd6-8130-215b01897050",
   "metadata": {},
   "outputs": [],
   "source": []
  },
  {
   "cell_type": "markdown",
   "id": "c7f6dc7e-7cce-465f-992c-00662c1fcca2",
   "metadata": {},
   "source": [
    "## 既存のモデルの使用"
   ]
  },
  {
   "cell_type": "code",
   "execution_count": 2,
   "id": "d3b1a81a-1829-4592-bc4c-7a135fdb0b4c",
   "metadata": {},
   "outputs": [],
   "source": [
    "model = models.vgg11(weights=VGG11_Weights.IMAGENET1K_V1)"
   ]
  },
  {
   "cell_type": "code",
   "execution_count": 4,
   "id": "d68eb86e-e45d-47b9-b346-2c8b80e69723",
   "metadata": {},
   "outputs": [
    {
     "data": {
      "text/plain": [
       "VGG(\n",
       "  (features): Sequential(\n",
       "    (0): Conv2d(3, 64, kernel_size=(3, 3), stride=(1, 1), padding=(1, 1))\n",
       "    (1): ReLU(inplace=True)\n",
       "    (2): MaxPool2d(kernel_size=2, stride=2, padding=0, dilation=1, ceil_mode=False)\n",
       "    (3): Conv2d(64, 128, kernel_size=(3, 3), stride=(1, 1), padding=(1, 1))\n",
       "    (4): ReLU(inplace=True)\n",
       "    (5): MaxPool2d(kernel_size=2, stride=2, padding=0, dilation=1, ceil_mode=False)\n",
       "    (6): Conv2d(128, 256, kernel_size=(3, 3), stride=(1, 1), padding=(1, 1))\n",
       "    (7): ReLU(inplace=True)\n",
       "    (8): Conv2d(256, 256, kernel_size=(3, 3), stride=(1, 1), padding=(1, 1))\n",
       "    (9): ReLU(inplace=True)\n",
       "    (10): MaxPool2d(kernel_size=2, stride=2, padding=0, dilation=1, ceil_mode=False)\n",
       "    (11): Conv2d(256, 512, kernel_size=(3, 3), stride=(1, 1), padding=(1, 1))\n",
       "    (12): ReLU(inplace=True)\n",
       "    (13): Conv2d(512, 512, kernel_size=(3, 3), stride=(1, 1), padding=(1, 1))\n",
       "    (14): ReLU(inplace=True)\n",
       "    (15): MaxPool2d(kernel_size=2, stride=2, padding=0, dilation=1, ceil_mode=False)\n",
       "    (16): Conv2d(512, 512, kernel_size=(3, 3), stride=(1, 1), padding=(1, 1))\n",
       "    (17): ReLU(inplace=True)\n",
       "    (18): Conv2d(512, 512, kernel_size=(3, 3), stride=(1, 1), padding=(1, 1))\n",
       "    (19): ReLU(inplace=True)\n",
       "    (20): MaxPool2d(kernel_size=2, stride=2, padding=0, dilation=1, ceil_mode=False)\n",
       "  )\n",
       "  (avgpool): AdaptiveAvgPool2d(output_size=(7, 7))\n",
       "  (classifier): Sequential(\n",
       "    (0): Linear(in_features=25088, out_features=4096, bias=True)\n",
       "    (1): ReLU(inplace=True)\n",
       "    (2): Dropout(p=0.5, inplace=False)\n",
       "    (3): Linear(in_features=4096, out_features=4096, bias=True)\n",
       "    (4): ReLU(inplace=True)\n",
       "    (5): Dropout(p=0.5, inplace=False)\n",
       "    (6): Linear(in_features=4096, out_features=1000, bias=True)\n",
       "  )\n",
       ")"
      ]
     },
     "execution_count": 4,
     "metadata": {},
     "output_type": "execute_result"
    }
   ],
   "source": [
    "model"
   ]
  },
  {
   "cell_type": "code",
   "execution_count": 5,
   "id": "628479d1-640c-4d46-9c38-28b739a9580b",
   "metadata": {},
   "outputs": [
    {
     "data": {
      "text/plain": [
       "Sequential(\n",
       "  (0): Conv2d(3, 64, kernel_size=(3, 3), stride=(1, 1), padding=(1, 1))\n",
       "  (1): ReLU(inplace=True)\n",
       "  (2): MaxPool2d(kernel_size=2, stride=2, padding=0, dilation=1, ceil_mode=False)\n",
       "  (3): Conv2d(64, 128, kernel_size=(3, 3), stride=(1, 1), padding=(1, 1))\n",
       "  (4): ReLU(inplace=True)\n",
       "  (5): MaxPool2d(kernel_size=2, stride=2, padding=0, dilation=1, ceil_mode=False)\n",
       "  (6): Conv2d(128, 256, kernel_size=(3, 3), stride=(1, 1), padding=(1, 1))\n",
       "  (7): ReLU(inplace=True)\n",
       "  (8): Conv2d(256, 256, kernel_size=(3, 3), stride=(1, 1), padding=(1, 1))\n",
       "  (9): ReLU(inplace=True)\n",
       "  (10): MaxPool2d(kernel_size=2, stride=2, padding=0, dilation=1, ceil_mode=False)\n",
       "  (11): Conv2d(256, 512, kernel_size=(3, 3), stride=(1, 1), padding=(1, 1))\n",
       "  (12): ReLU(inplace=True)\n",
       "  (13): Conv2d(512, 512, kernel_size=(3, 3), stride=(1, 1), padding=(1, 1))\n",
       "  (14): ReLU(inplace=True)\n",
       "  (15): MaxPool2d(kernel_size=2, stride=2, padding=0, dilation=1, ceil_mode=False)\n",
       "  (16): Conv2d(512, 512, kernel_size=(3, 3), stride=(1, 1), padding=(1, 1))\n",
       "  (17): ReLU(inplace=True)\n",
       "  (18): Conv2d(512, 512, kernel_size=(3, 3), stride=(1, 1), padding=(1, 1))\n",
       "  (19): ReLU(inplace=True)\n",
       "  (20): MaxPool2d(kernel_size=2, stride=2, padding=0, dilation=1, ceil_mode=False)\n",
       ")"
      ]
     },
     "execution_count": 5,
     "metadata": {},
     "output_type": "execute_result"
    }
   ],
   "source": [
    "model.features"
   ]
  },
  {
   "cell_type": "code",
   "execution_count": 3,
   "id": "e32a7a8c-3a4c-4c5c-8312-34d5269b5c01",
   "metadata": {},
   "outputs": [
    {
     "name": "stdout",
     "output_type": "stream",
     "text": [
      "Files already downloaded and verified\n",
      "Files already downloaded and verified\n"
     ]
    }
   ],
   "source": [
    "# データ準備\n",
    "\n",
    "transform = transforms.Compose([\n",
    "    transforms.ToTensor(),\n",
    "    # transforms.Normalize((0.5,0.5, 0.5), (0.5, 0.5, 0.5)),\n",
    "    # CIFAR10用\n",
    "    transforms.Normalize(mean=[0.4914,0.4822,0.4465], std=[0.2023,0.1994,0.2010]),\n",
    "\n",
    "])\n",
    "\n",
    "classes = ('airplane', 'automobile', 'bird', 'cat', 'deer',\n",
    "           'dog', 'flog','horse', 'ship', 'truck')\t\t\t\t\t\t\t\t\t\n",
    "\n",
    "train_dataset = torchvision.datasets.CIFAR10('./cifar10_data', train=True, download=True, transform=transform)\n",
    "val_dataset = torchvision.datasets.CIFAR10('./cifar10_data', train=False, download=True, transform=transform)\n",
    "\n",
    "# train_loader = DataLoader(train_dataset, batch_size=32, shuffle=True, num_workers=4)\n",
    "# val_loader = DataLoader(val_dataset, batch_size=32, num_workers=4)"
   ]
  },
  {
   "cell_type": "code",
   "execution_count": 4,
   "id": "c852b080-7807-4187-a1d6-6cdf99eeb119",
   "metadata": {},
   "outputs": [],
   "source": [
    "# subsetと使う\n",
    "train_dataset_sub = Subset(train_dataset, range(1000))\n",
    "val_dataset_sub = Subset(val_dataset, range(1000))\n",
    "\n",
    "train_loader = DataLoader(train_dataset_sub, batch_size=32, shuffle=True, num_workers=4)\n",
    "val_loader = DataLoader(val_dataset_sub, batch_size=32, num_workers=4)"
   ]
  },
  {
   "cell_type": "code",
   "execution_count": 77,
   "id": "c7b80d5b-886b-4d40-9c59-511c4f03b4d0",
   "metadata": {},
   "outputs": [],
   "source": [
    "# データ取得\n",
    "im, label = train_dataset[0]"
   ]
  },
  {
   "cell_type": "code",
   "execution_count": 31,
   "id": "3a0e658d-0dd3-43db-9cce-b6bb89eafcd0",
   "metadata": {},
   "outputs": [
    {
     "data": {
      "image/jpeg": "[encoded data removed]",
      "image/png": "[encoded data removed]",
      "text/plain": [
       "<PIL.Image.Image image mode=RGB size=32x32>"
      ]
     },
     "execution_count": 31,
     "metadata": {},
     "output_type": "execute_result"
    }
   ],
   "source": [
    "im"
   ]
  },
  {
   "cell_type": "code",
   "execution_count": 34,
   "id": "99c377c0-d532-458c-9814-065ed2196167",
   "metadata": {},
   "outputs": [
    {
     "data": {
      "text/plain": [
       "'flog'"
      ]
     },
     "execution_count": 34,
     "metadata": {},
     "output_type": "execute_result"
    }
   ],
   "source": [
    "classes[label] "
   ]
  },
  {
   "cell_type": "code",
   "execution_count": 5,
   "id": "11cc8ec3-b708-41d5-b1a7-0d7c2a3a3ebd",
   "metadata": {},
   "outputs": [
    {
     "name": "stdout",
     "output_type": "stream",
     "text": [
      "torch.Size([32, 3, 32, 32])\n",
      "torch.Size([32])\n"
     ]
    }
   ],
   "source": [
    "X_train, y_train = next(iter(train_loader))\n",
    "print(X_train.shape)\n",
    "print(y_train.shape)"
   ]
  },
  {
   "cell_type": "code",
   "execution_count": 6,
   "id": "cfdec9df-7582-4a23-937e-f75bd922b0a2",
   "metadata": {},
   "outputs": [],
   "source": [
    "# optmizer作成\n",
    "# model = models.vgg11(weights=VGG11_Weights.IMAGENET1K_V1)\n",
    "opt = optim.SGD(model.parameters(), lr=0.03)"
   ]
  },
  {
   "cell_type": "code",
   "execution_count": 7,
   "id": "3ebe46b5-f437-49b5-8a53-d278b0ee8b45",
   "metadata": {},
   "outputs": [],
   "source": [
    "out = model(X_train)"
   ]
  },
  {
   "cell_type": "code",
   "execution_count": 8,
   "id": "430ff8a3-cebc-410b-ace6-3cabb48b793e",
   "metadata": {},
   "outputs": [
    {
     "data": {
      "text/plain": [
       "torch.Size([32, 1000])"
      ]
     },
     "execution_count": 8,
     "metadata": {},
     "output_type": "execute_result"
    }
   ],
   "source": [
    "out.shape"
   ]
  },
  {
   "cell_type": "code",
   "execution_count": 9,
   "id": "8d8dd3eb-5cc7-493f-9e64-30bfa6c8cfdd",
   "metadata": {},
   "outputs": [
    {
     "data": {
      "text/plain": [
       "Linear(in_features=4096, out_features=1000, bias=True)"
      ]
     },
     "execution_count": 9,
     "metadata": {},
     "output_type": "execute_result"
    }
   ],
   "source": [
    "# 全結合層の出力が1000になっている。 -> 10クラス分類にする\n",
    "model.classifier[-1]"
   ]
  },
  {
   "cell_type": "code",
   "execution_count": 10,
   "id": "ee68f7dd-8052-4d70-97f1-27bb5a584798",
   "metadata": {},
   "outputs": [],
   "source": [
    "# 上書きする\n",
    "model.classifier[-1] = nn.Linear(4096, 10)"
   ]
  },
  {
   "cell_type": "code",
   "execution_count": 11,
   "id": "95e94786-bc66-42a0-aaab-3d4307b085ca",
   "metadata": {},
   "outputs": [
    {
     "data": {
      "text/plain": [
       "torch.Size([32, 10])"
      ]
     },
     "execution_count": 11,
     "metadata": {},
     "output_type": "execute_result"
    }
   ],
   "source": [
    "out = model(X_train)\n",
    "out.shape"
   ]
  },
  {
   "cell_type": "code",
   "execution_count": 12,
   "id": "33fddad5-4e84-4b8c-8f18-b9d69c0c7511",
   "metadata": {},
   "outputs": [
    {
     "name": "stderr",
     "output_type": "stream",
     "text": [
      "                                                           "
     ]
    },
    {
     "name": "stdout",
     "output_type": "stream",
     "text": [
      "epoch: 0: train error: 2.1117691434919834, validation error: 1.945731583982706, validation accuracy: 0.3017578125\n"
     ]
    },
    {
     "name": "stderr",
     "output_type": "stream",
     "text": [
      "                                                           "
     ]
    },
    {
     "name": "stdout",
     "output_type": "stream",
     "text": [
      "epoch: 1: train error: 1.5884174797683954, validation error: 1.3757545109838247, validation accuracy: 0.4833984375\n"
     ]
    },
    {
     "name": "stderr",
     "output_type": "stream",
     "text": [
      "                                                           "
     ]
    },
    {
     "name": "stdout",
     "output_type": "stream",
     "text": [
      "epoch: 2: train error: 1.2217957973480225, validation error: 1.4817619621753693, validation accuracy: 0.494140625\n",
      "かかった時間: 379.3145351409912\n"
     ]
    },
    {
     "name": "stderr",
     "output_type": "stream",
     "text": [
      "\r"
     ]
    }
   ],
   "source": [
    "# これを学習する\n",
    "start_time = time.time()\n",
    "train_losses, val_losses, val_accuracy = utils.learn(model,train_loader,val_loader, opt, loss_func=F.cross_entropy, num_epoch=3)\n",
    "end_time = time.time()\n",
    "print(\"かかった時間:\",end_time - start_time) "
   ]
  },
  {
   "cell_type": "code",
   "execution_count": 13,
   "id": "8b906911-6a2a-43f9-921c-480175c5ce6c",
   "metadata": {},
   "outputs": [
    {
     "data": {
      "text/plain": [
       "1562.5"
      ]
     },
     "execution_count": 13,
     "metadata": {},
     "output_type": "execute_result"
    }
   ],
   "source": [
    "# VGG11で, CIFAR10をCPUで回すと時間がかかる -> dataを減らす\n",
    "len(train_dataset) / 32"
   ]
  },
  {
   "cell_type": "code",
   "execution_count": null,
   "id": "ec1ec87e-6360-4caf-943a-f60b98714b29",
   "metadata": {},
   "outputs": [],
   "source": []
  },
  {
   "cell_type": "code",
   "execution_count": null,
   "id": "0bd76c1d-210c-4ab8-9c7a-f8867d333f96",
   "metadata": {},
   "outputs": [],
   "source": []
  }
 ],
 "metadata": {
  "kernelspec": {
   "display_name": "Python 3 (ipykernel)",
   "language": "python",
   "name": "python3"
  },
  "language_info": {
   "codemirror_mode": {
    "name": "ipython",
    "version": 3
   },
   "file_extension": ".py",
   "mimetype": "text/x-python",
   "name": "python",
   "nbconvert_exporter": "python",
   "pygments_lexer": "ipython3",
   "version": "3.8.18"
  }
 },
 "nbformat": 4,
 "nbformat_minor": 5
}
