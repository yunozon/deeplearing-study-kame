{
 "cells": [
  {
   "cell_type": "markdown",
   "id": "4ded2a38-a8d0-4b9e-8d65-86da6f692ecb",
   "metadata": {},
   "source": [
    "## Batch NormalizationとLayer Normarlization"
   ]
  },
  {
   "cell_type": "markdown",
   "id": "226581ec-3f9e-4334-8e98-034f3f04fe5f",
   "metadata": {},
   "source": [
    "## Hook"
   ]
  },
  {
   "cell_type": "markdown",
   "id": "77a645e7-ac7e-4b82-a1dc-9a5fcdae04e7",
   "metadata": {},
   "source": [
    "### .register_hook"
   ]
  },
  {
   "cell_type": "code",
   "execution_count": null,
   "id": "eb32625c",
   "metadata": {},
   "outputs": [],
   "source": []
  },
  {
   "cell_type": "code",
   "execution_count": 1,
   "id": "b4c49fbb-317c-413a-baaa-923dcb6c747c",
   "metadata": {},
   "outputs": [],
   "source": [
    "# ライブラリ\n",
    "from functools import partial\n",
    "import matplotlib.pyplot as plt\n",
    "import numpy as np\n",
    "\n",
    "import torch\n",
    "from torch import nn, optim\n",
    "import torchvision\n",
    "from torchvision import transforms\n",
    "import torch.nn.functional as F\n",
    "\n",
    "from torch.utils.data import DataLoader\n",
    "%load_ext autoreload\n",
    "%autoreload 2\n",
    "import utils\n",
    "import time"
   ]
  },
  {
   "cell_type": "code",
   "execution_count": null,
   "id": "ea177390-6318-4bae-9e47-0376e456ca60",
   "metadata": {},
   "outputs": [],
   "source": [
    "a = torch.ones(5, requires_grad=True)\n",
    "b = 2*a\n",
    "# 中間gradを保持\n",
    "b.retain_grad()\n",
    "\n",
    "# ここに追加\n",
    "\n",
    "def print_grad(grad):\n",
    "    print(grad)\n",
    "b.register_hook(print_grad)\n",
    "\n",
    "\"\"\"\n",
    "lambda関数を使って省略\n",
    "b.register_hook(lambda grad: print(grad))\n",
    "\"\"\"\n",
    "\n",
    "c = b.mean()\n",
    "\n",
    "# backward\n",
    "c.backward()\n"
   ]
  },
  {
   "cell_type": "code",
   "execution_count": null,
   "id": "effa80e3-94ba-4fde-8c8f-4df7abad38b9",
   "metadata": {},
   "outputs": [],
   "source": [
    "print(a)\n",
    "print(b)\n",
    "print(c)"
   ]
  },
  {
   "cell_type": "code",
   "execution_count": null,
   "id": "5edb86fc-5aff-4577-b6a3-1806928f0afa",
   "metadata": {},
   "outputs": [],
   "source": [
    "print(a.grad)\n",
    "print(b.grad)"
   ]
  },
  {
   "cell_type": "markdown",
   "id": "3f0580b0-cb3a-468e-8495-15caf66ba21f",
   "metadata": {},
   "source": [
    "### .register_forward_hook()"
   ]
  },
  {
   "cell_type": "code",
   "execution_count": 19,
   "id": "73442342-3800-4a85-aa20-cb33e361e386",
   "metadata": {},
   "outputs": [],
   "source": [
    "# modelを定義する\n",
    "conv_model = nn.Sequential(\n",
    "    # 1x28x28\n",
    "    nn.Conv2d(1, 4, kernel_size=3, stride=2, padding=1),\n",
    "    nn.ReLU(),\n",
    "\n",
    "    # 4x14x14\n",
    "    nn.Conv2d(4, 8, kernel_size=3, stride=2, padding=1),\n",
    "    nn.ReLU(), \n",
    "\n",
    "    # 8x7x7\n",
    "    nn.Conv2d(8, 16, kernel_size=3, stride=2, padding=1),\n",
    "    nn.ReLU(),\n",
    "\n",
    "    # 16x4x4\n",
    "    nn.Conv2d(16, 32, kernel_size=3, stride=2, padding=1),\n",
    "    nn.ReLU(),\n",
    "\n",
    "    nn.Flatten(),\n",
    "    # 128 -> 32\n",
    "    nn.Linear(128, 10)\n",
    "    \n",
    ")\n"
   ]
  },
  {
   "cell_type": "code",
   "execution_count": 20,
   "id": "365c44af-3bec-48cf-bbd2-b6c2966eeed0",
   "metadata": {},
   "outputs": [],
   "source": [
    "outputs = {}\n",
    "def save_output(name, module, inp, out):\n",
    "    module_name = f'{name}_{str(module)}'\n",
    "    outputs[module_name] = out.shape\n",
    "    "
   ]
  },
  {
   "cell_type": "code",
   "execution_count": 21,
   "id": "b950464f-0964-44c6-a13d-420e1be32253",
   "metadata": {},
   "outputs": [],
   "source": [
    "# 出力のshapeをdictに保存\n",
    "for name, module in conv_model.named_modules():\n",
    "    # print(name, module)\n",
    "    if name: # 自分自身のmoduleにはhookをつけない\n",
    "        module.register_forward_hook(partial(save_output, name))\n",
    "        "
   ]
  },
  {
   "cell_type": "code",
   "execution_count": 22,
   "id": "bdcfbfbb-728b-446b-adf9-ef866aaa6349",
   "metadata": {},
   "outputs": [],
   "source": [
    "def print_hooks(model):\n",
    "    for name , module in model.named_modules():\n",
    "        if hasattr(module, \"_forward_hooks\"):\n",
    "            for hook in module._forward_hooks.values():\n",
    "                print(f'Module {name} has forward hook : {hook}')\n",
    "    \n",
    "    for name , module in model.named_modules():\n",
    "        if hasattr(module, \"_forward_hooks\"):\n",
    "            for hook in module._backward_hooks.values():\n",
    "                print(f'Module {name} has backward hook : {hook}')"
   ]
  },
  {
   "cell_type": "code",
   "execution_count": 23,
   "id": "a85aa99b-8a91-45d7-b9b0-d1a5c0308a0a",
   "metadata": {},
   "outputs": [
    {
     "name": "stdout",
     "output_type": "stream",
     "text": [
      "Module 0 has forward hook : functools.partial(<function save_output at 0x7ffff9bd5dc0>, '0')\n",
      "Module 1 has forward hook : functools.partial(<function save_output at 0x7ffff9bd5dc0>, '1')\n",
      "Module 2 has forward hook : functools.partial(<function save_output at 0x7ffff9bd5dc0>, '2')\n",
      "Module 3 has forward hook : functools.partial(<function save_output at 0x7ffff9bd5dc0>, '3')\n",
      "Module 4 has forward hook : functools.partial(<function save_output at 0x7ffff9bd5dc0>, '4')\n",
      "Module 5 has forward hook : functools.partial(<function save_output at 0x7ffff9bd5dc0>, '5')\n",
      "Module 6 has forward hook : functools.partial(<function save_output at 0x7ffff9bd5dc0>, '6')\n",
      "Module 7 has forward hook : functools.partial(<function save_output at 0x7ffff9bd5dc0>, '7')\n",
      "Module 8 has forward hook : functools.partial(<function save_output at 0x7ffff9bd5dc0>, '8')\n",
      "Module 9 has forward hook : functools.partial(<function save_output at 0x7ffff9bd5dc0>, '9')\n"
     ]
    }
   ],
   "source": [
    "print_hooks(conv_model)"
   ]
  },
  {
   "cell_type": "code",
   "execution_count": 24,
   "id": "4cd37dcf-3ef2-4e5c-b794-d7a0ef1c50d1",
   "metadata": {},
   "outputs": [
    {
     "name": "stdout",
     "output_type": "stream",
     "text": [
      "25\n"
     ]
    }
   ],
   "source": [
    "from functools import partial\n",
    "\n",
    "# 元となる関数を定義\n",
    "def power(base, exponent):\n",
    "    return base ** exponent\n",
    "\n",
    "# 部分適用した関数を適用\n",
    "square = partial(power, exponent=2)\n",
    "\n",
    "# 部分適用した関数の利用\n",
    "print(square(5))  # 出力25\n"
   ]
  },
  {
   "cell_type": "markdown",
   "id": "f30c88ac-08b7-42d0-8d47-4b6fc60a4d05",
   "metadata": {},
   "source": [
    "### forwardでhookを発動"
   ]
  },
  {
   "cell_type": "code",
   "execution_count": null,
   "id": "ea44745b-ec64-43fb-b1ee-02561c4bb941",
   "metadata": {},
   "outputs": [],
   "source": [
    "X = torch.randn((1, 1, 28, 28))\n",
    "output = conv_model(X)"
   ]
  },
  {
   "cell_type": "code",
   "execution_count": null,
   "id": "99be8d92-acad-4270-ba0e-9de48121b4ea",
   "metadata": {},
   "outputs": [],
   "source": [
    "outputs"
   ]
  },
  {
   "cell_type": "code",
   "execution_count": null,
   "id": "1655367e-2a21-4832-8491-279c5cbd5814",
   "metadata": {},
   "outputs": [],
   "source": []
  },
  {
   "cell_type": "markdown",
   "id": "8c719f3b-8f4b-4da5-84c5-c862ce93cd4c",
   "metadata": {},
   "source": [
    "## .register_full_backward_hook()"
   ]
  },
  {
   "cell_type": "code",
   "execution_count": null,
   "id": "55738aa7-93a6-4e2e-b21a-f68b9d577317",
   "metadata": {},
   "outputs": [],
   "source": [
    "grads = {}\n",
    "def save_grad_in(name, module, grad_in, grad_out):\n",
    "    module_name = f'{name}_{str(module)}'\n",
    "    grads[module_name] = grad_in\n",
    "\n",
    "# 出力のshapeをdictに保存\n",
    "for name, module in conv_model.named_modules():\n",
    "    # print(name, module)\n",
    "    if name: # 自分自身のmoduleにはhookをつけない\n",
    "        module.register_full_backward_hook(partial(save_grad_in, name))\n",
    "        "
   ]
  },
  {
   "cell_type": "code",
   "execution_count": null,
   "id": "0fbfa322-a4e9-4c3b-8a33-3454380cbedf",
   "metadata": {},
   "outputs": [],
   "source": [
    "print_hooks(conv_model)"
   ]
  },
  {
   "cell_type": "code",
   "execution_count": null,
   "id": "ae76d7f4-5e24-4741-beb7-0119fc1cda87",
   "metadata": {},
   "outputs": [],
   "source": [
    "# backward \n",
    "X = torch.rand((1, 1, 28, 28))\n",
    "output = conv_model(X)\n",
    "loss = output.mean()\n",
    "loss.backward()"
   ]
  },
  {
   "cell_type": "code",
   "execution_count": null,
   "id": "f4e0a800-166d-4b3a-bf56-69b1b6a5f531",
   "metadata": {
    "scrolled": true
   },
   "outputs": [],
   "source": [
    "grads"
   ]
  },
  {
   "cell_type": "code",
   "execution_count": null,
   "id": "416be21d-18f5-4d9d-8a4b-030c1bb18b22",
   "metadata": {},
   "outputs": [],
   "source": [
    "## Activationの分布"
   ]
  },
  {
   "cell_type": "code",
   "execution_count": 2,
   "id": "17222b89-efe3-4586-8c19-671b44d3784c",
   "metadata": {},
   "outputs": [],
   "source": [
    "# model \n",
    "conv_model = nn.Sequential(\n",
    "    # 1x28x28\n",
    "    nn.Conv2d(1, 4, kernel_size=3, stride=2, padding=1),\n",
    "    nn.ReLU(),\n",
    "\n",
    "    # 4x14x14\n",
    "    nn.Conv2d(4, 8, kernel_size=3, stride=2, padding=1),\n",
    "    nn.ReLU(),\n",
    "\n",
    "    # 8x7x7\n",
    "    nn.Conv2d(8, 16, kernel_size=3, stride=2, padding=1),\n",
    "    nn.ReLU(),\n",
    "\n",
    "    # 16x4x4\n",
    "    nn.Conv2d(16, 32, kernel_size=3, stride=2, padding=1),\n",
    "    nn.ReLU(),\n",
    "\n",
    "    # 32x2x2\n",
    "    nn.Flatten(),\n",
    "    nn.Linear(128, 10)\n",
    "\n",
    ")\n",
    "\n",
    "outputs = {}\n",
    "def save_output(name, module, inp, out):\n",
    "    module_name = f'{name}_{str(module)}'\n",
    "    outputs[module_name] = out.shape\n",
    "\n",
    "# 出力のshapeをdictに保存\n",
    "for name, module in conv_model.named_modules():\n",
    "    if name: \n",
    "        module.register_forward_hook(partial(save_output, name))\n",
    "        "
   ]
  },
  {
   "cell_type": "code",
   "execution_count": 11,
   "id": "5614c06d-b8e5-4f6f-9d43-8c659ea512de",
   "metadata": {},
   "outputs": [],
   "source": [
    "# forward \n",
    "# for module in conv_model:\n",
    "#     print(module)\n",
    "# # relu分のリストを作成\n",
    "# act_means = [[]  for module in conv_model if isinstance(module, nn.ReLU)]\n",
    "# act_stds = [[]  for module in conv_model if isinstance(module, nn.ReLU)]\n",
    "\n",
    "# def save_out_stats(i, module, inp, out):\n",
    "#     act_means[i].append(out.mean().item())\n",
    "#     act_stds[i].append(out.std().item())\n",
    "    \n",
    "# relu_layers = [module for module in conv_model if isinstance(module, nn.ReLU)]\n",
    "# for i, relu in enumerate(relu_layers):\n",
    "#     relu.register_forward_hook(partial(save_out_stats, i))\n",
    "\n",
    "# 上記のものをclass化する\n",
    "\n",
    "class ActivationStatistics:\n",
    "\n",
    "    def __init__(self, model):\n",
    "        self.model = model\n",
    "        self.act_means = [ [] for module in self.model if isinstance(module, nn.ReLU)]\n",
    "        self.act_stds = [ [] for module in self.model if isinstance(module, nn.ReLU)]\n",
    "        self.register_hook()\n",
    "\n",
    "    def register_hook(self):\n",
    "        relu_layers = [module for module in self.model if isinstance(module, nn.ReLU)]\n",
    "        for i, relu in enumerate(relu_layers):\n",
    "            relu.register_forward_hook(partial(self.save_out_stats, i))\n",
    "\n",
    "    def save_out_stats(self, i, module, inp, out):\n",
    "        # relu層からout(mean, std)は計算グラフを作成するので、計算グラフを作成しない処理 -> detach\n",
    "        # detachをするとCPUで学習するので、明示的にCPUで処理するようにする。\n",
    "        self.act_means[i].append(out.detach().cpu().mean().item())\n",
    "        self.act_stds[i].append(out.detach().cpu().std().item())\n",
    "\n",
    "    def get_statstics(self):\n",
    "        return self.act_means, self.act_stds\n",
    "\n",
    "    def plot_statistics(self):\n",
    "        fig, axs = plt.subplots(1, 2, figsize=(15, 5))\n",
    "        for act_mean in self.act_means:\n",
    "            axs[0].plot(act_mean)\n",
    "        axs[0].set_title('Activation means')\n",
    "        plt.legend(range(len(self.act_means)))\n",
    "        \n",
    "\n",
    "        for act_std in self.act_stds:\n",
    "            axs[1].plot(act_std)\n",
    "        axs[1].set_title('Activation means')\n",
    "        plt.legend(range(len(self.act_stds)))\n",
    "        \n",
    "        plt.show()"
   ]
  },
  {
   "cell_type": "code",
   "execution_count": 12,
   "id": "a4161785-082b-461e-b19b-ce664fddfaf3",
   "metadata": {},
   "outputs": [
    {
     "ename": "NameError",
     "evalue": "name 'conv_model' is not defined",
     "output_type": "error",
     "traceback": [
      "\u001b[0;31m---------------------------------------------------------------------------\u001b[0m",
      "\u001b[0;31mNameError\u001b[0m                                 Traceback (most recent call last)",
      "Cell \u001b[0;32mIn[12], line 1\u001b[0m\n\u001b[0;32m----> 1\u001b[0m act_stats \u001b[38;5;241m=\u001b[39m ActivationStatistics(\u001b[43mconv_model\u001b[49m)\n",
      "\u001b[0;31mNameError\u001b[0m: name 'conv_model' is not defined"
     ]
    }
   ],
   "source": [
    "act_stats = ActivationStatistics(conv_model)"
   ]
  },
  {
   "cell_type": "code",
   "execution_count": null,
   "id": "f792f810-47a4-47b3-b7c9-1df5fe5ba027",
   "metadata": {},
   "outputs": [],
   "source": [
    "[module for module in conv_model if isinstance(module, nn.ReLU)]"
   ]
  },
  {
   "cell_type": "code",
   "execution_count": 2,
   "id": "5f6f3997-3e29-4fe6-a286-44545ee7dacd",
   "metadata": {},
   "outputs": [],
   "source": [
    "# データ準備\n",
    "transform = transforms.Compose([\n",
    "    transforms.ToTensor(),\n",
    "    transforms.Normalize((0.5, ), (0.5,)),\n",
    "])\n",
    "\n",
    "\n",
    "\n",
    "train_dataset = torchvision.datasets.FashionMNIST('./fminist_data', train = True, download=True, transform=transform)\n",
    "val_dataset = torchvision.datasets.FashionMNIST('./fminist_data', train = False, download=True, transform=transform)\n",
    "\n",
    "# dataloader \n",
    "train_loader = DataLoader(train_dataset, batch_size = 1024, shuffle=True, num_workers=4)\n",
    "val_loader = DataLoader(val_dataset, batch_size = 1024, num_workers=4)\n"
   ]
  },
  {
   "cell_type": "code",
   "execution_count": null,
   "id": "e3080ac9-8532-4f3c-807d-48278757ba77",
   "metadata": {},
   "outputs": [],
   "source": [
    "opt = optim.SGD(conv_model.parameters(), lr=0.6)"
   ]
  },
  {
   "cell_type": "code",
   "execution_count": null,
   "id": "48ecbbd7-2595-48dc-8d70-2f8ca7374bc1",
   "metadata": {},
   "outputs": [],
   "source": [
    "train_losses, val_losses, val_accuracy = utils.learn(conv_model, train_loader, val_loader, opt, F.cross_entropy, num_epoch=3)\n"
   ]
  },
  {
   "cell_type": "code",
   "execution_count": null,
   "id": "4a809815-43db-4124-8fde-068fb231cfff",
   "metadata": {},
   "outputs": [],
   "source": [
    "act_means, act_stds = act_stats.get_statstics()"
   ]
  },
  {
   "cell_type": "code",
   "execution_count": null,
   "id": "bca48b6a-a99a-40de-8d02-02d898098fa1",
   "metadata": {},
   "outputs": [],
   "source": [
    "act_stats.plot_statistics()"
   ]
  },
  {
   "cell_type": "code",
   "execution_count": null,
   "id": "47bd3fbe-7e2a-4b4f-9880-d0f753116308",
   "metadata": {},
   "outputs": [],
   "source": [
    "# act_means   # [[], [], [], []]\n",
    "for act_mean in act_means:\n",
    "    plt.plot(act_mean)\n",
    "\n",
    "plt.legend(range(len(act_means)))"
   ]
  },
  {
   "cell_type": "code",
   "execution_count": null,
   "id": "cbeede18-c1d8-45a0-9abb-95cb220b9756",
   "metadata": {},
   "outputs": [],
   "source": []
  },
  {
   "cell_type": "code",
   "execution_count": null,
   "id": "5a1cdf3f-39ff-4d22-b40b-e62e2740ca82",
   "metadata": {},
   "outputs": [],
   "source": [
    "# act_means   # [[], [], [], []]\n",
    "for act_std in act_stds:\n",
    "    plt.plot(act_std)\n",
    "\n",
    "plt.legend(range(len(act_std)))"
   ]
  },
  {
   "cell_type": "markdown",
   "id": "43a2126d-f99f-4c22-bcb8-4f98659fe1bc",
   "metadata": {},
   "source": [
    "このグラフから何を言っているのかと\n",
    "1層目のReLU層の平均値をみると、stepがめっちゃ上がって下がって、いる\n",
    "-> 学習がしにくい状況になっている\n",
    "つまり、分布が変わっている\n",
    "各Activation分布を見ることで、学習が滑らかに進んではいない\n",
    "平均が上がったり、下がったりしている -> 内部共変量が起きている"
   ]
  },
  {
   "cell_type": "markdown",
   "id": "e2df050d",
   "metadata": {},
   "source": [
    "## Batch Normスクラッチ実装"
   ]
  },
  {
   "cell_type": "code",
   "execution_count": 5,
   "id": "0db74420-591b-4784-8715-6836f414ba54",
   "metadata": {},
   "outputs": [],
   "source": [
    "# 全結合層の場合はX.shape = [b, out_feature]\n",
    "# dim=(0)で平均、分散を求める\n",
    "def batch_norm(X, gamma=1, beta=0, eps=1e-5):\n",
    "\n",
    "    # dim=(0, 2, 3)はそれぞれの軸で平均を取る -> それぞれのchannelごとの平均\n",
    "    mean = X.mean(dim=(0, 2, 3), keepdim=True)\n",
    "    var = X.var(dim=(0, 2, 3), keepdim=True)\n",
    "    # 分母0を防ぐために微小の値を足す\n",
    "    X_norm = (X - mean) / (torch.sqrt(var) + eps)\n",
    "    return gamma * X_norm + beta"
   ]
  },
  {
   "cell_type": "code",
   "execution_count": null,
   "id": "9877ba3c-b0e1-4bbd-8e50-dd8c9d1b6e6f",
   "metadata": {},
   "outputs": [],
   "source": [
    "X = torch.randn(8, 3, 16, 16)\n",
    "X.shape\n"
   ]
  },
  {
   "cell_type": "code",
   "execution_count": 4,
   "id": "699dd27d-102d-44d9-a875-cfa4e34c9b29",
   "metadata": {},
   "outputs": [
    {
     "ename": "NameError",
     "evalue": "name 'X' is not defined",
     "output_type": "error",
     "traceback": [
      "\u001b[0;31m---------------------------------------------------------------------------\u001b[0m",
      "\u001b[0;31mNameError\u001b[0m                                 Traceback (most recent call last)",
      "Cell \u001b[0;32mIn[4], line 4\u001b[0m\n\u001b[1;32m      1\u001b[0m eps \u001b[38;5;241m=\u001b[39m \u001b[38;5;241m1e-6\u001b[39m\n\u001b[1;32m      3\u001b[0m \u001b[38;5;66;03m# dim=(0, 2, 3)はそれぞれの軸で平均を取る -> それぞれのchannelごとの平均\u001b[39;00m\n\u001b[0;32m----> 4\u001b[0m mean \u001b[38;5;241m=\u001b[39m \u001b[43mX\u001b[49m\u001b[38;5;241m.\u001b[39mmean(dim\u001b[38;5;241m=\u001b[39m(\u001b[38;5;241m0\u001b[39m, \u001b[38;5;241m2\u001b[39m, \u001b[38;5;241m3\u001b[39m), keepdim\u001b[38;5;241m=\u001b[39m\u001b[38;5;28;01mTrue\u001b[39;00m)\n\u001b[1;32m      5\u001b[0m var \u001b[38;5;241m=\u001b[39m X\u001b[38;5;241m.\u001b[39mvar(dim\u001b[38;5;241m=\u001b[39m(\u001b[38;5;241m0\u001b[39m, \u001b[38;5;241m2\u001b[39m, \u001b[38;5;241m3\u001b[39m), keepdim\u001b[38;5;241m=\u001b[39m\u001b[38;5;28;01mTrue\u001b[39;00m)\n\u001b[1;32m      6\u001b[0m \u001b[38;5;66;03m# 分母0を防ぐために微小の値を足す\u001b[39;00m\n",
      "\u001b[0;31mNameError\u001b[0m: name 'X' is not defined"
     ]
    }
   ],
   "source": [
    "eps = 1e-6\n",
    "\n",
    "# dim=(0, 2, 3)はそれぞれの軸で平均を取る -> それぞれのchannelごとの平均\n",
    "mean = X.mean(dim=(0, 2, 3), keepdim=True)\n",
    "var = X.var(dim=(0, 2, 3), keepdim=True)\n",
    "# 分母0を防ぐために微小の値を足す\n",
    "X_norm = (X - mean) / torch.sqrt(var + eps)"
   ]
  },
  {
   "cell_type": "code",
   "execution_count": 21,
   "id": "7d126109-799a-4d01-95e2-2c95223780f0",
   "metadata": {},
   "outputs": [
    {
     "data": {
      "text/plain": [
       "torch.Size([1, 28, 28])"
      ]
     },
     "execution_count": 21,
     "metadata": {},
     "output_type": "execute_result"
    }
   ],
   "source": [
    "X, y = train_dataset[0]\n",
    "X.shape"
   ]
  },
  {
   "cell_type": "code",
   "execution_count": 22,
   "id": "878c3898-529f-4a5f-a2ca-b7e6415a7b17",
   "metadata": {},
   "outputs": [
    {
     "data": {
      "text/plain": [
       "<matplotlib.image.AxesImage at 0x7fffd1e57dc0>"
      ]
     },
     "execution_count": 22,
     "metadata": {},
     "output_type": "execute_result"
    },
    {
     "data": {
      "image/png": "[encoded data removed]",
      "text/plain": [
       "<Figure size 640x480 with 1 Axes>"
      ]
     },
     "metadata": {},
     "output_type": "display_data"
    }
   ],
   "source": [
    "# 0 ~ 1に正規化\n",
    "X = X / 2 + 0.5\n",
    "\n",
    "# 可視化\n",
    "plt.imshow(np.transpose(X, (1, 2, 0)), cmap='gray')"
   ]
  },
  {
   "cell_type": "code",
   "execution_count": 23,
   "id": "403eb6e6-ec5e-4b5a-8736-496c81d15b3f",
   "metadata": {},
   "outputs": [
    {
     "data": {
      "text/plain": [
       "<matplotlib.image.AxesImage at 0x7fffd1d4f5b0>"
      ]
     },
     "execution_count": 23,
     "metadata": {},
     "output_type": "execute_result"
    },
    {
     "data": {
      "image/png": "[encoded data removed]",
      "text/plain": [
       "<Figure size 640x480 with 1 Axes>"
      ]
     },
     "metadata": {},
     "output_type": "display_data"
    }
   ],
   "source": [
    "# 特徴量を抽出\n",
    "def apply_filter(im, filter):\n",
    "    output_data = []\n",
    "    im_h, im_w = im.shape\n",
    "    f_h, f_w = filter.shape\n",
    "    for i in range(im_h - f_h + 1):\n",
    "        row = []\n",
    "        for j in range(im_w - f_w + 1):\n",
    "            row.append((im[i:i+f_h, j:j+f_w] * filter).sum().item())\n",
    "        output_data.append(row)\n",
    "\n",
    "    return torch.tensor(output_data)\n",
    "\n",
    "left_edge_filter = torch.tensor([[-1, 0, 1], [-1, 0, 1], [-1, 0, 1]])\n",
    "\n",
    "def relu(X):\n",
    "    return torch.clamp(X, min=0)\n",
    "\n",
    "# rankを二つ\n",
    "X_ = X[0, :, :]\n",
    "\n",
    "conv_out = apply_filter(X_, left_edge_filter)\n",
    "plt.imshow(conv_out, cmap='gray')"
   ]
  },
  {
   "cell_type": "code",
   "execution_count": 9,
   "id": "a022d363-01ec-4784-8092-d638ccd71df2",
   "metadata": {},
   "outputs": [
    {
     "name": "stdout",
     "output_type": "stream",
     "text": [
      "tensor(0.0442) tensor(0.6041)\n"
     ]
    }
   ],
   "source": [
    "# 平均とstd見る\n",
    "print(conv_out.mean(), conv_out.std())"
   ]
  },
  {
   "cell_type": "code",
   "execution_count": 10,
   "id": "966e3905",
   "metadata": {},
   "outputs": [
    {
     "data": {
      "text/plain": [
       "torch.Size([26, 26])"
      ]
     },
     "execution_count": 10,
     "metadata": {},
     "output_type": "execute_result"
    }
   ],
   "source": [
    "conv_out.shape"
   ]
  },
  {
   "cell_type": "code",
   "execution_count": 11,
   "id": "ebacb4ad-bb84-465b-bf64-37dfdef2d979",
   "metadata": {},
   "outputs": [],
   "source": [
    "\n",
    "\n",
    "conv_out = conv_out[None, None, :, :]\n",
    "norm_out = batch_norm(conv_out)\n",
    "\n"
   ]
  },
  {
   "cell_type": "code",
   "execution_count": 12,
   "id": "e1a5d8ae",
   "metadata": {},
   "outputs": [
    {
     "data": {
      "text/plain": [
       "torch.Size([1, 1, 26, 26])"
      ]
     },
     "execution_count": 12,
     "metadata": {},
     "output_type": "execute_result"
    }
   ],
   "source": [
    "norm_out.shape"
   ]
  },
  {
   "cell_type": "code",
   "execution_count": 13,
   "id": "bcd10e16",
   "metadata": {},
   "outputs": [
    {
     "name": "stdout",
     "output_type": "stream",
     "text": [
      "tensor(-1.6224e-08) tensor(1.0000)\n"
     ]
    }
   ],
   "source": [
    "print(norm_out.mean(), norm_out.std())"
   ]
  },
  {
   "cell_type": "code",
   "execution_count": 14,
   "id": "168de1df",
   "metadata": {},
   "outputs": [],
   "source": [
    "# plt.imshow(norm_out[0, 0, :, :], cmap='gray')"
   ]
  },
  {
   "cell_type": "code",
   "execution_count": 15,
   "id": "7b0450ac",
   "metadata": {},
   "outputs": [
    {
     "data": {
      "text/plain": [
       "torch.Size([1, 1, 26, 26])"
      ]
     },
     "execution_count": 15,
     "metadata": {},
     "output_type": "execute_result"
    }
   ],
   "source": [
    "# reluをかます\n",
    "relu_out = relu(norm_out)\n",
    "relu_out.shape"
   ]
  },
  {
   "cell_type": "code",
   "execution_count": 16,
   "id": "947dc8dc",
   "metadata": {},
   "outputs": [
    {
     "data": {
      "text/plain": [
       "<matplotlib.image.AxesImage at 0x7fff130ed3d0>"
      ]
     },
     "execution_count": 16,
     "metadata": {},
     "output_type": "execute_result"
    },
    {
     "data": {
      "image/png": "[encoded data removed]",
      "text/plain": [
       "<Figure size 640x480 with 1 Axes>"
      ]
     },
     "metadata": {},
     "output_type": "display_data"
    }
   ],
   "source": [
    "plt.imshow(relu_out[0, 0, :, :], cmap='gray')"
   ]
  },
  {
   "cell_type": "code",
   "execution_count": null,
   "id": "7351dfd8",
   "metadata": {},
   "outputs": [],
   "source": []
  },
  {
   "cell_type": "markdown",
   "id": "22d21b8d",
   "metadata": {},
   "source": [
    "## nn.BatchNorm2d()"
   ]
  },
  {
   "cell_type": "code",
   "execution_count": 17,
   "id": "108efdff",
   "metadata": {},
   "outputs": [],
   "source": [
    "X, y = next(iter(train_loader))\n",
    "\n",
    "# たてよこ半分にするconv2d\n",
    "conv_out = nn.Conv2d(1, 8, kernel_size=3, stride=2, padding=1)(X)\n",
    "norm_out = nn.BatchNorm2d(8)(conv_out)"
   ]
  },
  {
   "cell_type": "code",
   "execution_count": 18,
   "id": "4aff0493",
   "metadata": {},
   "outputs": [
    {
     "data": {
      "text/plain": [
       "torch.Size([1024, 1, 28, 28])"
      ]
     },
     "execution_count": 18,
     "metadata": {},
     "output_type": "execute_result"
    }
   ],
   "source": [
    "X.shape"
   ]
  },
  {
   "cell_type": "code",
   "execution_count": 19,
   "id": "95d44dc0",
   "metadata": {},
   "outputs": [
    {
     "name": "stdout",
     "output_type": "stream",
     "text": [
      "平均 tensor(-0.1087, grad_fn=<MeanBackward0>) 標準偏差 tensor(0.5746, grad_fn=<StdBackward0>)\n",
      "batch norm後の平均 tensor([ 7.2605e-09, -3.8583e-09, -2.7750e-09, -1.7139e-08,  7.5836e-09,\n",
      "        -4.4703e-08,  2.4119e-08,  1.3039e-08], grad_fn=<MeanBackward1>) batch norm後の標準偏差 tensor([1.0000, 1.0000, 1.0000, 0.9999, 1.0000, 1.0000, 1.0000, 1.0000],\n",
      "       grad_fn=<StdBackward0>)\n"
     ]
    }
   ],
   "source": [
    "print('平均', conv_out.mean(), '標準偏差', conv_out.std())\n",
    "print('batch norm後の平均', norm_out.mean(dim=(0, 2, 3)), 'batch norm後の標準偏差', norm_out.std(dim=(0, 2, 3)))\n"
   ]
  },
  {
   "cell_type": "code",
   "execution_count": 20,
   "id": "e2319c67",
   "metadata": {},
   "outputs": [
    {
     "data": {
      "text/plain": [
       "[Parameter containing:\n",
       " tensor([1., 1., 1., 1., 1., 1., 1., 1.], requires_grad=True),\n",
       " Parameter containing:\n",
       " tensor([0., 0., 0., 0., 0., 0., 0., 0.], requires_grad=True)]"
      ]
     },
     "execution_count": 20,
     "metadata": {},
     "output_type": "execute_result"
    }
   ],
   "source": [
    "# batch normのパラメータ確認する\n",
    "list(nn.BatchNorm2d(8).parameters())\n",
    "\n",
    "# 出力からわかるように2つのパラメータを持つ -> scaleのガンマ, シフトのベータ\n",
    "# 今回は初期値は(scale, shift) = (1, 0)に設定した。"
   ]
  },
  {
   "cell_type": "code",
   "execution_count": 21,
   "id": "7094cc26",
   "metadata": {},
   "outputs": [],
   "source": [
    "# modelにbatch_normを適用する\n",
    "def get_conv_model():\n",
    "    conv_model = nn.Sequential(\n",
    "        # 1x28x28\n",
    "        nn.Conv2d(1, 4, kernel_size=3, stride=2, padding=1),\n",
    "        nn.BatchNorm2d(4),\n",
    "        nn.ReLU(),\n",
    "\n",
    "        # 4x14x14\n",
    "        nn.Conv2d(4, 8, kernel_size=3, stride=2, padding=1),\n",
    "        nn.BatchNorm2d(8),\n",
    "        nn.ReLU(),\n",
    "\n",
    "        # 8x7x7\n",
    "        nn.Conv2d(8, 16, kernel_size=3, stride=2, padding=1),\n",
    "        nn.BatchNorm2d(16),\n",
    "        nn.ReLU(),\n",
    "\n",
    "        # 16x4x4\n",
    "        nn.Conv2d(16, 32, kernel_size=3, stride=2, padding=1),\n",
    "        nn.BatchNorm2d(32),\n",
    "        nn.ReLU(),\n",
    "\n",
    "        # 32x2x2\n",
    "        nn.Flatten(),\n",
    "        nn.Linear(128, 10)\n",
    "    )"
   ]
  },
  {
   "cell_type": "code",
   "execution_count": 39,
   "id": "2000bae6",
   "metadata": {},
   "outputs": [],
   "source": [
    "# batchnormを適用したmodel\n",
    "def get_gap_conv_model():\n",
    "    return nn.Sequential(\n",
    "    # 1x28x28 \n",
    "    nn.Conv2d(1,4, kernel_size=3, stride=2, padding=1),\n",
    "    nn.BatchNorm2d(4),\n",
    "    nn.ReLU(),\n",
    "\n",
    "    # 4x14x14\n",
    "    nn.Conv2d(4, 8, kernel_size=3, stride=2, padding=1),\n",
    "    nn.BatchNorm2d(8),\n",
    "    nn.ReLU(),\n",
    "\n",
    "    # 8x7x7\n",
    "    nn.Conv2d(8,16, kernel_size=3, stride=2, padding=1),\n",
    "    nn.BatchNorm2d(16),\n",
    "    nn.ReLU(),\n",
    "\n",
    "    # 16x4x4\n",
    "    nn.Conv2d(16,32, kernel_size=3, stride=2, padding=1),\n",
    "    nn.BatchNorm2d(32),\n",
    "    nn.ReLU(),\n",
    "    # 32x2x2\n",
    "    # nn.Flatten() <- GAP -> 32x1x1\n",
    "    nn.AdaptiveAvgPool2d(1),\n",
    "    # 32xx1x1\n",
    "    nn.Flatten(),\n",
    "    # 32\n",
    "    nn.Linear(32, 10) \n",
    ")"
   ]
  },
  {
   "cell_type": "code",
   "execution_count": 40,
   "id": "28028eb7",
   "metadata": {},
   "outputs": [],
   "source": [
    "\n",
    "conv_model_w_bn = get_gap_conv_model()\n",
    "act_stats = ActivationStatistics(conv_model_w_bn)"
   ]
  },
  {
   "cell_type": "code",
   "execution_count": 42,
   "id": "8cb7a409",
   "metadata": {},
   "outputs": [
    {
     "name": "stderr",
     "output_type": "stream",
     "text": [
      "                                                           "
     ]
    },
    {
     "name": "stdout",
     "output_type": "stream",
     "text": [
      "epoch: 0: train error: 0.9310743424852016, validation error: 0.5989604771137238, validation accuracy: 0.7869758427143096\n"
     ]
    },
    {
     "name": "stderr",
     "output_type": "stream",
     "text": [
      "                                                          "
     ]
    },
    {
     "name": "stdout",
     "output_type": "stream",
     "text": [
      "epoch: 1: train error: 0.4931398998882811, validation error: 0.590716540813446, validation accuracy: 0.7981285870075225\n"
     ]
    },
    {
     "name": "stderr",
     "output_type": "stream",
     "text": [
      "                                                           "
     ]
    },
    {
     "name": "stdout",
     "output_type": "stream",
     "text": [
      "epoch: 2: train error: 0.41752166465177376, validation error: 0.4228111058473587, validation accuracy: 0.8471480369567871\n"
     ]
    },
    {
     "name": "stderr",
     "output_type": "stream",
     "text": [
      "\r"
     ]
    }
   ],
   "source": [
    "opt = optim.SGD(conv_model_w_bn.parameters(), lr=0.6)\n",
    "# learn\n",
    "train_losses, val_losses, val_accuracy = utils.learn(conv_model_w_bn, train_loader, val_loader, opt, F.cross_entropy, num_epoch=3)"
   ]
  },
  {
   "cell_type": "code",
   "execution_count": 44,
   "id": "9d23147c",
   "metadata": {},
   "outputs": [
    {
     "data": {
      "image/png": "[encoded data removed]",
      "text/plain": [
       "<Figure size 1500x500 with 2 Axes>"
      ]
     },
     "metadata": {},
     "output_type": "display_data"
    }
   ],
   "source": [
    "# 正規化することで1epochから正解率が高い -> 学習率を高くできて効率よく学習できる -> 早く収束する\n",
    "act_stats.plot_statistics()"
   ]
  },
  {
   "cell_type": "markdown",
   "id": "80ec897a",
   "metadata": {},
   "source": [
    "## Layer Normalizationをスクラッチで実装"
   ]
  },
  {
   "cell_type": "code",
   "execution_count": 3,
   "id": "f75f7717",
   "metadata": {},
   "outputs": [],
   "source": [
    "class LayerNormalization(nn.Module):\n",
    "    def __init__(self, normalized_shape, eps=1e-5):\n",
    "        super(LayerNormalization, self).__init__()\n",
    "        self.eps = eps\n",
    "        self.gamma = nn.Parameter(torch.ones(normalized_shape))\n",
    "        self.beta = nn.Parameter(torch.zeros(normalized_shape))\n",
    "\n",
    "    def forward(self, x):\n",
    "        mean = x.mean(dim=-1, keepdim=True)\n",
    "        std = x.std(dim=-1, keepdim=True)\n",
    "        return self.gamma * (x - mean) / (std + self.eps) + self.beta\n"
   ]
  },
  {
   "cell_type": "code",
   "execution_count": 15,
   "id": "31eb88af",
   "metadata": {},
   "outputs": [],
   "source": [
    "# 全結合層の場合はX.shape = [b, out_feature]\n",
    "# dim=(0)で平均、分散を求める\n",
    "def batch_norm(X, gamma=1, beta=0, eps=1e-5):\n",
    "\n",
    "    # dim=(0, 2, 3)はそれぞれの軸で平均を取る -> それぞれのchannelごとの平均\n",
    "    mean = X.mean(dim=(0, 2, 3), keepdim=True)\n",
    "    var = X.var(dim=(0, 2, 3), keepdim=True)\n",
    "    # 分母0を防ぐために微小の値を足す\n",
    "    X_norm = (X - mean) / (torch.sqrt(var) + eps)\n",
    "    return gamma * X_norm + beta\n",
    "\n",
    "    \n",
    "def LayerNormalization(X, gamma=1, beta=0, eps=1e-5):\n",
    "    mean = X.mean(dim=(1,2,3), keepdim=True)\n",
    "    var = X.var(dim=(1,2,3) ,keepdim=True)\n",
    "    # 正規化\n",
    "    X_norm = (X - mean) / torch.sqrt(var + eps)\n",
    "    return gamma * X_norm + beta\n"
   ]
  },
  {
   "cell_type": "code",
   "execution_count": 16,
   "id": "2a6d2efb",
   "metadata": {},
   "outputs": [
    {
     "data": {
      "text/plain": [
       "tensor([[[[ 0.5176, -0.3393,  0.4106, -0.4437],\n",
       "          [-0.4256, -1.3078,  2.4935, -0.9745],\n",
       "          [ 2.4230, -0.9164, -0.0818,  0.3815],\n",
       "          [-1.9507,  1.0775, -0.2051, -0.5242]],\n",
       "\n",
       "         [[ 2.3819, -1.2775,  0.5256,  0.6030],\n",
       "          [-1.4883,  0.7958, -1.1899,  0.2708],\n",
       "          [ 0.0508, -2.0548, -0.0158,  0.2949],\n",
       "          [-0.8502,  0.5806, -0.1394,  0.6054]],\n",
       "\n",
       "         [[ 0.6434,  0.4912,  0.8528, -0.8391],\n",
       "          [-0.5217,  0.2764, -0.7778, -0.8830],\n",
       "          [-0.5897, -0.4558,  0.6328,  1.3189],\n",
       "          [ 0.5006, -0.1525, -0.1615,  0.4371]]],\n",
       "\n",
       "\n",
       "        [[[-1.9922, -0.6024, -0.9246,  1.5843],\n",
       "          [ 0.8562, -0.1459, -1.3183,  1.0175],\n",
       "          [ 2.0547,  0.5699,  1.6056, -1.3340],\n",
       "          [-0.0572,  1.5772,  1.3214, -0.0408]],\n",
       "\n",
       "         [[-1.8906,  0.6475,  0.3988,  0.4511],\n",
       "          [-0.0211, -0.1609,  0.0693, -0.2659],\n",
       "          [ 0.6400,  0.1574, -1.3714, -1.4184],\n",
       "          [ 0.5414, -0.6449,  0.6319, -0.4860]],\n",
       "\n",
       "         [[-0.4115,  0.1732,  1.8166, -0.7464],\n",
       "          [-1.2146,  0.2836, -0.6414,  0.8378],\n",
       "          [-0.0040,  0.8003, -0.1196, -1.6648],\n",
       "          [ 1.0103, -1.0924, -0.3447, -0.1316]]]])"
      ]
     },
     "execution_count": 16,
     "metadata": {},
     "output_type": "execute_result"
    }
   ],
   "source": [
    "X = torch.randn(2, 3, 4, 4)\n",
    "norm_out = LayerNormalization(X, gamma=1, beta=0)\n",
    "norm_out"
   ]
  },
  {
   "cell_type": "code",
   "execution_count": 10,
   "id": "04155d91",
   "metadata": {},
   "outputs": [
    {
     "data": {
      "text/plain": [
       "tensor([2., 5.])"
      ]
     },
     "execution_count": 10,
     "metadata": {},
     "output_type": "execute_result"
    }
   ],
   "source": [
    "# データごと(横)に平均を取る\n",
    "X.mean(dim=1)"
   ]
  },
  {
   "cell_type": "code",
   "execution_count": null,
   "id": "580b87c9",
   "metadata": {},
   "outputs": [],
   "source": [
    "# 全結合層の場合はX.shape = [b, out_feature]\n",
    "# dim=(0)で平均、分散を求める\n",
    "def batch_norm(X, gamma=1, beta=0, eps=1e-5):\n",
    "\n",
    "    # dim=(0, 2, 3)はそれぞれの軸で平均を取る -> それぞれのchannelごとの平均\n",
    "    mean = X.mean(dim=(0, 2, 3), keepdim=True)\n",
    "    var = X.var(dim=(0, 2, 3), keepdim=True)\n",
    "    # 分母0を防ぐために微小の値を足す\n",
    "    X_norm = (X - mean) / (torch.sqrt(var) + eps)\n",
    "    return gamma * X_norm + beta"
   ]
  },
  {
   "cell_type": "markdown",
   "id": "faeedffa",
   "metadata": {},
   "source": [
    "## PytorchでのLayerNormalizationを実装"
   ]
  },
  {
   "cell_type": "code",
   "execution_count": 3,
   "id": "f386e795",
   "metadata": {},
   "outputs": [],
   "source": [
    "X, y = next(iter(train_loader))\n",
    "conv_out = nn.Conv2d(1, 8, kernel_size=3, stride=2, padding=1)(X)\n",
    "norm_out = nn.LayerNorm([8,14, 14])(conv_out)"
   ]
  },
  {
   "cell_type": "code",
   "execution_count": 4,
   "id": "691fda26",
   "metadata": {},
   "outputs": [
    {
     "name": "stdout",
     "output_type": "stream",
     "text": [
      "torch.Size([1024, 8, 14, 14])\n",
      "torch.Size([1024, 8, 14, 14])\n"
     ]
    }
   ],
   "source": [
    "print(conv_out.shape)\n",
    "print(norm_out.shape)"
   ]
  },
  {
   "cell_type": "code",
   "execution_count": 5,
   "id": "b1c9ad31",
   "metadata": {},
   "outputs": [
    {
     "name": "stdout",
     "output_type": "stream",
     "text": [
      "tensor(0.0014, grad_fn=<MeanBackward0>) tensor(0.3220, grad_fn=<StdBackward0>)\n",
      "tensor(1.5813e-08, grad_fn=<MeanBackward0>) tensor(1.0003, grad_fn=<StdBackward0>)\n"
     ]
    }
   ],
   "source": [
    "# しっかり正規化していることわかる\n",
    "print(conv_out[0].mean(), conv_out[0].std())\n",
    "print(norm_out[0].mean(), norm_out[0].std())"
   ]
  },
  {
   "cell_type": "code",
   "execution_count": 14,
   "metadata": {},
   "outputs": [
    {
     "name": "stderr",
     "output_type": "stream",
     "text": [
      "Training:  17%|█▋        | 10/59 [00:06<00:14,  3.47it/s]"
     ]
    }
   ],
   "source": [
    "# modelにlayernormを適用する\n",
    "def get_conv_model_ln():\n",
    "    return nn.Sequential(\n",
    "        # 1x28x28\n",
    "        nn.Conv2d(1, 4, kernel_size=3, stride=2, padding=1),\n",
    "        nn.LayerNorm([4, 14, 14]),\n",
    "        nn.ReLU(),\n",
    "\n",
    "        # 4x14x14\n",
    "        nn.Conv2d(4, 8, kernel_size=3, stride=2, padding=1),\n",
    "        nn.LayerNorm([8, 7, 7]),\n",
    "        nn.ReLU(),\n",
    "\n",
    "        # 8x7x7\n",
    "        nn.Conv2d(8, 16, kernel_size=3, stride=2, padding=1),\n",
    "        nn.LayerNorm([16, 4, 4]),\n",
    "        nn.ReLU(),\n",
    "\n",
    "        # 16x4x4\n",
    "        nn.Conv2d(16, 32, kernel_size=3, stride=2, padding=1),\n",
    "        nn.LayerNorm([32, 2, 2]),\n",
    "        nn.ReLU(),\n",
    "\n",
    "        # 32x2x2\n",
    "        nn.Flatten(),\n",
    "        nn.Linear(128, 10),\n",
    "    )\n",
    "\n",
    "conv_model_w_ln = get_conv_model_ln()\n",
    "act_stats = ActivationStatistics(conv_model_w_ln)\n",
    "opt = optim.SGD(conv_model_w_ln.parameters(), lr=0.6)\n",
    "train_losses, val_losses, val_accuracy = utils.learn(conv_model_w_ln, train_loader, val_loader, opt, F.cross_entropy, num_epoch=3)"
   ]
  },
  {
   "cell_type": "code",
   "execution_count": null,
   "id": "87726318",
   "metadata": {},
   "outputs": [],
   "source": []
  },
  {
   "cell_type": "code",
   "execution_count": null,
   "metadata": {},
   "outputs": [],
   "source": []
  },
  {
   "cell_type": "code",
   "execution_count": null,
   "metadata": {},
   "outputs": [],
   "source": []
  },
  {
   "cell_type": "markdown",
   "id": "a74fb731",
   "metadata": {},
   "source": []
  }
 ],
 "metadata": {
  "kernelspec": {
   "display_name": "Python 3 (ipykernel)",
   "language": "python",
   "name": "python3"
  },
  "language_info": {
   "codemirror_mode": {
    "name": "ipython",
    "version": 3
   },
   "file_extension": ".py",
   "mimetype": "text/x-python",
   "name": "python",
   "nbconvert_exporter": "python",
   "pygments_lexer": "ipython3",
   "version": "3.8.18"
  }
 },
 "nbformat": 4,
 "nbformat_minor": 5
}
