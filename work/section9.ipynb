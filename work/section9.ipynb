{
 "cells": [
  {
   "cell_type": "markdown",
   "id": "b5c0d506-a9a1-4b03-9fd0-2131ea96bef3",
   "metadata": {},
   "source": [
    "#  Pytorchのnnモジュール"
   ]
  },
  {
   "cell_type": "markdown",
   "id": "9229d040-28dc-4c67-8d13-ff4d8353153e",
   "metadata": {},
   "source": [
    "## nn.Linear"
   ]
  },
  {
   "cell_type": "code",
   "execution_count": 49,
   "id": "029e44ac-d460-449f-b0bc-3a06b3cd8236",
   "metadata": {},
   "outputs": [],
   "source": [
    "from torch import nn\n",
    "import torch\n",
    "import numpy as np\n",
    "import matplotlib.pyplot as plt\n",
    "from torch.nn import functional as F\n",
    "from sklearn import datasets\n",
    "from sklearn.model_selection import train_test_split"
   ]
  },
  {
   "cell_type": "code",
   "execution_count": 2,
   "id": "e0c01054-e0a6-45df-b87a-b37d1bc2c0f0",
   "metadata": {},
   "outputs": [],
   "source": [
    "linear = nn.Linear(64, 30)"
   ]
  },
  {
   "cell_type": "code",
   "execution_count": 3,
   "id": "3c9ac5cb-c1f1-4052-bc82-ac7cb540e059",
   "metadata": {},
   "outputs": [
    {
     "data": {
      "text/plain": [
       "[Parameter containing:\n",
       " tensor([[-0.1246, -0.0422,  0.0933,  ...,  0.0251, -0.1105,  0.0363],\n",
       "         [-0.0234,  0.0993, -0.1114,  ..., -0.0957, -0.0682, -0.1096],\n",
       "         [ 0.1018,  0.1114,  0.0463,  ..., -0.1060,  0.0523,  0.1003],\n",
       "         ...,\n",
       "         [ 0.0498, -0.0463, -0.0682,  ...,  0.0095,  0.0991, -0.0704],\n",
       "         [-0.0985, -0.0841,  0.0467,  ...,  0.0300,  0.0731,  0.0420],\n",
       "         [ 0.0692, -0.0128,  0.1135,  ...,  0.0558,  0.0845,  0.0487]],\n",
       "        requires_grad=True),\n",
       " Parameter containing:\n",
       " tensor([-0.0701,  0.0687,  0.0008, -0.1068, -0.0593,  0.0167,  0.1090,  0.0478,\n",
       "         -0.0077,  0.0226,  0.0130, -0.0681, -0.0388, -0.1002,  0.0215, -0.0342,\n",
       "          0.0385, -0.0796, -0.0171, -0.0766, -0.0219, -0.0937, -0.0837, -0.0441,\n",
       "         -0.0791,  0.0026, -0.1126,  0.0918, -0.0777, -0.0813],\n",
       "        requires_grad=True)]"
      ]
     },
     "execution_count": 3,
     "metadata": {},
     "output_type": "execute_result"
    }
   ],
   "source": [
    "list(linear.parameters())"
   ]
  },
  {
   "cell_type": "code",
   "execution_count": 4,
   "id": "d2b501d7-9eb6-4283-a160-e56a1294163d",
   "metadata": {},
   "outputs": [
    {
     "data": {
      "text/plain": [
       "torch.Size([30, 64])"
      ]
     },
     "execution_count": 4,
     "metadata": {},
     "output_type": "execute_result"
    }
   ],
   "source": [
    "linear.weight.shape # W = 出力 x 入力 (ex : 30 x 64)"
   ]
  },
  {
   "cell_type": "code",
   "execution_count": 5,
   "id": "a50deefe-5e1e-4653-9390-400fc100fe9d",
   "metadata": {},
   "outputs": [
    {
     "data": {
      "text/plain": [
       "torch.Size([30])"
      ]
     },
     "execution_count": 5,
     "metadata": {},
     "output_type": "execute_result"
    }
   ],
   "source": [
    "linear.bias.shape # b = 1 x 出力"
   ]
  },
  {
   "cell_type": "code",
   "execution_count": 6,
   "id": "b64abf88-e2f2-435d-aed0-d0dfc3df8619",
   "metadata": {},
   "outputs": [],
   "source": [
    "x = torch.randn((5, 64))\n",
    "Z = linear(x)"
   ]
  },
  {
   "cell_type": "markdown",
   "id": "da6479b5-1480-4ac1-af1c-760f6ffdc5bf",
   "metadata": {},
   "source": [
    "上記のcodeはZ = X @ W.T + bを計算している  \n",
    "Z = (5,64) @ (出力30, 入力64).T + b(1, 出力30)"
   ]
  },
  {
   "cell_type": "code",
   "execution_count": 7,
   "id": "b7d4ac7a-2538-4021-8af2-99be9c1a1b1c",
   "metadata": {},
   "outputs": [
    {
     "data": {
      "text/plain": [
       "torch.Size([5, 30])"
      ]
     },
     "execution_count": 7,
     "metadata": {},
     "output_type": "execute_result"
    }
   ],
   "source": [
    "Z.shape"
   ]
  },
  {
   "cell_type": "markdown",
   "id": "9d24a7a9-107c-4f60-80cd-5a932946f64e",
   "metadata": {},
   "source": [
    "## MLP実装"
   ]
  },
  {
   "cell_type": "markdown",
   "id": "24153762-4d35-4007-b8fe-10086e968c7a",
   "metadata": {},
   "source": [
    "### 1 nn.<class>とF.<function>を組み合わせる"
   ]
  },
  {
   "cell_type": "code",
   "execution_count": 26,
   "id": "28a186c3-d4ea-4322-9268-25ac4783b090",
   "metadata": {},
   "outputs": [],
   "source": [
    "# nnクラスとF.関数を組み合わせて作成する\n",
    "# MLP(親のクラス(継承する))\n",
    "class MLP(nn.Module):\n",
    "    \"\"\"\n",
    "    流れ : Linear -> 活性化関数(ReLU) -> Linear(出力層) [-> Loss]\n",
    "    - pytorchは最後の活性化関数とLossはModelに組み込まない\n",
    "    インスタンス生成時に受け取るもの : それぞれのレイヤーの次元を指定\n",
    "    \"\"\"\n",
    "    def __init__(self, num_in, num_hidden, num_out):\n",
    "        # 親のclassの継承\n",
    "        super().__init__()\n",
    "        self.l1 = nn.Linear(num_in, num_hidden)\n",
    "        self.l2 = nn.Linear(num_hidden, num_out) # 出力層の全結合層\n",
    "\n",
    "    # forwardの処理(順伝播の処理)\n",
    "    def forward(self, x):\n",
    "        \"\"\"\n",
    "        z1 = self.l1(x)\n",
    "        a1 = F.relu(z1)\n",
    "        z2 = self.l2(a1)\n",
    "        上記の処理をまとめて書く\n",
    "        ただし、層が少ないときに書く。多いと見にくくなるから上記の書き方\n",
    "        \"\"\" \n",
    "        \n",
    "        x = self.l2(F.relu(self.l1(x)))\n",
    "        return x\n",
    "\n",
    "    "
   ]
  },
  {
   "cell_type": "code",
   "execution_count": null,
   "id": "859142dd-3ab1-42d4-816f-4362a29c49cb",
   "metadata": {},
   "outputs": [],
   "source": []
  },
  {
   "cell_type": "code",
   "execution_count": 29,
   "id": "50349639-68d7-4452-8cc6-59ff668a21f2",
   "metadata": {},
   "outputs": [
    {
     "name": "stdout",
     "output_type": "stream",
     "text": [
      "torch.Size([5, 10])\n"
     ]
    }
   ],
   "source": [
    "model = MLP(64, 30, 10)\n",
    "x = torch.randn(5, 64)\n",
    "Z = model(x)\n",
    "print(Z.shape)"
   ]
  },
  {
   "cell_type": "code",
   "execution_count": null,
   "id": "b769dab7-8133-4dcd-9eec-1a1334675f4d",
   "metadata": {},
   "outputs": [],
   "source": []
  },
  {
   "cell_type": "markdown",
   "id": "e8be4508-cfb0-45b9-b0dd-a2f8d5b9b3f8",
   "metadata": {},
   "source": [
    "### nn.クラスのみで構成する"
   ]
  },
  {
   "cell_type": "code",
   "execution_count": 40,
   "id": "5fd7fc02-4812-4c1b-a708-6c8b0fc4c15a",
   "metadata": {},
   "outputs": [],
   "source": [
    "# 2. nn.classのみで作成する\n",
    "class MLP(nn.Module):\n",
    "\n",
    "    def __init__(self, num_in, num_hidden, num_out):\n",
    "\n",
    "        super().__init__()\n",
    "        self.l1 = nn.Linear(num_in, num_hidden)\n",
    "        self.l2 = nn.Linear(num_hidden, num_out)\n",
    "        self.relu = nn.ReLU()  # <- 一番と異なる点\n",
    "\n",
    "    def forward(self, x):\n",
    "        z1 = self.l1(x)\n",
    "        a1 = self.relu(z1)\n",
    "        z2 = self.l2(a1)\n",
    "        \"\"\" \n",
    "        1行でまとめて書くと\n",
    "        x = self.l2(self.relu(self.l1(x)))\n",
    "        \"\"\"\n",
    "        return z2"
   ]
  },
  {
   "cell_type": "code",
   "execution_count": 41,
   "id": "7828ca51-f6e1-4f1b-ab77-5d2bc2359152",
   "metadata": {},
   "outputs": [
    {
     "name": "stdout",
     "output_type": "stream",
     "text": [
      "torch.Size([5, 10])\n"
     ]
    }
   ],
   "source": [
    "model = MLP(64,30,10)\n",
    "x = torch.randn(5, 64)\n",
    "z = model(x)\n",
    "print(z.shape)"
   ]
  },
  {
   "cell_type": "code",
   "execution_count": null,
   "id": "12999c3d-b4fa-4561-afc9-c657526b1343",
   "metadata": {},
   "outputs": [],
   "source": []
  },
  {
   "cell_type": "markdown",
   "id": "273ce832-e4ab-4638-81c7-d003488d5f6d",
   "metadata": {},
   "source": [
    "### 3. nn.Sequentialを使ったとき"
   ]
  },
  {
   "cell_type": "code",
   "execution_count": 42,
   "id": "5b2f91e4-8576-4f84-a7b0-c432bcb97fee",
   "metadata": {},
   "outputs": [],
   "source": [
    "# 3. nn.Sequentialを使ったとき\n",
    "num_in = 64\n",
    "num_hidden = 30\n",
    "num_out = 10\n",
    "\n",
    "model = nn.Sequential(\n",
    "    nn.Linear(num_in, num_hidden),\n",
    "    nn.ReLU(),\n",
    "    nn.Linear(num_hidden, num_out)\n",
    ")"
   ]
  },
  {
   "cell_type": "code",
   "execution_count": 43,
   "id": "fb53f95d-6593-4e89-8311-53f9285007cf",
   "metadata": {},
   "outputs": [
    {
     "name": "stdout",
     "output_type": "stream",
     "text": [
      "torch.Size([5, 10])\n"
     ]
    }
   ],
   "source": [
    "Z = model(x)\n",
    "print(Z.shape)"
   ]
  },
  {
   "cell_type": "code",
   "execution_count": null,
   "id": "3b96af84-15eb-4b9d-8239-b6eb0e5327f9",
   "metadata": {},
   "outputs": [],
   "source": []
  },
  {
   "cell_type": "markdown",
   "id": "76e88aff-2614-4a13-a65c-cbd6116321cb",
   "metadata": {},
   "source": [
    "### MLP学習"
   ]
  },
  {
   "cell_type": "code",
   "execution_count": 53,
   "id": "99fc84d4-65a7-4076-9694-007871390dbb",
   "metadata": {},
   "outputs": [
    {
     "name": "stdout",
     "output_type": "stream",
     "text": [
      "epoch : 0: train error : 2.2702950835227966, validation error : 2.1820578575134277,val accuracy 0.2888889014720917\n",
      "epoch : 1: train error : 2.1218291521072388, validation error : 2.0305893421173096,val accuracy 0.5527777671813965\n",
      "epoch : 2: train error : 1.949652411043644, validation error : 1.8470004796981812,val accuracy 0.6666666865348816\n",
      "epoch : 3: train error : 1.7514753664533298, validation error : 1.6457812786102295,val accuracy 0.7222222089767456\n",
      "epoch : 4: train error : 1.544384777545929, validation error : 1.443841576576233,val accuracy 0.7861111164093018\n",
      "epoch : 5: train error : 1.3444657747944195, validation error : 1.2535675764083862,val accuracy 0.8166666626930237\n",
      "epoch : 6: train error : 1.1649455055594444, validation error : 1.0852824449539185,val accuracy 0.8472222089767456\n",
      "epoch : 7: train error : 1.01184173549215, validation error : 0.9426101446151733,val accuracy 0.8722222447395325\n",
      "epoch : 8: train error : 0.8859050385653973, validation error : 0.8252464532852173,val accuracy 0.8861111402511597\n",
      "epoch : 9: train error : 0.7810579612851143, validation error : 0.732711136341095,val accuracy 0.8888888955116272\n",
      "epoch : 10: train error : 0.6965364553034306, validation error : 0.6561425924301147,val accuracy 0.8999999761581421\n",
      "epoch : 11: train error : 0.6271069229890903, validation error : 0.5897963047027588,val accuracy 0.9027777910232544\n",
      "epoch : 12: train error : 0.5698092977205912, validation error : 0.5372963547706604,val accuracy 0.9083333611488342\n",
      "epoch : 13: train error : 0.5216166495035092, validation error : 0.49428942799568176,val accuracy 0.9083333611488342\n",
      "epoch : 14: train error : 0.4813032206147909, validation error : 0.4583894610404968,val accuracy 0.9166666865348816\n",
      "epoch : 15: train error : 0.446895665799578, validation error : 0.4248828589916229,val accuracy 0.9138888716697693\n",
      "epoch : 16: train error : 0.41608184669166803, validation error : 0.39889317750930786,val accuracy 0.9222221970558167\n",
      "epoch : 17: train error : 0.39080915227532387, validation error : 0.3753983676433563,val accuracy 0.9277777671813965\n",
      "epoch : 18: train error : 0.36912696715444326, validation error : 0.3547425866127014,val accuracy 0.9194444417953491\n",
      "epoch : 19: train error : 0.34888830967247486, validation error : 0.335411936044693,val accuracy 0.9277777671813965\n",
      "epoch : 20: train error : 0.33199722444017726, validation error : 0.31921297311782837,val accuracy 0.9388889074325562\n",
      "epoch : 21: train error : 0.31604266352951527, validation error : 0.30551064014434814,val accuracy 0.9361110925674438\n",
      "epoch : 22: train error : 0.30175636025766533, validation error : 0.29241323471069336,val accuracy 0.9388889074325562\n",
      "epoch : 23: train error : 0.28940773258606595, validation error : 0.2819012701511383,val accuracy 0.9416666626930237\n",
      "epoch : 24: train error : 0.27772629850854474, validation error : 0.2706594169139862,val accuracy 0.9444444179534912\n",
      "epoch : 25: train error : 0.2667071934168537, validation error : 0.26155561208724976,val accuracy 0.9388889074325562\n",
      "epoch : 26: train error : 0.2581591323638956, validation error : 0.252165287733078,val accuracy 0.9416666626930237\n",
      "epoch : 27: train error : 0.24904164920250574, validation error : 0.24374566972255707,val accuracy 0.9444444179534912\n",
      "epoch : 28: train error : 0.24080480495467782, validation error : 0.2372867316007614,val accuracy 0.9444444179534912\n",
      "epoch : 29: train error : 0.2338983484854301, validation error : 0.229769766330719,val accuracy 0.9444444179534912\n",
      "epoch : 30: train error : 0.22681664551297823, validation error : 0.2242189198732376,val accuracy 0.9444444179534912\n",
      "epoch : 31: train error : 0.22046518620724478, validation error : 0.2188345193862915,val accuracy 0.9472222328186035\n",
      "epoch : 32: train error : 0.2148890153815349, validation error : 0.21275024116039276,val accuracy 0.9472222328186035\n",
      "epoch : 33: train error : 0.20892853289842606, validation error : 0.20799963176250458,val accuracy 0.949999988079071\n",
      "epoch : 34: train error : 0.203638811983789, validation error : 0.2025366723537445,val accuracy 0.949999988079071\n",
      "epoch : 35: train error : 0.19877993680226305, validation error : 0.19813333451747894,val accuracy 0.949999988079071\n",
      "epoch : 36: train error : 0.19444485272591314, validation error : 0.19418589770793915,val accuracy 0.949999988079071\n",
      "epoch : 37: train error : 0.18974862371881804, validation error : 0.19054628908634186,val accuracy 0.9527778029441833\n",
      "epoch : 38: train error : 0.1855561095289886, validation error : 0.18613368272781372,val accuracy 0.949999988079071\n",
      "epoch : 39: train error : 0.18147523662385842, validation error : 0.18353892862796783,val accuracy 0.9527778029441833\n",
      "epoch : 40: train error : 0.17805748130194843, validation error : 0.1792769730091095,val accuracy 0.9527778029441833\n",
      "epoch : 41: train error : 0.17473847403501472, validation error : 0.17619864642620087,val accuracy 0.9527778029441833\n",
      "epoch : 42: train error : 0.17074184585362673, validation error : 0.17393933236598969,val accuracy 0.9527778029441833\n",
      "epoch : 43: train error : 0.16732025115440288, validation error : 0.17064353823661804,val accuracy 0.9555555582046509\n",
      "epoch : 44: train error : 0.1642202278599143, validation error : 0.16792891919612885,val accuracy 0.9555555582046509\n",
      "epoch : 45: train error : 0.1618648188499113, validation error : 0.16507486999034882,val accuracy 0.9555555582046509\n",
      "epoch : 46: train error : 0.15867296264817318, validation error : 0.16226835548877716,val accuracy 0.9555555582046509\n",
      "epoch : 47: train error : 0.15600354426229993, validation error : 0.1598353236913681,val accuracy 0.9583333134651184\n",
      "epoch : 48: train error : 0.1532851386194428, validation error : 0.15779218077659607,val accuracy 0.9611111283302307\n",
      "epoch : 49: train error : 0.15112535585649312, validation error : 0.15542061626911163,val accuracy 0.9638888835906982\n",
      "epoch : 50: train error : 0.1483879832085222, validation error : 0.1531025469303131,val accuracy 0.9583333134651184\n",
      "epoch : 51: train error : 0.14636481219592193, validation error : 0.15158692002296448,val accuracy 0.9583333134651184\n",
      "epoch : 52: train error : 0.14451894629746675, validation error : 0.14959067106246948,val accuracy 0.9583333134651184\n",
      "epoch : 53: train error : 0.14208066781672338, validation error : 0.14772845804691315,val accuracy 0.9611111283302307\n",
      "epoch : 54: train error : 0.1397500381960223, validation error : 0.14586831629276276,val accuracy 0.9611111283302307\n",
      "epoch : 55: train error : 0.1375232730836918, validation error : 0.1441381722688675,val accuracy 0.9583333134651184\n",
      "epoch : 56: train error : 0.13575181279641887, validation error : 0.14261658489704132,val accuracy 0.9638888835906982\n",
      "epoch : 57: train error : 0.13399966495732465, validation error : 0.14068330824375153,val accuracy 0.9611111283302307\n",
      "epoch : 58: train error : 0.13193629185358682, validation error : 0.13957998156547546,val accuracy 0.9611111283302307\n",
      "epoch : 59: train error : 0.13004550624949238, validation error : 0.13843244314193726,val accuracy 0.9638888835906982\n",
      "epoch : 60: train error : 0.12846669003677866, validation error : 0.13703514635562897,val accuracy 0.9638888835906982\n",
      "epoch : 61: train error : 0.12697840416027853, validation error : 0.13616600632667542,val accuracy 0.9638888835906982\n",
      "epoch : 62: train error : 0.1252288242103532, validation error : 0.1344820261001587,val accuracy 0.9666666388511658\n",
      "epoch : 63: train error : 0.12368805442626278, validation error : 0.13292288780212402,val accuracy 0.9638888835906982\n",
      "epoch : 64: train error : 0.1219140049846222, validation error : 0.13184809684753418,val accuracy 0.9638888835906982\n",
      "epoch : 65: train error : 0.12097397671702008, validation error : 0.13035179674625397,val accuracy 0.9638888835906982\n",
      "epoch : 66: train error : 0.11933062179014087, validation error : 0.12928935885429382,val accuracy 0.9666666388511658\n",
      "epoch : 67: train error : 0.1175593623581032, validation error : 0.12854042649269104,val accuracy 0.9666666388511658\n",
      "epoch : 68: train error : 0.1156082774978131, validation error : 0.128367081284523,val accuracy 0.9666666388511658\n",
      "epoch : 69: train error : 0.11468167137354612, validation error : 0.1260385364294052,val accuracy 0.9638888835906982\n",
      "epoch : 70: train error : 0.11340885023431231, validation error : 0.12583458423614502,val accuracy 0.9666666388511658\n",
      "epoch : 71: train error : 0.11211698867070179, validation error : 0.1247306689620018,val accuracy 0.9666666388511658\n",
      "epoch : 72: train error : 0.11075503588654101, validation error : 0.12345768511295319,val accuracy 0.9666666388511658\n",
      "epoch : 73: train error : 0.10931318276561797, validation error : 0.12249229103326797,val accuracy 0.9638888835906982\n",
      "epoch : 74: train error : 0.10833531090368827, validation error : 0.12166745215654373,val accuracy 0.9666666388511658\n",
      "epoch : 75: train error : 0.10779644156961392, validation error : 0.1213449165225029,val accuracy 0.9694444537162781\n",
      "epoch : 76: train error : 0.10597679178075244, validation error : 0.11975555121898651,val accuracy 0.9694444537162781\n",
      "epoch : 77: train error : 0.10492108653609951, validation error : 0.11930997669696808,val accuracy 0.9694444537162781\n",
      "epoch : 78: train error : 0.10412375741483022, validation error : 0.11843796819448471,val accuracy 0.9694444537162781\n",
      "epoch : 79: train error : 0.10278553771786392, validation error : 0.11754203587770462,val accuracy 0.9694444537162781\n",
      "epoch : 80: train error : 0.1013561775131772, validation error : 0.11677064746618271,val accuracy 0.9694444537162781\n",
      "epoch : 81: train error : 0.10064220145189513, validation error : 0.1160251796245575,val accuracy 0.9694444537162781\n",
      "epoch : 82: train error : 0.09998954118539889, validation error : 0.11521713435649872,val accuracy 0.9694444537162781\n",
      "epoch : 83: train error : 0.09879938026036446, validation error : 0.11506723612546921,val accuracy 0.9694444537162781\n",
      "epoch : 84: train error : 0.09758186534357567, validation error : 0.11377852410078049,val accuracy 0.9694444537162781\n",
      "epoch : 85: train error : 0.09667137610570838, validation error : 0.113772913813591,val accuracy 0.9694444537162781\n",
      "epoch : 86: train error : 0.09571569215040654, validation error : 0.11300019174814224,val accuracy 0.9722222089767456\n",
      "epoch : 87: train error : 0.09467922876744221, validation error : 0.11215408146381378,val accuracy 0.9694444537162781\n",
      "epoch : 88: train error : 0.09396395351116855, validation error : 0.11165285110473633,val accuracy 0.9722222089767456\n",
      "epoch : 89: train error : 0.09304165095090866, validation error : 0.11093375831842422,val accuracy 0.9694444537162781\n",
      "epoch : 90: train error : 0.09230658202432096, validation error : 0.1101001426577568,val accuracy 0.9694444537162781\n",
      "epoch : 91: train error : 0.091146384133026, validation error : 0.10981057584285736,val accuracy 0.9694444537162781\n",
      "epoch : 92: train error : 0.09044344591287275, validation error : 0.1087116003036499,val accuracy 0.9694444537162781\n",
      "epoch : 93: train error : 0.08945390011649579, validation error : 0.10874798148870468,val accuracy 0.9694444537162781\n",
      "epoch : 94: train error : 0.08879134388795744, validation error : 0.10800748318433762,val accuracy 0.9722222089767456\n",
      "epoch : 95: train error : 0.08801544391705345, validation error : 0.10800231993198395,val accuracy 0.9694444537162781\n",
      "epoch : 96: train error : 0.08722768335913618, validation error : 0.10697764158248901,val accuracy 0.9722222089767456\n",
      "epoch : 97: train error : 0.08661079263159384, validation error : 0.10649226605892181,val accuracy 0.9694444537162781\n",
      "epoch : 98: train error : 0.08575817853367577, validation error : 0.10608141124248505,val accuracy 0.9722222089767456\n",
      "epoch : 99: train error : 0.08480387840730448, validation error : 0.10554125905036926,val accuracy 0.9722222089767456\n"
     ]
    }
   ],
   "source": [
    "# nnクラスとF.関数を組み合わせて作成する\n",
    "# MLP(親のクラス(継承する))\n",
    "class MLP(nn.Module):\n",
    "    \n",
    "    def __init__(self, num_in, num_hidden, num_out):\n",
    "        # 親のclassの継承\n",
    "        super().__init__()\n",
    "        self.l1 = nn.Linear(num_in, num_hidden)\n",
    "        self.l2 = nn.Linear(num_hidden, num_out) # 出力層の全結合層\n",
    "\n",
    "    # forwardの処理(順伝播の処理)\n",
    "    def forward(self, x):\n",
    "        x = self.l2(F.relu(self.l1(x)))\n",
    "        return x\n",
    "\n",
    "## Refactoring後の学習ループ(OptimizerやDataset, Dataloaderの後にRefactaring)\n",
    "# ===データの準備===\n",
    "dataset = datasets.load_digits()\n",
    "data = dataset['data']\n",
    "target = dataset['target']\n",
    "images = dataset['images']\n",
    "X_train, X_val, y_train, y_val = train_test_split(images, target, test_size=0.2, random_state=42)\n",
    "X_mean = X_train.mean()\n",
    "X_std = X_train.std()\n",
    "\n",
    "X_train = (X_train - X_mean) / X_std\n",
    "X_val  = (X_val  - X_mean ) / X_std\n",
    "\n",
    "X_train = torch.tensor(X_train.reshape(-1, 64), dtype=torch.float32)\n",
    "X_val = torch.tensor(X_val.reshape(-1, 64), dtype=torch.float32)\n",
    "\n",
    "# yの値をone-hotしないようにする\n",
    "y_train = torch.tensor(y_train)\n",
    "y_val = torch.tensor(y_val)\n",
    "\n",
    "batch_size = 30\n",
    "num_in = 64\n",
    "num_hidden = 30\n",
    "num_out = 10\n",
    "num_batches = np.ceil(len(y_train)/batch_size).astype(int)\n",
    "\n",
    "\n",
    "learning_rate = 0.01\n",
    "\n",
    "# モデルの初期化\n",
    "model = MLP(num_in, num_hidden, num_out)\n",
    "\n",
    "# ログ\n",
    "train_losses = []\n",
    "val_losses = []\n",
    "val_accuracies = []\n",
    "\n",
    "for epoch in range(100):\n",
    "    # エポックごとにデータをシャッフルする\n",
    "    shuffled_indices = np.random.permutation(len(y_train))\n",
    "\n",
    "    running_loss = 0.0\n",
    "\n",
    "    for i in range(num_batches):\n",
    "    \n",
    "        # mini batchの作成\n",
    "        start = i * batch_size\n",
    "        end = start + batch_size\n",
    "    \n",
    "        batch_indices = shuffled_indices[start:end]\n",
    "        y = y_train[batch_indices] # batch_size x 10\n",
    "    \n",
    "        X = X_train[batch_indices, :] # batc_size x 64\n",
    "        # 順伝播と逆伝播の計算\n",
    "        preds  = model(X)\n",
    "        loss = F.cross_entropy(preds, y)\n",
    "        loss.backward()\n",
    "        running_loss += loss.item()\n",
    "    \n",
    "        # パラメータ更新\n",
    "        with torch.no_grad():\n",
    "            for param in model.parameters():\n",
    "                param -= learning_rate * param.grad\n",
    "    \n",
    "        model.zero_grad()\n",
    "\n",
    "    # validtion\n",
    "    with torch.no_grad():\n",
    "        preds_val = model(X_val)\n",
    "        val_loss = F.cross_entropy(preds_val, y_val)\n",
    "    \n",
    "        val_accuracy = torch.sum(torch.argmax(preds_val, dim=-1) == y_val) / y_val.shape[0]\n",
    "\n",
    "    train_losses.append(running_loss/num_batches)\n",
    "    val_losses.append(val_loss.item())\n",
    "    val_accuracies.append(val_accuracy)\n",
    "    print(f'epoch : {epoch}: train error : {running_loss/num_batches}, validation error : {val_loss.item()},val accuracy {val_accuracy.item()}')\n",
    "\n"
   ]
  },
  {
   "cell_type": "code",
   "execution_count": 55,
   "id": "4c77128f-c453-43e2-8bda-69d24cdbd801",
   "metadata": {},
   "outputs": [
    {
     "data": {
      "text/plain": [
       "[<matplotlib.lines.Line2D at 0x7ffefd9083d0>]"
      ]
     },
     "execution_count": 55,
     "metadata": {},
     "output_type": "execute_result"
    },
    {
     "data": {
      "image/png": "[encoded data removed]",
      "text/plain": [
       "<Figure size 640x480 with 1 Axes>"
      ]
     },
     "metadata": {},
     "output_type": "display_data"
    }
   ],
   "source": [
    "# 学習曲線\n",
    "plt.plot(train_losses)\n",
    "plt.plot(val_losses)"
   ]
  },
  {
   "cell_type": "code",
   "execution_count": 51,
   "id": "c7f1ba29-7f19-4271-b5b5-ab7f1fd0ca7b",
   "metadata": {},
   "outputs": [
    {
     "data": {
      "text/plain": [
       "tensor([[0, 0, 0, 0, 0, 0, 1, 0, 0, 0],\n",
       "        [0, 0, 0, 0, 1, 0, 0, 0, 0, 0],\n",
       "        [0, 0, 0, 0, 0, 0, 0, 0, 0, 1],\n",
       "        [0, 0, 0, 0, 0, 0, 0, 0, 0, 1],\n",
       "        [0, 0, 0, 0, 0, 1, 0, 0, 0, 0],\n",
       "        [0, 0, 0, 0, 0, 0, 0, 0, 1, 0],\n",
       "        [0, 1, 0, 0, 0, 0, 0, 0, 0, 0],\n",
       "        [0, 0, 0, 0, 0, 0, 0, 0, 0, 1],\n",
       "        [0, 0, 0, 1, 0, 0, 0, 0, 0, 0],\n",
       "        [0, 0, 0, 1, 0, 0, 0, 0, 0, 0],\n",
       "        [0, 0, 1, 0, 0, 0, 0, 0, 0, 0],\n",
       "        [0, 0, 1, 0, 0, 0, 0, 0, 0, 0],\n",
       "        [0, 0, 0, 0, 1, 0, 0, 0, 0, 0],\n",
       "        [0, 0, 0, 1, 0, 0, 0, 0, 0, 0],\n",
       "        [0, 0, 0, 0, 0, 0, 0, 0, 1, 0],\n",
       "        [1, 0, 0, 0, 0, 0, 0, 0, 0, 0],\n",
       "        [0, 0, 0, 0, 0, 0, 0, 0, 0, 1],\n",
       "        [0, 0, 0, 0, 0, 0, 0, 0, 1, 0],\n",
       "        [0, 0, 0, 0, 0, 0, 0, 0, 1, 0],\n",
       "        [0, 0, 0, 1, 0, 0, 0, 0, 0, 0],\n",
       "        [0, 0, 1, 0, 0, 0, 0, 0, 0, 0],\n",
       "        [0, 0, 0, 1, 0, 0, 0, 0, 0, 0],\n",
       "        [0, 0, 1, 0, 0, 0, 0, 0, 0, 0],\n",
       "        [0, 0, 0, 0, 0, 0, 0, 0, 0, 1],\n",
       "        [0, 0, 0, 0, 0, 0, 1, 0, 0, 0],\n",
       "        [0, 0, 0, 0, 0, 0, 1, 0, 0, 0],\n",
       "        [0, 0, 1, 0, 0, 0, 0, 0, 0, 0],\n",
       "        [0, 0, 0, 0, 1, 0, 0, 0, 0, 0],\n",
       "        [0, 0, 1, 0, 0, 0, 0, 0, 0, 0],\n",
       "        [0, 0, 1, 0, 0, 0, 0, 0, 0, 0]])"
      ]
     },
     "execution_count": 51,
     "metadata": {},
     "output_type": "execute_result"
    }
   ],
   "source": []
  },
  {
   "cell_type": "markdown",
   "id": "f2388c37-2209-44fb-a9a0-e9f70434f5ef",
   "metadata": {},
   "source": [
    "### パラメータのイテレーション"
   ]
  },
  {
   "cell_type": "code",
   "execution_count": 56,
   "id": "4270b02d-e7a8-4f33-b862-f70622d550c1",
   "metadata": {},
   "outputs": [
    {
     "data": {
      "text/plain": [
       "MLP(\n",
       "  (l1): Linear(in_features=64, out_features=30, bias=True)\n",
       "  (l2): Linear(in_features=30, out_features=10, bias=True)\n",
       ")"
      ]
     },
     "execution_count": 56,
     "metadata": {},
     "output_type": "execute_result"
    }
   ],
   "source": [
    "model"
   ]
  },
  {
   "cell_type": "code",
   "execution_count": 58,
   "id": "0003961e-e783-4149-a69b-fa6a7cb2a1fa",
   "metadata": {},
   "outputs": [
    {
     "name": "stdout",
     "output_type": "stream",
     "text": [
      "torch.Size([30, 64])\n",
      "torch.Size([30])\n",
      "torch.Size([10, 30])\n",
      "torch.Size([10])\n"
     ]
    }
   ],
   "source": [
    "for param in model.parameters():\n",
    "    print(param.shape)"
   ]
  },
  {
   "cell_type": "code",
   "execution_count": 60,
   "id": "223908db-3efc-450b-ae3c-bb0ff1115abb",
   "metadata": {},
   "outputs": [
    {
     "name": "stdout",
     "output_type": "stream",
     "text": [
      "l1.weight torch.Size([30, 64])\n",
      "l1.bias torch.Size([30])\n",
      "l2.weight torch.Size([10, 30])\n",
      "l2.bias torch.Size([10])\n"
     ]
    }
   ],
   "source": [
    "for name, param in model.named_parameters():\n",
    "    # 名前はMLPの定義のself.l1とかからくる\n",
    "    print(name, param.shape)"
   ]
  },
  {
   "cell_type": "markdown",
   "id": "6fcd930d-8dae-477c-8183-0b3655060474",
   "metadata": {},
   "source": [
    "### コンポーネントのイテレーション"
   ]
  },
  {
   "cell_type": "code",
   "execution_count": 62,
   "id": "03bb238d-4839-4b22-88ec-259d82f225ce",
   "metadata": {},
   "outputs": [
    {
     "name": "stdout",
     "output_type": "stream",
     "text": [
      "Linear(in_features=64, out_features=30, bias=True)\n",
      "Linear(in_features=30, out_features=10, bias=True)\n"
     ]
    }
   ],
   "source": [
    "for module in model.children():\n",
    "    print(module)"
   ]
  },
  {
   "cell_type": "code",
   "execution_count": 64,
   "id": "17d6db41-d765-4ed4-8e88-276425d83379",
   "metadata": {},
   "outputs": [
    {
     "name": "stdout",
     "output_type": "stream",
     "text": [
      "l2.bias Linear(in_features=64, out_features=30, bias=True)\n",
      "l2.bias Linear(in_features=30, out_features=10, bias=True)\n"
     ]
    }
   ],
   "source": [
    "for mame, module in model.named_children():\n",
    "    print(name, module)"
   ]
  },
  {
   "cell_type": "code",
   "execution_count": 65,
   "id": "d10944e1-7e7c-4e3e-8639-571db4a6cea5",
   "metadata": {},
   "outputs": [
    {
     "name": "stdout",
     "output_type": "stream",
     "text": [
      "MLP(\n",
      "  (l1): Linear(in_features=64, out_features=30, bias=True)\n",
      "  (l2): Linear(in_features=30, out_features=10, bias=True)\n",
      ")\n",
      "Linear(in_features=64, out_features=30, bias=True)\n",
      "Linear(in_features=30, out_features=10, bias=True)\n"
     ]
    }
   ],
   "source": [
    "for module in model.modules():\n",
    "    print(module)"
   ]
  },
  {
   "cell_type": "code",
   "execution_count": 66,
   "id": "11f6070f-b00b-4b62-874a-7e3d58a37591",
   "metadata": {},
   "outputs": [
    {
     "name": "stdout",
     "output_type": "stream",
     "text": [
      "\n",
      "l1\n",
      "l2\n"
     ]
    }
   ],
   "source": [
    "for name, module in model.named_modules():\n",
    "    print(name)"
   ]
  },
  {
   "cell_type": "code",
   "execution_count": null,
   "id": "9d23d08c-fa96-4de0-b125-31dd611f1be6",
   "metadata": {},
   "outputs": [],
   "source": []
  }
 ],
 "metadata": {
  "kernelspec": {
   "display_name": "Python 3 (ipykernel)",
   "language": "python",
   "name": "python3"
  },
  "language_info": {
   "codemirror_mode": {
    "name": "ipython",
    "version": 3
   },
   "file_extension": ".py",
   "mimetype": "text/x-python",
   "name": "python",
   "nbconvert_exporter": "python",
   "pygments_lexer": "ipython3",
   "version": "3.8.18"
  }
 },
 "nbformat": 4,
 "nbformat_minor": 5
}
