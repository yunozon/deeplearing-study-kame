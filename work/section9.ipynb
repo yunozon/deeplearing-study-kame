{
 "cells": [
  {
   "cell_type": "markdown",
   "id": "b5c0d506-a9a1-4b03-9fd0-2131ea96bef3",
   "metadata": {},
   "source": [
    "#  Pytorchのnnモジュール"
   ]
  },
  {
   "cell_type": "markdown",
   "id": "9229d040-28dc-4c67-8d13-ff4d8353153e",
   "metadata": {},
   "source": [
    "## nn.Linear"
   ]
  },
  {
   "cell_type": "code",
   "execution_count": 4,
   "id": "029e44ac-d460-449f-b0bc-3a06b3cd8236",
   "metadata": {},
   "outputs": [],
   "source": [
    "from torch import nn\n",
    "import torch\n",
    "import numpy \n",
    "import matplotlib.pyplot as plt\n",
    "\n"
   ]
  },
  {
   "cell_type": "code",
   "execution_count": 5,
   "id": "e0c01054-e0a6-45df-b87a-b37d1bc2c0f0",
   "metadata": {},
   "outputs": [],
   "source": [
    "linear = nn.Linear(64, 30)"
   ]
  },
  {
   "cell_type": "code",
   "execution_count": 7,
   "id": "3c9ac5cb-c1f1-4052-bc82-ac7cb540e059",
   "metadata": {},
   "outputs": [
    {
     "data": {
      "text/plain": [
       "[Parameter containing:\n",
       " tensor([[ 0.0261, -0.1195, -0.1105,  ...,  0.0393,  0.0388,  0.1087],\n",
       "         [-0.1116, -0.0047,  0.0813,  ...,  0.0465,  0.0301,  0.1230],\n",
       "         [ 0.0816, -0.0943,  0.0891,  ..., -0.1058, -0.0044, -0.0974],\n",
       "         ...,\n",
       "         [ 0.0704, -0.0698, -0.0014,  ..., -0.0789,  0.0134,  0.0802],\n",
       "         [-0.0879,  0.0063, -0.0169,  ...,  0.0439,  0.0524,  0.0996],\n",
       "         [ 0.0546,  0.0925, -0.0670,  ..., -0.0560, -0.0242,  0.1130]],\n",
       "        requires_grad=True),\n",
       " Parameter containing:\n",
       " tensor([-0.0487, -0.1111,  0.0518,  0.1091,  0.1020,  0.0921, -0.0608, -0.1208,\n",
       "         -0.0321,  0.0632, -0.0027, -0.0199, -0.1149,  0.0162, -0.0608, -0.0617,\n",
       "         -0.0802, -0.0170,  0.1164,  0.0040, -0.0678,  0.0126, -0.0086, -0.0334,\n",
       "         -0.0248, -0.1250,  0.1227, -0.0809,  0.1129, -0.0232],\n",
       "        requires_grad=True)]"
      ]
     },
     "execution_count": 7,
     "metadata": {},
     "output_type": "execute_result"
    }
   ],
   "source": [
    "list(linear.parameters())"
   ]
  },
  {
   "cell_type": "code",
   "execution_count": 11,
   "id": "d2b501d7-9eb6-4283-a160-e56a1294163d",
   "metadata": {},
   "outputs": [
    {
     "data": {
      "text/plain": [
       "torch.Size([30, 64])"
      ]
     },
     "execution_count": 11,
     "metadata": {},
     "output_type": "execute_result"
    }
   ],
   "source": [
    "linear.weight.shape # W = 出力 x 入力 (ex : 30 x 64)"
   ]
  },
  {
   "cell_type": "code",
   "execution_count": 12,
   "id": "a50deefe-5e1e-4653-9390-400fc100fe9d",
   "metadata": {},
   "outputs": [
    {
     "data": {
      "text/plain": [
       "torch.Size([30])"
      ]
     },
     "execution_count": 12,
     "metadata": {},
     "output_type": "execute_result"
    }
   ],
   "source": [
    "linear.bias.shape # b = 1 x 出力"
   ]
  },
  {
   "cell_type": "code",
   "execution_count": 13,
   "id": "b64abf88-e2f2-435d-aed0-d0dfc3df8619",
   "metadata": {},
   "outputs": [],
   "source": [
    "x = torch.randn((5, 64))\n",
    "Z = linear(x)"
   ]
  },
  {
   "cell_type": "markdown",
   "id": "da6479b5-1480-4ac1-af1c-760f6ffdc5bf",
   "metadata": {},
   "source": [
    "上記のcodeはZ = X @ W.T + bを計算している  \n",
    "Z = (5,64) @ (出力30, 入力64).T + b(1, 出力30)"
   ]
  },
  {
   "cell_type": "code",
   "execution_count": 15,
   "id": "b7d4ac7a-2538-4021-8af2-99be9c1a1b1c",
   "metadata": {},
   "outputs": [
    {
     "data": {
      "text/plain": [
       "torch.Size([5, 30])"
      ]
     },
     "execution_count": 15,
     "metadata": {},
     "output_type": "execute_result"
    }
   ],
   "source": [
    "Z.shape"
   ]
  },
  {
   "cell_type": "code",
   "execution_count": null,
   "id": "d260de8d-644d-4a7b-b320-6d03a188ede8",
   "metadata": {},
   "outputs": [],
   "source": []
  }
 ],
 "metadata": {
  "kernelspec": {
   "display_name": "Python 3 (ipykernel)",
   "language": "python",
   "name": "python3"
  },
  "language_info": {
   "codemirror_mode": {
    "name": "ipython",
    "version": 3
   },
   "file_extension": ".py",
   "mimetype": "text/x-python",
   "name": "python",
   "nbconvert_exporter": "python",
   "pygments_lexer": "ipython3",
   "version": "3.8.18"
  }
 },
 "nbformat": 4,
 "nbformat_minor": 5
}
