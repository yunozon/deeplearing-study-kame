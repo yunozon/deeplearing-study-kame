{
 "cells": [
  {
   "cell_type": "markdown",
   "id": "b5c0d506-a9a1-4b03-9fd0-2131ea96bef3",
   "metadata": {},
   "source": [
    "#  Pytorchのnnモジュール"
   ]
  },
  {
   "cell_type": "markdown",
   "id": "9229d040-28dc-4c67-8d13-ff4d8353153e",
   "metadata": {},
   "source": [
    "## nn.Linear"
   ]
  },
  {
   "cell_type": "code",
   "execution_count": 2,
   "id": "029e44ac-d460-449f-b0bc-3a06b3cd8236",
   "metadata": {},
   "outputs": [],
   "source": [
    "from torch import nn\n",
    "import torch\n",
    "import numpy \n",
    "import matplotlib.pyplot as plt\n",
    "\n"
   ]
  },
  {
   "cell_type": "code",
   "execution_count": 3,
   "id": "e0c01054-e0a6-45df-b87a-b37d1bc2c0f0",
   "metadata": {},
   "outputs": [],
   "source": [
    "linear = nn.Linear(64, 30)"
   ]
  },
  {
   "cell_type": "code",
   "execution_count": 4,
   "id": "3c9ac5cb-c1f1-4052-bc82-ac7cb540e059",
   "metadata": {},
   "outputs": [
    {
     "data": {
      "text/plain": [
       "[Parameter containing:\n",
       " tensor([[-0.0348, -0.1070, -0.1197,  ...,  0.0593,  0.0249, -0.0266],\n",
       "         [ 0.0631,  0.1026,  0.0246,  ..., -0.0925,  0.1152,  0.0745],\n",
       "         [ 0.1046, -0.0838,  0.1063,  ...,  0.1110, -0.1243,  0.0694],\n",
       "         ...,\n",
       "         [ 0.0707, -0.0946,  0.0762,  ..., -0.0487, -0.0740,  0.0679],\n",
       "         [ 0.0810, -0.0696,  0.0409,  ...,  0.0803,  0.1131, -0.0096],\n",
       "         [ 0.0872,  0.0262, -0.1041,  ..., -0.1237, -0.1188,  0.1008]],\n",
       "        requires_grad=True),\n",
       " Parameter containing:\n",
       " tensor([-0.0475,  0.0320,  0.0944, -0.0830, -0.0911,  0.0788,  0.1068, -0.0906,\n",
       "          0.0677, -0.0538, -0.0175,  0.1238,  0.0484,  0.0350, -0.0195,  0.0253,\n",
       "          0.0519, -0.1061, -0.0504, -0.0926, -0.0298, -0.1117, -0.0624,  0.0769,\n",
       "         -0.0691,  0.1066, -0.1074, -0.0390,  0.1037,  0.1007],\n",
       "        requires_grad=True)]"
      ]
     },
     "execution_count": 4,
     "metadata": {},
     "output_type": "execute_result"
    }
   ],
   "source": [
    "list(linear.parameters())"
   ]
  },
  {
   "cell_type": "code",
   "execution_count": 5,
   "id": "d2b501d7-9eb6-4283-a160-e56a1294163d",
   "metadata": {},
   "outputs": [
    {
     "data": {
      "text/plain": [
       "torch.Size([30, 64])"
      ]
     },
     "execution_count": 5,
     "metadata": {},
     "output_type": "execute_result"
    }
   ],
   "source": [
    "linear.weight.shape # W = 出力 x 入力 (ex : 30 x 64)"
   ]
  },
  {
   "cell_type": "code",
   "execution_count": 6,
   "id": "a50deefe-5e1e-4653-9390-400fc100fe9d",
   "metadata": {},
   "outputs": [
    {
     "data": {
      "text/plain": [
       "torch.Size([30])"
      ]
     },
     "execution_count": 6,
     "metadata": {},
     "output_type": "execute_result"
    }
   ],
   "source": [
    "linear.bias.shape # b = 1 x 出力"
   ]
  },
  {
   "cell_type": "code",
   "execution_count": 7,
   "id": "b64abf88-e2f2-435d-aed0-d0dfc3df8619",
   "metadata": {},
   "outputs": [],
   "source": [
    "x = torch.randn((5, 64))\n",
    "Z = linear(x)"
   ]
  },
  {
   "cell_type": "markdown",
   "id": "da6479b5-1480-4ac1-af1c-760f6ffdc5bf",
   "metadata": {},
   "source": [
    "上記のcodeはZ = X @ W.T + bを計算している  \n",
    "Z = (5,64) @ (出力30, 入力64).T + b(1, 出力30)"
   ]
  },
  {
   "cell_type": "code",
   "execution_count": 8,
   "id": "b7d4ac7a-2538-4021-8af2-99be9c1a1b1c",
   "metadata": {},
   "outputs": [
    {
     "data": {
      "text/plain": [
       "torch.Size([5, 30])"
      ]
     },
     "execution_count": 8,
     "metadata": {},
     "output_type": "execute_result"
    }
   ],
   "source": [
    "Z.shape"
   ]
  },
  {
   "cell_type": "markdown",
   "id": "9d24a7a9-107c-4f60-80cd-5a932946f64e",
   "metadata": {},
   "source": [
    "## MLP実装"
   ]
  },
  {
   "cell_type": "markdown",
   "id": "24153762-4d35-4007-b8fe-10086e968c7a",
   "metadata": {},
   "source": [
    "### 1 nn.<class>とF.<function>を組み合わせる"
   ]
  },
  {
   "cell_type": "code",
   "execution_count": 11,
   "id": "28a186c3-d4ea-4322-9268-25ac4783b090",
   "metadata": {},
   "outputs": [],
   "source": [
    "# MLP(親のクラス(継承する))\n",
    "class MLP(nn.Module):\n",
    "    \"\"\"\n",
    "    流れ : Linear -> 活性化関数(ReLU) -> Linear(出力層) [-> Loss]\n",
    "    - pytorchは最後の活性化関数とLossはModelに組み込まない\n",
    "    インスタンス生成時に受け取るもの : それぞれのレイヤーの次元を指定\n",
    "    \"\"\"\n",
    "    def __init__(num_in, num_hidden, num_out):\n",
    "        pass\n",
    "    \n",
    "    "
   ]
  },
  {
   "cell_type": "code",
   "execution_count": null,
   "id": "859142dd-3ab1-42d4-816f-4362a29c49cb",
   "metadata": {},
   "outputs": [],
   "source": []
  },
  {
   "cell_type": "code",
   "execution_count": null,
   "id": "50349639-68d7-4452-8cc6-59ff668a21f2",
   "metadata": {},
   "outputs": [],
   "source": []
  },
  {
   "cell_type": "code",
   "execution_count": null,
   "id": "b769dab7-8133-4dcd-9eec-1a1334675f4d",
   "metadata": {},
   "outputs": [],
   "source": []
  }
 ],
 "metadata": {
  "kernelspec": {
   "display_name": "Python 3 (ipykernel)",
   "language": "python",
   "name": "python3"
  },
  "language_info": {
   "codemirror_mode": {
    "name": "ipython",
    "version": 3
   },
   "file_extension": ".py",
   "mimetype": "text/x-python",
   "name": "python",
   "nbconvert_exporter": "python",
   "pygments_lexer": "ipython3",
   "version": "3.8.18"
  }
 },
 "nbformat": 4,
 "nbformat_minor": 5
}
