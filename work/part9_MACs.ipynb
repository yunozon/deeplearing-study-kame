{
 "cells": [
  {
   "cell_type": "markdown",
   "metadata": {},
   "source": [
    "## MACs"
   ]
  },
  {
   "cell_type": "markdown",
   "metadata": {},
   "source": [
    "### MACsを計算する\n"
   ]
  },
  {
   "cell_type": "code",
   "execution_count": 18,
   "metadata": {},
   "outputs": [],
   "source": [
    "import torch\n",
    "from torch import nn\n",
    "import thop"
   ]
  },
  {
   "cell_type": "code",
   "execution_count": 8,
   "metadata": {},
   "outputs": [],
   "source": [
    "def calc_output_shape(layer, input_shape):\n",
    "    input = torch.randn(input_shape)\n",
    "    output = layer(input)\n",
    "    return tuple(output.shape)"
   ]
  },
  {
   "cell_type": "code",
   "execution_count": 14,
   "metadata": {},
   "outputs": [],
   "source": [
    "# 畳み込み層のMACsを計算する関数を作る\n",
    "\n",
    "def calc_macs_conv2d(layer, input_shape):\n",
    "    batch_size, in_ch, in_h, in_w = input_shape\n",
    "    # フィルタのサイズ\n",
    "    out_ch, in_ch, f_h, f_w = layer.weight.shape\n",
    "    \n",
    "    # 出力サイズ\n",
    "    _, _, out_h, out_w = calc_output_shape(layer, input_shape)\n",
    "    \n",
    "    # macs\n",
    "    macs = in_ch * out_ch * f_h * f_w * out_h * out_w\n",
    "    \n",
    "    return macs\n",
    "\n",
    "\n",
    "# 全結合層のMACsを計算する関数を作る\n",
    "def calc_macs_fc(layer, input_shape):\n",
    "    batch_size, in_features = input_shape\n",
    "    out_features = layer.weight.shape[0]\n",
    "    \n",
    "    # macs\n",
    "    macs = batch_size * in_features * out_features\n",
    "    \n",
    "    return macs"
   ]
  },
  {
   "cell_type": "code",
   "execution_count": 15,
   "metadata": {},
   "outputs": [
    {
     "data": {
      "text/plain": [
       "1143072"
      ]
     },
     "execution_count": 15,
     "metadata": {},
     "output_type": "execute_result"
    }
   ],
   "source": [
    "calc_macs_conv2d(layer, input_shape)"
   ]
  },
  {
   "cell_type": "code",
   "execution_count": 16,
   "metadata": {},
   "outputs": [
    {
     "data": {
      "text/plain": [
       "640"
      ]
     },
     "execution_count": 16,
     "metadata": {},
     "output_type": "execute_result"
    }
   ],
   "source": [
    "linear_layer = nn.Linear(64, 10)\n",
    "input_shape = (1, 64)\n",
    "calc_macs_fc(linear_layer, input_shape)"
   ]
  },
  {
   "cell_type": "code",
   "execution_count": 6,
   "metadata": {},
   "outputs": [],
   "source": [
    "input_shape = (1, 1, 128, 128)\n",
    "x = torch.randn(input_shape)\n",
    "layer = nn.Conv2d(1, 8, kernel_size=3)\n",
    "output = layer(x)"
   ]
  },
  {
   "cell_type": "code",
   "execution_count": 7,
   "metadata": {},
   "outputs": [
    {
     "data": {
      "text/plain": [
       "torch.Size([1, 8, 126, 126])"
      ]
     },
     "execution_count": 7,
     "metadata": {},
     "output_type": "execute_result"
    }
   ],
   "source": [
    "output.shape"
   ]
  },
  {
   "cell_type": "code",
   "execution_count": 9,
   "metadata": {},
   "outputs": [
    {
     "data": {
      "text/plain": [
       "(1, 8, 126, 126)"
      ]
     },
     "execution_count": 9,
     "metadata": {},
     "output_type": "execute_result"
    }
   ],
   "source": [
    "calc_output_shape(layer, input_shape)"
   ]
  },
  {
   "cell_type": "markdown",
   "metadata": {},
   "source": [
    "## thopでMACsを求める"
   ]
  },
  {
   "cell_type": "code",
   "execution_count": 23,
   "metadata": {},
   "outputs": [
    {
     "name": "stdout",
     "output_type": "stream",
     "text": [
      "[INFO] Register count_convNd() for <class 'torch.nn.modules.conv.Conv2d'>.\n"
     ]
    }
   ],
   "source": [
    "# MACsを計算する\n",
    "macs, params = thop.profile(layer, (x, ))"
   ]
  },
  {
   "cell_type": "code",
   "execution_count": 25,
   "metadata": {},
   "outputs": [
    {
     "name": "stdout",
     "output_type": "stream",
     "text": [
      "[INFO] Register count_linear() for <class 'torch.nn.modules.linear.Linear'>.\n"
     ]
    },
    {
     "data": {
      "text/plain": [
       "(640.0, 0)"
      ]
     },
     "execution_count": 25,
     "metadata": {},
     "output_type": "execute_result"
    }
   ],
   "source": [
    "thop.profile(linear_layer, torch.randn(input_shape))"
   ]
  },
  {
   "cell_type": "code",
   "execution_count": null,
   "metadata": {},
   "outputs": [],
   "source": []
  }
 ],
 "metadata": {
  "kernelspec": {
   "display_name": "Python 3",
   "language": "python",
   "name": "python3"
  },
  "language_info": {
   "codemirror_mode": {
    "name": "ipython",
    "version": 3
   },
   "file_extension": ".py",
   "mimetype": "text/x-python",
   "name": "python",
   "nbconvert_exporter": "python",
   "pygments_lexer": "ipython3",
   "version": "3.8.18"
  }
 },
 "nbformat": 4,
 "nbformat_minor": 2
}
