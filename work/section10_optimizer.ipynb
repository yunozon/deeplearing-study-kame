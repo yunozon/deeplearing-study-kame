{
 "cells": [
  {
   "cell_type": "markdown",
   "id": "cb1b3204-fedb-403a-9372-031aec941e68",
   "metadata": {},
   "source": [
    "# Optimizer"
   ]
  },
  {
   "cell_type": "markdown",
   "id": "38d218b3-06a8-49fe-a434-a463ff6bf782",
   "metadata": {},
   "source": [
    "## スクラッチで実装"
   ]
  },
  {
   "cell_type": "code",
   "execution_count": 1,
   "id": "b9d2156a-559e-4aca-9d36-4b6a0dcc326a",
   "metadata": {},
   "outputs": [],
   "source": [
    "from torch import nn\n",
    "import torch\n",
    "import numpy as np\n",
    "import matplotlib.pyplot as plt\n",
    "from torch.nn import functional as F\n",
    "from sklearn import datasets\n",
    "from sklearn.model_selection import train_test_split"
   ]
  },
  {
   "cell_type": "code",
   "execution_count": 2,
   "id": "7ee9e0cf-3f7d-440c-b981-7de04384d4f0",
   "metadata": {},
   "outputs": [],
   "source": [
    "class MLP(nn.Module):\n",
    "    \n",
    "    def __init__(self, num_in, num_hidden, num_out):\n",
    "        # 親のclassの継承\n",
    "        super().__init__()\n",
    "        self.l1 = nn.Linear(num_in, num_hidden)\n",
    "        self.l2 = nn.Linear(num_hidden, num_out) # 出力層の全結合層\n",
    "\n",
    "    # forwardの処理(順伝播の処理)\n",
    "    def forward(self, x):\n",
    "        x = self.l2(F.relu(self.l1(x)))\n",
    "        return x"
   ]
  },
  {
   "cell_type": "code",
   "execution_count": 3,
   "id": "7a62b34c-bbb7-40d6-8ef9-7c4cffc66f1d",
   "metadata": {},
   "outputs": [
    {
     "data": {
      "text/plain": [
       "<generator object Module.parameters at 0x7ffefee9e820>"
      ]
     },
     "execution_count": 3,
     "metadata": {},
     "output_type": "execute_result"
    }
   ],
   "source": [
    "model = MLP(64, 30, 10)\n",
    "model.parameters()  # generator"
   ]
  },
  {
   "cell_type": "code",
   "execution_count": null,
   "id": "9fb3a818-00c9-480e-a34e-983b27c08187",
   "metadata": {},
   "outputs": [],
   "source": []
  },
  {
   "cell_type": "code",
   "execution_count": 4,
   "id": "8c8b9cf9-6676-4165-90b0-b9f7227c07af",
   "metadata": {},
   "outputs": [],
   "source": [
    "class Optimizer():\n",
    "\n",
    "    def __init__(self, parameters, lr=0.03):\n",
    "        self.parameters = list(parameters)\n",
    "        self.lr = lr\n",
    "\n",
    "    def step(self):\n",
    "        with torch.no_grad():\n",
    "            for param in self.parameters:\n",
    "                param -= self.lr * param.grad\n",
    "\n",
    "    def zero_grad(self):\n",
    "        for param in self.parameters:\n",
    "            if param.grad is not None:  # if文がないとgradが作られていないのに呼ばれてしまう\n",
    "                param.grad_zero_()\n",
    "                \n",
    "\n"
   ]
  },
  {
   "cell_type": "code",
   "execution_count": 5,
   "id": "64491e63-b73b-4406-ba24-53e818019d3d",
   "metadata": {},
   "outputs": [],
   "source": [
    "class Optimizer():\n",
    "    def __init__(self, parameters, lr=0.03):\n",
    "        self.parameters = list(parameters)\n",
    "        self.lr = lr\n",
    "\n",
    "    def step(self):\n",
    "        with torch.no_grad():\n",
    "            for param in self.parameters:\n",
    "                param -= self.lr * param.grad\n",
    "\n",
    "    def zero_grad(self):\n",
    "        for param in self.parameters:\n",
    "            if param.grad is not None:\n",
    "                param.grad.zero_()\n",
    "\n",
    "# # Usage\n",
    "# opt = Optimizer(model.parameters(), lr)  # Pass model.parameters() here\n"
   ]
  },
  {
   "cell_type": "code",
   "execution_count": 6,
   "id": "302b390d-fd00-4ccc-b9ef-332ad926dbe8",
   "metadata": {},
   "outputs": [
    {
     "data": {
      "text/plain": [
       "<generator object Module.parameters at 0x7ffefee9e900>"
      ]
     },
     "execution_count": 6,
     "metadata": {},
     "output_type": "execute_result"
    }
   ],
   "source": [
    "model = MLP(64, 30, 10)\n",
    "model.parameters()  # generator"
   ]
  },
  {
   "cell_type": "code",
   "execution_count": 7,
   "id": "668c0862-8801-427f-b2b1-9d2c1f15ba00",
   "metadata": {},
   "outputs": [],
   "source": [
    "learning_rate = 0.01\n",
    "opt = Optimizer(parameters = model.parameters(), lr=learning_rate)"
   ]
  },
  {
   "cell_type": "code",
   "execution_count": 11,
   "id": "08d639eb-a20f-4f67-b2ef-f298671a3f3d",
   "metadata": {},
   "outputs": [
    {
     "name": "stdout",
     "output_type": "stream",
     "text": [
      "epoch : 0: train error : 0.08561067162857701, validation error : 0.11765244603157043,val accuracy 0.9638888835906982\n",
      "epoch : 1: train error : 0.08494534677204986, validation error : 0.11746018379926682,val accuracy 0.9638888835906982\n",
      "epoch : 2: train error : 0.08418877442212154, validation error : 0.11693070828914642,val accuracy 0.9611111283302307\n",
      "epoch : 3: train error : 0.0833802418395256, validation error : 0.11633049696683884,val accuracy 0.9694444537162781\n",
      "epoch : 4: train error : 0.0826346522080712, validation error : 0.11611621826887131,val accuracy 0.9638888835906982\n",
      "epoch : 5: train error : 0.08240169077180326, validation error : 0.11554761230945587,val accuracy 0.9611111283302307\n",
      "epoch : 6: train error : 0.08171700371894985, validation error : 0.1158042624592781,val accuracy 0.9638888835906982\n",
      "epoch : 7: train error : 0.08074743023219828, validation error : 0.11580435186624527,val accuracy 0.9583333134651184\n",
      "epoch : 8: train error : 0.08011438868318994, validation error : 0.11541806161403656,val accuracy 0.9583333134651184\n",
      "epoch : 9: train error : 0.07977213991883521, validation error : 0.11459220945835114,val accuracy 0.9611111283302307\n",
      "epoch : 10: train error : 0.0790683002754425, validation error : 0.11452948302030563,val accuracy 0.9583333134651184\n",
      "epoch : 11: train error : 0.07865151770723362, validation error : 0.11385977268218994,val accuracy 0.9611111283302307\n",
      "epoch : 12: train error : 0.07803382619749755, validation error : 0.11332491040229797,val accuracy 0.9638888835906982\n",
      "epoch : 13: train error : 0.07715301599819213, validation error : 0.11366558074951172,val accuracy 0.9638888835906982\n",
      "epoch : 14: train error : 0.07694747477459411, validation error : 0.11281190812587738,val accuracy 0.9638888835906982\n",
      "epoch : 15: train error : 0.07604914930804323, validation error : 0.11278960853815079,val accuracy 0.9611111283302307\n",
      "epoch : 16: train error : 0.07544510303220402, validation error : 0.11246003955602646,val accuracy 0.9611111283302307\n",
      "epoch : 17: train error : 0.07498058459411065, validation error : 0.11252187192440033,val accuracy 0.9611111283302307\n",
      "epoch : 18: train error : 0.07458814249063532, validation error : 0.11184802651405334,val accuracy 0.9611111283302307\n",
      "epoch : 19: train error : 0.07384575554169714, validation error : 0.11148868501186371,val accuracy 0.9611111283302307\n",
      "epoch : 20: train error : 0.07350985744657616, validation error : 0.1113748624920845,val accuracy 0.9611111283302307\n",
      "epoch : 21: train error : 0.07277447097779562, validation error : 0.11104379594326019,val accuracy 0.9611111283302307\n",
      "epoch : 22: train error : 0.07227432312599073, validation error : 0.11101928353309631,val accuracy 0.9611111283302307\n",
      "epoch : 23: train error : 0.0720014379088146, validation error : 0.11053064465522766,val accuracy 0.9611111283302307\n",
      "epoch : 24: train error : 0.07167249964550138, validation error : 0.11078120023012161,val accuracy 0.9611111283302307\n",
      "epoch : 25: train error : 0.07083164687113215, validation error : 0.11051230132579803,val accuracy 0.9611111283302307\n",
      "epoch : 26: train error : 0.07044364486743386, validation error : 0.10976853966712952,val accuracy 0.9611111283302307\n",
      "epoch : 27: train error : 0.06985225578925262, validation error : 0.1099722757935524,val accuracy 0.9611111283302307\n",
      "epoch : 28: train error : 0.06957532069645822, validation error : 0.10958082228899002,val accuracy 0.9611111283302307\n",
      "epoch : 29: train error : 0.06888090852104749, validation error : 0.10969927906990051,val accuracy 0.9611111283302307\n",
      "epoch : 30: train error : 0.06838017865084112, validation error : 0.10879506915807724,val accuracy 0.9611111283302307\n",
      "epoch : 31: train error : 0.06813595277102043, validation error : 0.10841437429189682,val accuracy 0.9638888835906982\n",
      "epoch : 32: train error : 0.06770284803739439, validation error : 0.1082545816898346,val accuracy 0.9638888835906982\n",
      "epoch : 33: train error : 0.06709865484541903, validation error : 0.10831670463085175,val accuracy 0.9611111283302307\n",
      "epoch : 34: train error : 0.06677775620482862, validation error : 0.1084536463022232,val accuracy 0.9611111283302307\n",
      "epoch : 35: train error : 0.06631952089567979, validation error : 0.1081194207072258,val accuracy 0.9611111283302307\n",
      "epoch : 36: train error : 0.06590417050756514, validation error : 0.10837946087121964,val accuracy 0.9611111283302307\n",
      "epoch : 37: train error : 0.06544575877099608, validation error : 0.10730326175689697,val accuracy 0.9611111283302307\n",
      "epoch : 38: train error : 0.0649418532072256, validation error : 0.10731235891580582,val accuracy 0.9611111283302307\n",
      "epoch : 39: train error : 0.06461303025328864, validation error : 0.10694564133882523,val accuracy 0.9611111283302307\n",
      "epoch : 40: train error : 0.06406670213133718, validation error : 0.1066763699054718,val accuracy 0.9611111283302307\n",
      "epoch : 41: train error : 0.06391256952580686, validation error : 0.10661544650793076,val accuracy 0.9611111283302307\n",
      "epoch : 42: train error : 0.06346949814663579, validation error : 0.10671133548021317,val accuracy 0.9611111283302307\n",
      "epoch : 43: train error : 0.06308009044732898, validation error : 0.10649105906486511,val accuracy 0.9611111283302307\n",
      "epoch : 44: train error : 0.06267067095420013, validation error : 0.10610456764698029,val accuracy 0.9611111283302307\n",
      "epoch : 45: train error : 0.062068914994597435, validation error : 0.10554971545934677,val accuracy 0.9611111283302307\n",
      "epoch : 46: train error : 0.06182717240881175, validation error : 0.10568511486053467,val accuracy 0.9611111283302307\n",
      "epoch : 47: train error : 0.06130297090082119, validation error : 0.10572857409715652,val accuracy 0.9611111283302307\n",
      "epoch : 48: train error : 0.06119449366815388, validation error : 0.10527171939611435,val accuracy 0.9611111283302307\n",
      "epoch : 49: train error : 0.060751494039626174, validation error : 0.105404332280159,val accuracy 0.9611111283302307\n",
      "epoch : 50: train error : 0.06028695464677488, validation error : 0.10547402501106262,val accuracy 0.9611111283302307\n",
      "epoch : 51: train error : 0.059864398887536176, validation error : 0.1053781807422638,val accuracy 0.9611111283302307\n",
      "epoch : 52: train error : 0.0595840379052485, validation error : 0.10475219041109085,val accuracy 0.9638888835906982\n",
      "epoch : 53: train error : 0.05901353798496226, validation error : 0.1048041433095932,val accuracy 0.9611111283302307\n",
      "epoch : 54: train error : 0.05875677467944721, validation error : 0.10440568625926971,val accuracy 0.9611111283302307\n",
      "epoch : 55: train error : 0.058390802645590156, validation error : 0.10437964648008347,val accuracy 0.9611111283302307\n",
      "epoch : 56: train error : 0.05838284505686412, validation error : 0.10397421568632126,val accuracy 0.9611111283302307\n",
      "epoch : 57: train error : 0.057708551680358745, validation error : 0.1039770320057869,val accuracy 0.9611111283302307\n",
      "epoch : 58: train error : 0.05746800722166275, validation error : 0.1043650284409523,val accuracy 0.9611111283302307\n",
      "epoch : 59: train error : 0.057056575829240806, validation error : 0.10369778424501419,val accuracy 0.9638888835906982\n",
      "epoch : 60: train error : 0.05654391877275581, validation error : 0.1035226434469223,val accuracy 0.9611111283302307\n",
      "epoch : 61: train error : 0.05614040564978495, validation error : 0.10401883721351624,val accuracy 0.9638888835906982\n",
      "epoch : 62: train error : 0.0560020066332072, validation error : 0.10342036187648773,val accuracy 0.9666666388511658\n",
      "epoch : 63: train error : 0.05577961819168801, validation error : 0.10301946103572845,val accuracy 0.9638888835906982\n",
      "epoch : 64: train error : 0.055496844521258026, validation error : 0.1029091626405716,val accuracy 0.9638888835906982\n",
      "epoch : 65: train error : 0.05513846414396539, validation error : 0.10308872163295746,val accuracy 0.9638888835906982\n",
      "epoch : 66: train error : 0.05473094305489212, validation error : 0.10342655330896378,val accuracy 0.9666666388511658\n",
      "epoch : 67: train error : 0.054628447454888374, validation error : 0.10314609855413437,val accuracy 0.9638888835906982\n",
      "epoch : 68: train error : 0.054246985722177975, validation error : 0.10275988280773163,val accuracy 0.9666666388511658\n",
      "epoch : 69: train error : 0.05383307362596194, validation error : 0.10310351848602295,val accuracy 0.9611111283302307\n",
      "epoch : 70: train error : 0.05365909341101845, validation error : 0.10311903059482574,val accuracy 0.9638888835906982\n",
      "epoch : 71: train error : 0.05338762865479415, validation error : 0.10253985971212387,val accuracy 0.9638888835906982\n",
      "epoch : 72: train error : 0.05289809429086745, validation error : 0.10198518633842468,val accuracy 0.9638888835906982\n",
      "epoch : 73: train error : 0.05260337118913109, validation error : 0.10221564024686813,val accuracy 0.9638888835906982\n",
      "epoch : 74: train error : 0.05245807712587217, validation error : 0.10174226015806198,val accuracy 0.9638888835906982\n",
      "epoch : 75: train error : 0.05223153356928378, validation error : 0.10142979025840759,val accuracy 0.9638888835906982\n",
      "epoch : 76: train error : 0.051792597223538905, validation error : 0.10124345123767853,val accuracy 0.9638888835906982\n",
      "epoch : 77: train error : 0.05147114449452298, validation error : 0.10120595246553421,val accuracy 0.9638888835906982\n",
      "epoch : 78: train error : 0.05138242539639274, validation error : 0.10122677683830261,val accuracy 0.9638888835906982\n",
      "epoch : 79: train error : 0.05105376748057703, validation error : 0.10107620805501938,val accuracy 0.9638888835906982\n",
      "epoch : 80: train error : 0.05070450869970955, validation error : 0.1013423502445221,val accuracy 0.9638888835906982\n",
      "epoch : 81: train error : 0.05041023921997597, validation error : 0.10109829157590866,val accuracy 0.9638888835906982\n",
      "epoch : 82: train error : 0.05027799090991417, validation error : 0.10080881416797638,val accuracy 0.9638888835906982\n",
      "epoch : 83: train error : 0.04977884150381821, validation error : 0.10082674771547318,val accuracy 0.9638888835906982\n",
      "epoch : 84: train error : 0.049624331567126014, validation error : 0.10066300630569458,val accuracy 0.9638888835906982\n",
      "epoch : 85: train error : 0.04933154544172188, validation error : 0.10078981518745422,val accuracy 0.9638888835906982\n",
      "epoch : 86: train error : 0.048973522207234055, validation error : 0.10060509294271469,val accuracy 0.9638888835906982\n",
      "epoch : 87: train error : 0.049106985660425075, validation error : 0.10068254172801971,val accuracy 0.9638888835906982\n",
      "epoch : 88: train error : 0.04844663158291951, validation error : 0.10052789002656937,val accuracy 0.9638888835906982\n",
      "epoch : 89: train error : 0.0482181109158167, validation error : 0.10062616318464279,val accuracy 0.9638888835906982\n",
      "epoch : 90: train error : 0.048067606985569, validation error : 0.10099423676729202,val accuracy 0.9638888835906982\n",
      "epoch : 91: train error : 0.047903760724390544, validation error : 0.10026857256889343,val accuracy 0.9638888835906982\n",
      "epoch : 92: train error : 0.04766915958801595, validation error : 0.10018861293792725,val accuracy 0.9638888835906982\n",
      "epoch : 93: train error : 0.04728119884384796, validation error : 0.10030119866132736,val accuracy 0.9638888835906982\n",
      "epoch : 94: train error : 0.04716739991757398, validation error : 0.1000482365489006,val accuracy 0.9638888835906982\n",
      "epoch : 95: train error : 0.046843369821241744, validation error : 0.09996381402015686,val accuracy 0.9638888835906982\n",
      "epoch : 96: train error : 0.04674381411556775, validation error : 0.09984187036752701,val accuracy 0.9666666388511658\n",
      "epoch : 97: train error : 0.04631709222060939, validation error : 0.0999041274189949,val accuracy 0.9666666388511658\n",
      "epoch : 98: train error : 0.04603889543795958, validation error : 0.10017099231481552,val accuracy 0.9638888835906982\n",
      "epoch : 99: train error : 0.04583243154532587, validation error : 0.09983236342668533,val accuracy 0.9666666388511658\n"
     ]
    }
   ],
   "source": [
    "# nnクラスとF.関数を組み合わせて作成する\n",
    "# # MLP(親のクラス(継承する))\n",
    "# class MLP(nn.Module):\n",
    "    \n",
    "#     def __init__(self, num_in, num_hidden, num_out):\n",
    "#         # 親のclassの継承\n",
    "#         super().__init__()\n",
    "#         self.l1 = nn.Linear(num_in, num_hidden)\n",
    "#         self.l2 = nn.Linear(num_hidden, num_out) # 出力層の全結合層\n",
    "\n",
    "#     # forwardの処理(順伝播の処理)\n",
    "#     def forward(self, x):\n",
    "#         x = self.l2(F.relu(self.l1(x)))\n",
    "#         return x\n",
    "\n",
    "# class Optimizer():\n",
    "\n",
    "#     def __init__(self, parameters, lr=0.03):\n",
    "#         self.parameters = list(parameters)\n",
    "#         self.lr = lr\n",
    "\n",
    "#     def step(self):\n",
    "#         with torch.no_grad():\n",
    "#             for param in self.parameters():\n",
    "#                 param -= self.lr * param.grad\n",
    "\n",
    "#     def zero_grad(self):\n",
    "#         for param in self.parameters:\n",
    "#             if param.grad is not None:  # if文がないとgradが作られていないのに呼ばれてしまう\n",
    "#                 param.grad_zero_()\n",
    "\n",
    "## Refactoring後の学習ループ(OptimizerやDataset, Dataloaderの後にRefactaring)\n",
    "# ===データの準備===\n",
    "dataset = datasets.load_digits()\n",
    "data = dataset['data']\n",
    "target = dataset['target']\n",
    "images = dataset['images']\n",
    "X_train, X_val, y_train, y_val = train_test_split(images, target, test_size=0.2, random_state=42)\n",
    "X_mean = X_train.mean()\n",
    "X_std = X_train.std()\n",
    "\n",
    "X_train = (X_train - X_mean) / X_std\n",
    "X_val  = (X_val  - X_mean ) / X_std\n",
    "\n",
    "X_train = torch.tensor(X_train.reshape(-1, 64), dtype=torch.float32)\n",
    "X_val = torch.tensor(X_val.reshape(-1, 64), dtype=torch.float32)\n",
    "\n",
    "# yの値をone-hotしないようにする\n",
    "y_train = torch.tensor(y_train)\n",
    "y_val = torch.tensor(y_val)\n",
    "\n",
    "batch_size = 30\n",
    "num_in = 64\n",
    "num_hidden = 30\n",
    "num_out = 10\n",
    "num_batches = np.ceil(len(y_train)/batch_size).astype(int)\n",
    "\n",
    "\n",
    "learning_rate = 0.01\n",
    "\n",
    "# モデルの初期化\n",
    "# model = MLP(num_in, num_hidden, num_out)\n",
    "# opt = Optimizer(parameters = model.parameters(), lr=learning_rate)\n",
    "\n",
    "# ログ\n",
    "train_losses = []\n",
    "val_losses = []\n",
    "val_accuracies = []\n",
    "\n",
    "for epoch in range(100):\n",
    "    # エポックごとにデータをシャッフルする\n",
    "    shuffled_indices = np.random.permutation(len(y_train))\n",
    "\n",
    "    running_loss = 0.0\n",
    "\n",
    "    for i in range(num_batches):\n",
    "    \n",
    "        # mini batchの作成\n",
    "        start = i * batch_size\n",
    "        end = start + batch_size\n",
    "    \n",
    "        batch_indices = shuffled_indices[start:end]\n",
    "        y = y_train[batch_indices] # batch_size x 10\n",
    "    \n",
    "        X = X_train[batch_indices, :] # batc_size x 64\n",
    "        # 順伝播と逆伝播の計算\n",
    "        preds  = model(X)\n",
    "        loss = F.cross_entropy(preds, y)\n",
    "        loss.backward()\n",
    "        running_loss += loss.item()\n",
    "    \n",
    "        # パラメータ更新 ->ここをOptimizerクラスにする\n",
    "        # with torch.no_grad():\n",
    "        #     for param in model.parameters():\n",
    "        #         param -= learning_rate * param.grad\n",
    "    \n",
    "        # model.zero_grad()\n",
    "        opt.step()\n",
    "        opt.zero_grad()\n",
    "\n",
    "    # validtion\n",
    "    with torch.no_grad():\n",
    "        preds_val = model(X_val)\n",
    "        val_loss = F.cross_entropy(preds_val, y_val)\n",
    "    \n",
    "        val_accuracy = torch.sum(torch.argmax(preds_val, dim=-1) == y_val) / y_val.shape[0]\n",
    "\n",
    "    train_losses.append(running_loss/num_batches)\n",
    "    val_losses.append(val_loss.item())\n",
    "    val_accuracies.append(val_accuracy)\n",
    "    print(f'epoch : {epoch}: train error : {running_loss/num_batches}, validation error : {val_loss.item()},val accuracy {val_accuracy.item()}')\n",
    "\n"
   ]
  },
  {
   "cell_type": "code",
   "execution_count": null,
   "id": "1cae0b37-98bd-4533-b29e-3c0847442e14",
   "metadata": {},
   "outputs": [],
   "source": []
  },
  {
   "cell_type": "markdown",
   "id": "5efc83fc-50a2-4c47-9422-71944f039f2f",
   "metadata": {},
   "source": [
    "## torch.optim"
   ]
  },
  {
   "cell_type": "code",
   "execution_count": 10,
   "id": "e42f38ac-aac0-4d36-b8a3-0f3de007a280",
   "metadata": {},
   "outputs": [],
   "source": [
    "from torch import optim\n",
    "opt = optim.SGD(model.parameters(), lr = learning_rate)"
   ]
  },
  {
   "cell_type": "code",
   "execution_count": null,
   "id": "fec2203d-c352-4515-86b0-046e9cd461c4",
   "metadata": {},
   "outputs": [],
   "source": []
  },
  {
   "cell_type": "code",
   "execution_count": null,
   "id": "c25e76fb-826f-475b-9bf3-4919dd73ada2",
   "metadata": {},
   "outputs": [],
   "source": []
  },
  {
   "cell_type": "code",
   "execution_count": null,
   "id": "76611b16-5c93-4dff-afdb-b631a09b27fd",
   "metadata": {},
   "outputs": [],
   "source": []
  },
  {
   "cell_type": "code",
   "execution_count": null,
   "id": "14b49212-d8e7-4c45-9f03-88ba8fd23dfb",
   "metadata": {},
   "outputs": [],
   "source": []
  },
  {
   "cell_type": "code",
   "execution_count": null,
   "id": "9371c5f6-f8e9-4666-99e5-017db65fb879",
   "metadata": {},
   "outputs": [],
   "source": []
  },
  {
   "cell_type": "code",
   "execution_count": null,
   "id": "294bb0bc-c57b-4585-a33c-93955b903a13",
   "metadata": {},
   "outputs": [],
   "source": []
  },
  {
   "cell_type": "code",
   "execution_count": null,
   "id": "efc2895b-b107-4787-85e7-c4e5c755fb1d",
   "metadata": {},
   "outputs": [],
   "source": []
  },
  {
   "cell_type": "code",
   "execution_count": null,
   "id": "3585366c-a664-4951-b180-d8d4aff6705a",
   "metadata": {},
   "outputs": [],
   "source": []
  },
  {
   "cell_type": "code",
   "execution_count": null,
   "id": "c337c907-eaf2-4028-a7ff-b3a5cc053ab8",
   "metadata": {},
   "outputs": [],
   "source": []
  },
  {
   "cell_type": "code",
   "execution_count": null,
   "id": "416d27e4-571b-4282-aca3-b6f3bfeeaaa0",
   "metadata": {},
   "outputs": [],
   "source": []
  },
  {
   "cell_type": "code",
   "execution_count": null,
   "id": "59a5ba16-ff4d-4247-b5d3-9e29174ad66b",
   "metadata": {},
   "outputs": [],
   "source": []
  },
  {
   "cell_type": "code",
   "execution_count": null,
   "id": "bd07790f-197e-4d96-8373-55ce1c81f4d7",
   "metadata": {},
   "outputs": [],
   "source": []
  },
  {
   "cell_type": "code",
   "execution_count": null,
   "id": "b9c22b2f-16d3-4aa1-9621-e6b2714e783c",
   "metadata": {},
   "outputs": [],
   "source": []
  },
  {
   "cell_type": "code",
   "execution_count": null,
   "id": "236f49e1-3288-4672-8aa3-4834ee59509d",
   "metadata": {},
   "outputs": [],
   "source": []
  },
  {
   "cell_type": "code",
   "execution_count": null,
   "id": "085ed73c-b5d8-484a-a2e8-0bc1dfb2720d",
   "metadata": {},
   "outputs": [],
   "source": []
  },
  {
   "cell_type": "code",
   "execution_count": null,
   "id": "738af6ba-6984-4b5a-af7d-5b1eb5f635cc",
   "metadata": {},
   "outputs": [],
   "source": []
  },
  {
   "cell_type": "code",
   "execution_count": null,
   "id": "1ef78f82-775a-455c-b07a-8e6d31062a3a",
   "metadata": {},
   "outputs": [],
   "source": []
  },
  {
   "cell_type": "code",
   "execution_count": null,
   "id": "78d16923-91ad-4835-bb8d-d7b601192199",
   "metadata": {},
   "outputs": [],
   "source": []
  },
  {
   "cell_type": "code",
   "execution_count": null,
   "id": "45ce1b10-402d-4d77-965c-c8500aa1988c",
   "metadata": {},
   "outputs": [],
   "source": []
  },
  {
   "cell_type": "code",
   "execution_count": null,
   "id": "9ca8958e-5a6d-4afa-8aa1-9c8f61e9d4e6",
   "metadata": {},
   "outputs": [],
   "source": []
  },
  {
   "cell_type": "code",
   "execution_count": null,
   "id": "1f4fa763-c93b-41d0-8f84-5fdc11bb3e53",
   "metadata": {},
   "outputs": [],
   "source": []
  },
  {
   "cell_type": "code",
   "execution_count": null,
   "id": "76aa24cb-b67d-4e96-ac16-552acdf35fe0",
   "metadata": {},
   "outputs": [],
   "source": []
  }
 ],
 "metadata": {
  "kernelspec": {
   "display_name": "Python 3 (ipykernel)",
   "language": "python",
   "name": "python3"
  },
  "language_info": {
   "codemirror_mode": {
    "name": "ipython",
    "version": 3
   },
   "file_extension": ".py",
   "mimetype": "text/x-python",
   "name": "python",
   "nbconvert_exporter": "python",
   "pygments_lexer": "ipython3",
   "version": "3.8.18"
  }
 },
 "nbformat": 4,
 "nbformat_minor": 5
}
