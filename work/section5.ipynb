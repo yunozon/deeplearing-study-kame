{
 "cells": [
  {
   "cell_type": "markdown",
   "id": "7943dba9-45ce-4f24-ac2a-ee9e490554bb",
   "metadata": {},
   "source": [
    "## MNISTで多項ロジスティック回帰を学習"
   ]
  },
  {
   "cell_type": "markdown",
   "id": "afe1f3fc-611b-4cc9-ba93-3c024a523231",
   "metadata": {},
   "source": [
    "### 1. データロード"
   ]
  },
  {
   "cell_type": "code",
   "execution_count": 58,
   "id": "a0d5b118-e4f9-45a6-9210-6b06ddacbc2f",
   "metadata": {},
   "outputs": [],
   "source": [
    "# ライブラリ\n",
    "import numpy as np\n",
    "import pandas as pd\n",
    "import matplotlib.pyplot as plt\n",
    "import torch\n",
    "from sklearn import datasets \n",
    "import matplotlib.pyplot as plt\n",
    "\n",
    "from sklearn.model_selection import train_test_split\n",
    "import torch.nn.functional as F"
   ]
  },
  {
   "cell_type": "code",
   "execution_count": null,
   "id": "11ed68e1-1108-4aa2-aaba-816ac81bf5b0",
   "metadata": {},
   "outputs": [],
   "source": [
    "# 1. データロード\n",
    "\n",
    "dataset = datasets.load_digits()\n",
    "\n",
    "\n",
    "# 画像データ\n",
    "images = dataset['images']\n",
    "\n",
    "# 正解レベル\n",
    "target = dataset['target']"
   ]
  },
  {
   "cell_type": "code",
   "execution_count": 4,
   "id": "f5fd2965-663f-4518-931b-6c39517fe604",
   "metadata": {},
   "outputs": [
    {
     "name": "stdout",
     "output_type": "stream",
     "text": [
      "画像データのshape (1797, 8, 8)\n",
      "正解ラベルのshape (1797,)\n"
     ]
    }
   ],
   "source": [
    "# データの確認\n",
    "print('画像データのshape', images.shape)\n",
    "print('正解ラベルのshape', target.shape)"
   ]
  },
  {
   "cell_type": "code",
   "execution_count": 5,
   "id": "1c858dd2-c1f0-4a73-be7f-a4db922f68de",
   "metadata": {},
   "outputs": [
    {
     "data": {
      "text/plain": [
       "<matplotlib.image.AxesImage at 0x2aabd7c6deb0>"
      ]
     },
     "execution_count": 5,
     "metadata": {},
     "output_type": "execute_result"
    },
    {
     "data": {
      "image/png": "[encoded data removed]",
      "text/plain": [
       "<Figure size 640x480 with 1 Axes>"
      ]
     },
     "metadata": {},
     "output_type": "display_data"
    }
   ],
   "source": [
    "# imageを可視化して確かめる\n",
    "import matplotlib.pyplot as plt\n",
    "\n",
    "# 画像を表示するのは, plt.imshow()\n",
    "# これが1797枚ある\n",
    "plt.imshow(images[0], cmap='gray')"
   ]
  },
  {
   "cell_type": "code",
   "execution_count": null,
   "id": "ceed2bdc-a60d-4abc-8ba1-591e8e22236d",
   "metadata": {},
   "outputs": [],
   "source": []
  },
  {
   "cell_type": "markdown",
   "id": "62e4bc61-088c-422a-867f-e6120c93cd36",
   "metadata": {},
   "source": [
    "### 2. 前処理"
   ]
  },
  {
   "cell_type": "code",
   "execution_count": 6,
   "id": "ef88d942-dc99-4da2-b848-31e70b3f1fc5",
   "metadata": {},
   "outputs": [],
   "source": [
    "# ラベルのエンコーディング(one-hotエンコーディング)\n",
    "import torch.nn.functional as F\n",
    "\n",
    "# この形ではダメ、なぜなら、numpyの形を取ってはいけない -> tensorの形に！\n",
    "# あとは、引数にクラスの数を指定, num_classes\n",
    "# F.one_hot(target)\n",
    "\n",
    "y_true = F.one_hot(torch.tensor(target), num_classes=10)\n",
    "\n",
    "# imagesもnumpy arrayなので、tensorにする。また、numpy arrayはfloat64型なので型変換する\n",
    "# さらに、１次元配列として扱うので8x8 = 64の特徴量として扱うのでshapeを変える。\n",
    "# 今のshapeはimage.shape -> (1797, 8, 8) -> (1797, 64)にする\n",
    "images = torch.tensor(images, dtype=torch.float32).reshape(-1, 64)\n",
    "images = (images - images.mean()) / images.std()"
   ]
  },
  {
   "cell_type": "code",
   "execution_count": 7,
   "id": "ab656df8-3dc2-4cc3-9ef0-62e62c84d741",
   "metadata": {},
   "outputs": [],
   "source": [
    "# 学習率の準備\n",
    "learning_rate = 0.3\n",
    "\n",
    "# 各イテレーションの損失を入れる\n",
    "loss_log = []"
   ]
  },
  {
   "cell_type": "code",
   "execution_count": null,
   "id": "62e99e33-1ea3-453d-8af0-f70b8201916a",
   "metadata": {},
   "outputs": [],
   "source": []
  },
  {
   "cell_type": "markdown",
   "id": "69b8c016-85c2-436b-8e5c-c349b69a3f31",
   "metadata": {},
   "source": [
    "### 3. パラメータの初期化"
   ]
  },
  {
   "cell_type": "code",
   "execution_count": 8,
   "id": "653d887a-e64c-430e-a88b-0f30aa416dea",
   "metadata": {},
   "outputs": [],
   "source": [
    "# wは10 x 64(出力 x 入力), b = 1 x 10 ( 1 x 出力)\n",
    "W = torch.rand((10, 64), requires_grad=True)\n",
    "b = torch.rand((1, 10), requires_grad=True)"
   ]
  },
  {
   "cell_type": "code",
   "execution_count": null,
   "id": "ea6914ff-4ee4-4435-861b-09545bfc54b3",
   "metadata": {},
   "outputs": [],
   "source": [
    "\n"
   ]
  },
  {
   "cell_type": "markdown",
   "id": "b63fc925-d45d-4209-afd0-418e85374dcd",
   "metadata": {},
   "source": [
    "### 4. softmaxの実装"
   ]
  },
  {
   "cell_type": "code",
   "execution_count": 9,
   "id": "258f08ff-866e-42f4-985b-e180d494a2c9",
   "metadata": {},
   "outputs": [],
   "source": [
    "# xは行列,\n",
    "# torch.max(x)はデータごと, 行ごとのmaxを取る。データが3x10だとすると、最大値は3x1にしたい\n",
    "# 左からrankを0とすると、rankを1とする、\n",
    "def softmax(x):\n",
    "    # 分子\n",
    "    e_x = torch.exp(x - torch.max(x, dim=-1, keepdim=True)[0])\n",
    "    # 分母\n",
    "    return e_x / (torch.sum(e_x, dim=-1, keepdim=True) + 1e-10)\n",
    "\n"
   ]
  },
  {
   "cell_type": "code",
   "execution_count": null,
   "id": "9bafb7fa-1b72-4b66-9acb-57474fb6a611",
   "metadata": {},
   "outputs": [],
   "source": []
  },
  {
   "cell_type": "code",
   "execution_count": 10,
   "id": "4c975628-08c4-4956-ad85-7527559ab795",
   "metadata": {},
   "outputs": [
    {
     "data": {
      "text/plain": [
       "tensor([[0.9659, 0.2449, 0.7514, 0.2645, 0.7201],\n",
       "        [0.0845, 0.1779, 0.7745, 0.5163, 0.4144],\n",
       "        [0.0377, 0.4402, 0.2961, 0.8485, 0.6810]])"
      ]
     },
     "execution_count": 10,
     "metadata": {},
     "output_type": "execute_result"
    }
   ],
   "source": [
    "a = torch.rand((3, 5))\n",
    "a"
   ]
  },
  {
   "cell_type": "code",
   "execution_count": 11,
   "id": "3e9343f7-630e-4d80-985e-c7108215dbdd",
   "metadata": {},
   "outputs": [
    {
     "data": {
      "text/plain": [
       "torch.return_types.max(\n",
       "values=tensor([0.9659, 0.7745, 0.8485]),\n",
       "indices=tensor([0, 2, 3]))"
      ]
     },
     "execution_count": 11,
     "metadata": {},
     "output_type": "execute_result"
    }
   ],
   "source": [
    "# 行ごとの最大値\n",
    "torch.max(a, dim=-1)"
   ]
  },
  {
   "cell_type": "code",
   "execution_count": 12,
   "id": "3c4ca0c7-8086-4a80-b13e-eefaa3bf1d80",
   "metadata": {},
   "outputs": [
    {
     "data": {
      "text/plain": [
       "tensor([[0.9659],\n",
       "        [0.7745],\n",
       "        [0.8485]])"
      ]
     },
     "execution_count": 12,
     "metadata": {},
     "output_type": "execute_result"
    }
   ],
   "source": [
    "# 形状を保つ\n",
    "# これは2つ出力して、値と元のtensorのindexが何かを示している。-> 最大値だけを出力\n",
    "torch.max(a, dim=-1, keepdim=True)[0]"
   ]
  },
  {
   "cell_type": "code",
   "execution_count": 13,
   "id": "e45e15c9-6f74-4d0e-8e50-95edc892b0c3",
   "metadata": {},
   "outputs": [
    {
     "data": {
      "text/plain": [
       "tensor([[2.9467],\n",
       "        [1.9676],\n",
       "        [2.3036]])"
      ]
     },
     "execution_count": 13,
     "metadata": {},
     "output_type": "execute_result"
    }
   ],
   "source": [
    "# 行ごとにsumを取る\n",
    "torch.sum(a, dim=-1, keepdim=True)"
   ]
  },
  {
   "cell_type": "code",
   "execution_count": 14,
   "id": "a38e6028-52f6-47b9-8764-fb4d7cc71e3d",
   "metadata": {},
   "outputs": [
    {
     "data": {
      "text/plain": [
       "tensor([[1.0000, 0.4863, 0.8070, 0.4959, 0.7821],\n",
       "        [0.5016, 0.5507, 1.0000, 0.7725, 0.6976],\n",
       "        [0.4445, 0.6648, 0.5756, 1.0000, 0.8457]])"
      ]
     },
     "execution_count": 14,
     "metadata": {},
     "output_type": "execute_result"
    }
   ],
   "source": [
    "torch.exp(a - torch.max(a, dim=-1, keepdim=True)[0])"
   ]
  },
  {
   "cell_type": "code",
   "execution_count": null,
   "id": "2af0a7ae-c5d6-4aa6-a19c-64c5e80bb68f",
   "metadata": {},
   "outputs": [],
   "source": []
  },
  {
   "cell_type": "code",
   "execution_count": 15,
   "id": "014f2a23-435b-455a-a3ba-f16bb0ef1d27",
   "metadata": {},
   "outputs": [],
   "source": [
    "# cross entropyの実装\n",
    "def cross_entropy(y_true, y_pred):\n",
    "    # sumはスカラー(一つの値)で出力されるので、軸は関係ない\n",
    "    \n",
    "    return -torch.sum(y_true * torch.log(y_pred + 1e-10)) / y_true.shape[0]"
   ]
  },
  {
   "cell_type": "code",
   "execution_count": null,
   "id": "1acf84e9-4c75-4caa-8373-421b99491680",
   "metadata": {},
   "outputs": [],
   "source": []
  },
  {
   "cell_type": "markdown",
   "id": "2c65550a-e99b-46b1-825a-4c49bc63b2f8",
   "metadata": {},
   "source": [
    "### 5. for文で学習ループ作成"
   ]
  },
  {
   "cell_type": "code",
   "execution_count": 16,
   "id": "5390d97d-4612-4cdd-a8a0-451d67ef3044",
   "metadata": {},
   "outputs": [
    {
     "name": "stdout",
     "output_type": "stream",
     "text": [
      "epoch : 1: 0.8864995844397616\n",
      "epoch : 2: 0.5119488638194429\n",
      "epoch : 3: 0.37028031579867254\n",
      "epoch : 4: 0.32157235617340824\n",
      "epoch : 5: 0.24008751528628644\n"
     ]
    }
   ],
   "source": [
    "for epoch in range(5):\n",
    "    running_loss = 0\n",
    "    # それぞれのepochではデータを持ってきて、zを計算損失計算、softmax計算\n",
    "    for i in range(len(target)):\n",
    "        # 6. 入力データxおよび教師ラベルyを作成\n",
    "        y_true_ = y_true[i].reshape(-1, 10)  # データ数 x　クラス数\n",
    "        X = images[i].reshape(-1, 64)  # データ数 x 特徴量\n",
    "\n",
    "        # 7. z計算\n",
    "        Z = X@W.T + b\n",
    "\n",
    "        # 8.softmaxで予測計算\n",
    "        y_pred = softmax(Z)\n",
    "\n",
    "        # 9. 損失計算\n",
    "        loss = cross_entropy(y_true_, y_pred)\n",
    "        # lossはtensorの形なので、.item()を使って数値にする\n",
    "        loss_log.append(loss.item())\n",
    "        # epochごとのlossを計算する\n",
    "        running_loss += loss.item()\n",
    "\n",
    "        # 10. 勾配を計算する\n",
    "        loss.backward()\n",
    "\n",
    "        # 11. パラメータ更新\n",
    "        with torch.no_grad():\n",
    "            W -= learning_rate * W.grad\n",
    "            b -= learning_rate * b.grad\n",
    "\n",
    "        # 12. 勾配初期化\n",
    "        W.grad.zero_()\n",
    "        b.grad.zero_()\n",
    "\n",
    "    # 13. 損失logを出力\n",
    "    print(f'epoch : {epoch+1}: {running_loss/len(target)}')"
   ]
  },
  {
   "cell_type": "code",
   "execution_count": 17,
   "id": "a7a6e0d9-27bb-494c-a397-c3bce9e469a7",
   "metadata": {},
   "outputs": [
    {
     "name": "stderr",
     "output_type": "stream",
     "text": [
      "/tmp/ipykernel_32/1672824624.py:1: UserWarning: To copy construct from a tensor, it is recommended to use sourceTensor.clone().detach() or sourceTensor.clone().detach().requires_grad_(True), rather than torch.tensor(sourceTensor).\n",
      "  X = torch.tensor(images, dtype=torch.float32)\n"
     ]
    }
   ],
   "source": [
    "X = torch.tensor(images, dtype=torch.float32)"
   ]
  },
  {
   "cell_type": "code",
   "execution_count": 18,
   "id": "9146b572-a71c-483a-bdd7-aaf063e158f6",
   "metadata": {},
   "outputs": [],
   "source": [
    "z = X@W.T + b\n",
    "y_pred = softmax(z)"
   ]
  },
  {
   "cell_type": "code",
   "execution_count": 19,
   "id": "b7d8201b-e89a-49fd-b344-94b8d44cce96",
   "metadata": {},
   "outputs": [
    {
     "data": {
      "text/plain": [
       "tensor(0.9438)"
      ]
     },
     "execution_count": 19,
     "metadata": {},
     "output_type": "execute_result"
    }
   ],
   "source": [
    "torch.sum(torch.argmax(y_pred, dim=-1) == torch.argmax(y_true, dim=-1)) / y_true.shape[0]\n"
   ]
  },
  {
   "cell_type": "code",
   "execution_count": null,
   "id": "badbd8bd-96ca-4b62-8faa-d0a1932b8789",
   "metadata": {},
   "outputs": [],
   "source": []
  },
  {
   "cell_type": "code",
   "execution_count": null,
   "id": "57d68d85-de80-4a7f-ba50-9ffb47e0a9e6",
   "metadata": {},
   "outputs": [],
   "source": []
  },
  {
   "cell_type": "code",
   "execution_count": 20,
   "id": "d2f02db3-8afd-402c-8d7f-8673096323ea",
   "metadata": {},
   "outputs": [],
   "source": [
    "# accuracy = 正しく分類できた/全サンプル数\n"
   ]
  },
  {
   "cell_type": "code",
   "execution_count": 21,
   "id": "428491f6-8a2b-4b94-807f-91ebf8cd4540",
   "metadata": {},
   "outputs": [
    {
     "data": {
      "text/plain": [
       "tensor([[1, 0, 0, 0, 0, 0, 0, 0, 0, 0]])"
      ]
     },
     "execution_count": 21,
     "metadata": {},
     "output_type": "execute_result"
    }
   ],
   "source": [
    "# これだと、1次元の配列になってしまう\n",
    "# .reshapeにすることで、行列の形にする。 データ数xクラス数\n",
    "y_true[0].reshape(-1, 10)"
   ]
  },
  {
   "cell_type": "code",
   "execution_count": 22,
   "id": "ba4d2248-25bd-4141-bc68-a049eda5cb56",
   "metadata": {},
   "outputs": [
    {
     "data": {
      "text/plain": [
       "torch.Size([64])"
      ]
     },
     "execution_count": 22,
     "metadata": {},
     "output_type": "execute_result"
    }
   ],
   "source": [
    "# これもデータ数x特徴量にしたいので行列の形にする -> reshape(-1, 64)\n",
    "images[0].shape"
   ]
  },
  {
   "cell_type": "code",
   "execution_count": 23,
   "id": "6d80a622-388b-4377-83b8-7271ef1c7c76",
   "metadata": {},
   "outputs": [],
   "source": [
    "i = 0\n",
    "y_true_ = y_true[i].reshape(-1, 10)  # データ数 x　クラス数\n",
    "X = images[i].reshape(-1, 64)  # データ数 x 特徴量\n",
    "\n",
    "# 7. z計算\n",
    "z = X@W.T + b"
   ]
  },
  {
   "cell_type": "code",
   "execution_count": 24,
   "id": "35dd3e49-bf9c-4971-8f4c-8976a263bda0",
   "metadata": {},
   "outputs": [
    {
     "data": {
      "text/plain": [
       "tensor([[ 66.5817, -53.3446, -13.0230, -11.8788, -12.8798,  -8.3615,  -6.0680,\n",
       "           5.4793,   2.5234,  19.3315]], grad_fn=<AddBackward0>)"
      ]
     },
     "execution_count": 24,
     "metadata": {},
     "output_type": "execute_result"
    }
   ],
   "source": [
    "z"
   ]
  },
  {
   "cell_type": "code",
   "execution_count": 25,
   "id": "dfdad40f-0c73-4e6b-85ba-6401aaf88d93",
   "metadata": {},
   "outputs": [
    {
     "data": {
      "text/plain": [
       "torch.Size([1, 64])"
      ]
     },
     "execution_count": 25,
     "metadata": {},
     "output_type": "execute_result"
    }
   ],
   "source": [
    "X.shape"
   ]
  },
  {
   "cell_type": "code",
   "execution_count": 26,
   "id": "01e44ed3-ef5a-41ac-b220-03b83ea1d369",
   "metadata": {},
   "outputs": [
    {
     "data": {
      "text/plain": [
       "torch.Size([10, 64])"
      ]
     },
     "execution_count": 26,
     "metadata": {},
     "output_type": "execute_result"
    }
   ],
   "source": [
    "W.shape"
   ]
  },
  {
   "cell_type": "code",
   "execution_count": 27,
   "id": "74387577-bc11-4c5f-bed9-a9ad74756f6a",
   "metadata": {},
   "outputs": [
    {
     "data": {
      "text/plain": [
       "torch.Size([1, 10])"
      ]
     },
     "execution_count": 27,
     "metadata": {},
     "output_type": "execute_result"
    }
   ],
   "source": [
    "b.shape"
   ]
  },
  {
   "cell_type": "code",
   "execution_count": 28,
   "id": "c57d27cc-8bd4-4127-a14d-1c5157a4601b",
   "metadata": {},
   "outputs": [
    {
     "data": {
      "text/plain": [
       "torch.Size([1, 10])"
      ]
     },
     "execution_count": 28,
     "metadata": {},
     "output_type": "execute_result"
    }
   ],
   "source": [
    "z.shape"
   ]
  },
  {
   "cell_type": "code",
   "execution_count": 29,
   "id": "02ab8f89-d26b-4b2e-8d77-de4dd4f704ed",
   "metadata": {},
   "outputs": [],
   "source": [
    "y_pred = softmax(z)\n",
    "loss = cross_entropy(y_true, y_pred)"
   ]
  },
  {
   "cell_type": "code",
   "execution_count": 30,
   "id": "493514ce-9ce0-4943-ad6f-e811285c431b",
   "metadata": {},
   "outputs": [],
   "source": [
    "loss.backward()"
   ]
  },
  {
   "cell_type": "code",
   "execution_count": null,
   "id": "9479fafc-c8a0-4a69-b46a-7294afb5b4c5",
   "metadata": {},
   "outputs": [],
   "source": []
  },
  {
   "cell_type": "markdown",
   "id": "4aaf5521-3a95-4ab5-888d-6f6294156833",
   "metadata": {},
   "source": [
    "## ミニバッチ学習"
   ]
  },
  {
   "cell_type": "code",
   "execution_count": 45,
   "id": "7875d7e4-b8d0-4eba-a95c-53b85f2dcc0d",
   "metadata": {},
   "outputs": [
    {
     "data": {
      "text/plain": [
       "array([ 775,  560,  562, ..., 1256,  582,  508])"
      ]
     },
     "execution_count": 45,
     "metadata": {},
     "output_type": "execute_result"
    }
   ],
   "source": [
    "# ミニバッチを作成する\n",
    "# ミニバッチを作成するが、データをシャッフルする必要あり。\n",
    "# でもそれぞれimageとtargetは同じようにシャッフルする必要あり(対応しているから)\n",
    "# だから、indexをシャッフルする\n",
    "\n",
    "np.random.permutation(len(target))\n",
    "\n"
   ]
  },
  {
   "cell_type": "code",
   "execution_count": 51,
   "id": "02516220-602c-4d75-997e-a6f979e2a1d0",
   "metadata": {},
   "outputs": [],
   "source": [
    "#　バッチサイズ\n",
    "batch_size = 30\n",
    "\n",
    "# データ数をバッチサイズで割ったら59.9になった。\n",
    "# つまり、60個のバッチがあればいいから、繰り上げる\n",
    "num_batches = np.ceil(len(target) / batch_size).astype(int)\n"
   ]
  },
  {
   "cell_type": "code",
   "execution_count": 53,
   "id": "b98d4bfa-8bc9-4d9c-98de-8fe4ac293d58",
   "metadata": {},
   "outputs": [
    {
     "name": "stdout",
     "output_type": "stream",
     "text": [
      "epoch : 1: 0.759277435640494\n",
      "epoch : 2: 0.22962282684942087\n",
      "epoch : 3: 0.1709172897040844\n",
      "epoch : 4: 0.14570833537727595\n",
      "epoch : 5: 0.13089023878177006\n"
     ]
    }
   ],
   "source": [
    "# パラメータの初期化\n",
    "W = torch.rand((10, 64), requires_grad=True)\n",
    "b = torch.rand((1, 10), requires_grad=True)\n",
    "\n",
    "# 学習率の準備\n",
    "learning_rate = 0.3\n",
    "# 各イテレーションの損失を入れる\n",
    "loss_log = []\n",
    "\n",
    "for epoch in range(5):\n",
    "    shuffle_indices = np.random.permutation(len(target))\n",
    "    running_loss = 0\n",
    "    # それぞれのepochではデータを持ってきて、zを計算損失計算、softmax計算\n",
    "    for i in range(num_batches):\n",
    "\n",
    "        # ミニバッチ作成\n",
    "        start = i * batch_size\n",
    "        end = start + batch_size\n",
    "        batch_indices = shuffle_indices[start:end]\n",
    "        \n",
    "        # 6. 入力データxおよび教師ラベルyを作成\n",
    "        y_true_ = y_true[batch_indices, :]  # データ数 x　クラス数\n",
    "        X = images[batch_indices, :] # データ数 x 特徴量\n",
    "        # import pdb; pdb.set_trace()\n",
    "        \n",
    "        # 7. z計算\n",
    "        Z = X@W.T + b\n",
    "\n",
    "        # 8.softmaxで予測計算\n",
    "        y_pred = softmax(Z)\n",
    "\n",
    "        # 9. 損失計算\n",
    "        loss = cross_entropy(y_true_, y_pred)\n",
    "        # lossはtensorの形なので、.item()を使って数値にする\n",
    "        loss_log.append(loss.item())\n",
    "        # epochごとのlossを計算する\n",
    "        running_loss += loss.item()\n",
    "\n",
    "        # 10. 勾配を計算する\n",
    "        loss.backward()\n",
    "\n",
    "        # 11. パラメータ更新\n",
    "        with torch.no_grad():\n",
    "            W -= learning_rate * W.grad\n",
    "            b -= learning_rate * b.grad\n",
    "\n",
    "        # 12. 勾配初期化\n",
    "        W.grad.zero_()\n",
    "        b.grad.zero_()\n",
    "\n",
    "    # 13. 損失logを出力\n",
    "    print(f'epoch : {epoch+1}: {running_loss/num_batches}')"
   ]
  },
  {
   "cell_type": "code",
   "execution_count": null,
   "id": "d3d15e15-713b-4bd9-8744-5a16f07a3249",
   "metadata": {},
   "outputs": [],
   "source": []
  },
  {
   "cell_type": "code",
   "execution_count": 56,
   "id": "fbc2663c-2459-4151-ac58-c5d41e73e10b",
   "metadata": {},
   "outputs": [
    {
     "name": "stderr",
     "output_type": "stream",
     "text": [
      "/tmp/ipykernel_32/1767331965.py:1: UserWarning: To copy construct from a tensor, it is recommended to use sourceTensor.clone().detach() or sourceTensor.clone().detach().requires_grad_(True), rather than torch.tensor(sourceTensor).\n",
      "  X = torch.tensor(images, dtype=torch.float32)\n"
     ]
    }
   ],
   "source": [
    "X = torch.tensor(images, dtype=torch.float32)\n",
    "z = X@W.T + b\n",
    "y_pred = softmax(z)"
   ]
  },
  {
   "cell_type": "code",
   "execution_count": 57,
   "id": "96a8ce3a-b2e6-4efe-b080-448de2bc99a5",
   "metadata": {},
   "outputs": [
    {
     "data": {
      "text/plain": [
       "tensor(0.9766)"
      ]
     },
     "execution_count": 57,
     "metadata": {},
     "output_type": "execute_result"
    }
   ],
   "source": [
    "\n",
    "torch.sum(torch.argmax(y_pred, dim=-1) == torch.argmax(y_true, dim=-1)) / y_true.shape[0]"
   ]
  },
  {
   "cell_type": "markdown",
   "id": "e324b4f6-c9d6-430f-a748-e18448f64334",
   "metadata": {},
   "source": [
    "## 学習データと検証データに分ける"
   ]
  },
  {
   "cell_type": "code",
   "execution_count": 64,
   "id": "7bfccf28-55ef-4408-b395-3b09ecca5aed",
   "metadata": {},
   "outputs": [],
   "source": [
    "# 1. データロード\n",
    "\n",
    "dataset = datasets.load_digits()\n",
    "# 画像データ\n",
    "images = dataset['images']\n",
    "# 正解レベル\n",
    "target = dataset['target']\n",
    "\n",
    "\n",
    "\n",
    "\n",
    "\n"
   ]
  },
  {
   "cell_type": "code",
   "execution_count": 71,
   "id": "1ff6782c-1df9-478e-9f9f-41d61b73674e",
   "metadata": {},
   "outputs": [],
   "source": [
    "# 学習データと検証データを分割する\n",
    "X_train, X_val, y_train, y_val = train_test_split(images, target, test_size=0.2, random_state=42)\n",
    "X_mean = X_train.mean()\n",
    "X_std = X_train.std()\n",
    "\n",
    "X_train = (X_train - X_mean) / X_std\n",
    "X_val = (X_val - X_mean) / X_std\n"
   ]
  },
  {
   "cell_type": "code",
   "execution_count": 72,
   "id": "b6dac651-62ab-4b6b-b746-8a120b7e9de6",
   "metadata": {},
   "outputs": [
    {
     "data": {
      "text/plain": [
       "(360, 8, 8)"
      ]
     },
     "execution_count": 72,
     "metadata": {},
     "output_type": "execute_result"
    }
   ],
   "source": [
    "X_val.shape"
   ]
  },
  {
   "cell_type": "code",
   "execution_count": 73,
   "id": "6de4cbe6-3338-4bc3-bd30-282377bcfb5f",
   "metadata": {},
   "outputs": [],
   "source": [
    "# ラベルのエンコーディング(one-hotエンコーディング)\n",
    "import torch.nn.functional as F\n",
    "\n",
    "# この形ではダメ、なぜなら、numpyの形を取ってはいけない -> tensorの形に！\n",
    "# あとは、引数にクラスの数を指定, num_classes\n",
    "# F.one_hot(target)\n",
    "\n",
    "y_train = F.one_hot(torch.tensor(y_train), num_classes=10)\n",
    "\n",
    "# imagesもnumpy arrayなので、tensorにする。また、numpy arrayはfloat64型なので型変換する\n",
    "# さらに、１次元配列として扱うので8x8 = 64の特徴量として扱うのでshapeを変える。\n",
    "# 今のshapeはimage.shape -> (1797, 8, 8) -> (1797, 64)にする\n",
    "X_train = torch.tensor(X_train, dtype=torch.float32).reshape(-1, 64)\n",
    "y_val = F.one_hot(torch.tensor(y_val), num_classes=10)\n",
    "X_val = torch.tensor(X_val, dtype=torch.float32).reshape(-1, 64)\n",
    "\n",
    "X_mean = X_train.mean()\n",
    "X_std = X_train.std()\n",
    "\n",
    "X_train = (X_train - X_mean) / X_std\n",
    "X_val = (X_val - X_mean) / X_std"
   ]
  },
  {
   "cell_type": "code",
   "execution_count": 84,
   "id": "b03ecc33-87a4-47ba-8b04-e5d6c76079e7",
   "metadata": {},
   "outputs": [
    {
     "name": "stdout",
     "output_type": "stream",
     "text": [
      "epoch : 1: train loss : 0.895814752827088, val loss : 0.33431240916252136, val accuracy 0.1830829232931137\n",
      "epoch : 2: train loss : 0.2789216300783058, val loss : 0.22190693020820618, val accuracy 0.1869782954454422\n",
      "epoch : 3: train loss : 0.2024990526648859, val loss : 0.19011132419109344, val accuracy 0.18809126317501068\n",
      "epoch : 4: train loss : 0.17368271380352476, val loss : 0.15954992175102234, val accuracy 0.1897607147693634\n",
      "epoch : 5: train loss : 0.15232484259953102, val loss : 0.15181823074817657, val accuracy 0.19143016636371613\n",
      "epoch : 6: train loss : 0.1375718715135008, val loss : 0.13795597851276398, val accuracy 0.19198665022850037\n",
      "epoch : 7: train loss : 0.1277735698580121, val loss : 0.12974214553833008, val accuracy 0.1936560869216919\n",
      "epoch : 8: train loss : 0.11927324971960236, val loss : 0.12567250430583954, val accuracy 0.19309960305690765\n",
      "epoch : 9: train loss : 0.10913123159358899, val loss : 0.12671983242034912, val accuracy 0.1936560869216919\n",
      "epoch : 10: train loss : 0.10422368681368728, val loss : 0.12195323407649994, val accuracy 0.19309960305690765\n",
      "epoch : 11: train loss : 0.0968812513553227, val loss : 0.12243298441171646, val accuracy 0.19476905465126038\n",
      "epoch : 12: train loss : 0.09406319710736473, val loss : 0.11452828347682953, val accuracy 0.1936560869216919\n",
      "epoch : 13: train loss : 0.08921093951600294, val loss : 0.11393722891807556, val accuracy 0.19309960305690765\n",
      "epoch : 14: train loss : 0.08363988200047363, val loss : 0.12340621650218964, val accuracy 0.19087368249893188\n",
      "epoch : 15: train loss : 0.08371257910039276, val loss : 0.1089022234082222, val accuracy 0.1936560869216919\n",
      "epoch : 16: train loss : 0.07988187127436201, val loss : 0.1112484410405159, val accuracy 0.19421257078647614\n",
      "epoch : 17: train loss : 0.07774717488791794, val loss : 0.1051969826221466, val accuracy 0.19421257078647614\n",
      "epoch : 18: train loss : 0.07422092454119895, val loss : 0.10566841810941696, val accuracy 0.19532553851604462\n",
      "epoch : 19: train loss : 0.07080513223384817, val loss : 0.1050855815410614, val accuracy 0.19532553851604462\n",
      "epoch : 20: train loss : 0.06801684233748044, val loss : 0.1041681095957756, val accuracy 0.19476905465126038\n",
      "epoch : 21: train loss : 0.06690345904401813, val loss : 0.10494126379489899, val accuracy 0.19476905465126038\n",
      "epoch : 22: train loss : 0.06561723250585298, val loss : 0.10125810652971268, val accuracy 0.19421257078647614\n",
      "epoch : 23: train loss : 0.0640778671465038, val loss : 0.10093080997467041, val accuracy 0.19476905465126038\n",
      "epoch : 24: train loss : 0.061688939846741654, val loss : 0.10035686194896698, val accuracy 0.19476905465126038\n",
      "epoch : 25: train loss : 0.0604967538965866, val loss : 0.10142489522695541, val accuracy 0.19476905465126038\n",
      "epoch : 26: train loss : 0.05867173394653946, val loss : 0.09943941235542297, val accuracy 0.19532553851604462\n",
      "epoch : 27: train loss : 0.056222956879840545, val loss : 0.09991514682769775, val accuracy 0.19476905465126038\n",
      "epoch : 28: train loss : 0.05560884404500636, val loss : 0.10033781081438065, val accuracy 0.19532553851604462\n",
      "epoch : 29: train loss : 0.054171794501598924, val loss : 0.09895804524421692, val accuracy 0.19588202238082886\n",
      "epoch : 30: train loss : 0.052930850574436285, val loss : 0.09803949296474457, val accuracy 0.19532553851604462\n"
     ]
    }
   ],
   "source": [
    "# バッチサイズ\n",
    "batch_size = 30\n",
    "num_batches = np.ceil((len(y_train)) / batch_size).astype(int)\n",
    "\n",
    "# パラメータの初期化\n",
    "W = torch.rand((10, 64), requires_grad=True)\n",
    "b = torch.rand((1, 10), requires_grad=True)\n",
    "# ログ\n",
    "train_losses = []\n",
    "val_losses = []\n",
    "val_accuracies = []\n",
    "\n",
    "# 学習率の準備\n",
    "learning_rate = 0.3\n",
    "# 各イテレーションの損失を入れる\n",
    "loss_log = []\n",
    "\n",
    "epoches = 30\n",
    "for epoch in range(epoches):\n",
    "    shuffle_indices = np.random.permutation(len(y_train))\n",
    "    running_loss = 0\n",
    "    # それぞれのepochではデータを持ってきて、zを計算損失計算、softmax計算\n",
    "    for i in range(num_batches):\n",
    "\n",
    "        # ミニバッチ作成\n",
    "        start = i * batch_size\n",
    "        end = start + batch_size\n",
    "        batch_indices = shuffle_indices[start:end]\n",
    "        \n",
    "        # 6. 入力データxおよび教師ラベルyを作成\n",
    "        y_true_ = y_train[batch_indices, :]  # データ数 x　クラス数\n",
    "        X = X_train[batch_indices, :] # データ数 x 特徴量\n",
    "        # import pdb; pdb.set_trace()\n",
    "        \n",
    "        # 7. z計算\n",
    "        Z = X@W.T + b\n",
    "\n",
    "        # 8.softmaxで予測計算\n",
    "        y_pred = softmax(Z)\n",
    "\n",
    "        # 9. 損失計算\n",
    "        loss = cross_entropy(y_true_, y_pred)\n",
    "        # lossはtensorの形なので、.item()を使って数値にする\n",
    "        loss_log.append(loss.item())\n",
    "        # epochごとのlossを計算する\n",
    "        running_loss += loss.item()\n",
    "\n",
    "        # 10. 勾配を計算する\n",
    "        loss.backward()\n",
    "\n",
    "        # 11. パラメータ更新\n",
    "        with torch.no_grad():\n",
    "            W -= learning_rate * W.grad\n",
    "            b -= learning_rate * b.grad\n",
    "\n",
    "        # 12. 勾配初期化\n",
    "        W.grad.zero_()\n",
    "        b.grad.zero_()\n",
    "\n",
    "    # validation\n",
    "    with torch.no_grad():\n",
    "        Z_val = X_val@W.T + b\n",
    "        y_pred_val = softmax(Z_val)\n",
    "\n",
    "        val_loss = cross_entropy(y_val, y_pred_val)\n",
    "\n",
    "        # accuracy\n",
    "        val_accuracy = torch.sum(torch.argmax(y_pred_val, dim=-1) == torch.argmax(y_val, dim=-1)) / y_true.shape[0]\n",
    "\n",
    "    train_losses.append(running_loss/num_batches)\n",
    "    val_losses.append(val_loss.item())\n",
    "    val_accuracies.append(val_accuracy.item())\n",
    "\n",
    "    # 13. 損失logを出力\n",
    "    print(f'epoch : {epoch+1}: train loss : {running_loss/num_batches}, val loss : {val_loss.item()}, val accuracy {val_accuracy.item()}')\n",
    "\n"
   ]
  },
  {
   "cell_type": "code",
   "execution_count": 86,
   "id": "296e1232-ce56-4d99-9fa5-6d5dd892d4cb",
   "metadata": {},
   "outputs": [
    {
     "data": {
      "text/plain": [
       "<matplotlib.legend.Legend at 0x2aabe0069d00>"
      ]
     },
     "execution_count": 86,
     "metadata": {},
     "output_type": "execute_result"
    },
    {
     "data": {
      "image/png": "[encoded data removed]",
      "text/plain": [
       "<Figure size 640x480 with 1 Axes>"
      ]
     },
     "metadata": {},
     "output_type": "display_data"
    }
   ],
   "source": [
    "plt.plot(train_losses, label = 'train_loss')\n",
    "plt.plot(val_losses, label = 'val_loss')\n",
    "plt.legend()"
   ]
  },
  {
   "cell_type": "code",
   "execution_count": null,
   "id": "bfcb83f8-b23f-4a60-93ae-235d63a5e2de",
   "metadata": {},
   "outputs": [],
   "source": []
  },
  {
   "cell_type": "code",
   "execution_count": null,
   "id": "0dc157cc-3541-4b44-934d-37ec321acdea",
   "metadata": {},
   "outputs": [],
   "source": []
  },
  {
   "cell_type": "code",
   "execution_count": null,
   "id": "e5feb8d8-4163-4ef6-89cc-e57f7cf7b0f1",
   "metadata": {},
   "outputs": [],
   "source": []
  },
  {
   "cell_type": "code",
   "execution_count": null,
   "id": "fd7ab310-06d4-4ef2-b176-58b62e67c5e3",
   "metadata": {},
   "outputs": [],
   "source": []
  },
  {
   "cell_type": "code",
   "execution_count": null,
   "id": "8ba0c1a9-38b2-4ee4-9b5c-b6747764bb4a",
   "metadata": {},
   "outputs": [],
   "source": []
  },
  {
   "cell_type": "code",
   "execution_count": null,
   "id": "9ddce32b-3740-4162-96d0-0cc2a7ff9072",
   "metadata": {},
   "outputs": [],
   "source": []
  }
 ],
 "metadata": {
  "kernelspec": {
   "display_name": "Python 3 (ipykernel)",
   "language": "python",
   "name": "python3"
  },
  "language_info": {
   "codemirror_mode": {
    "name": "ipython",
    "version": 3
   },
   "file_extension": ".py",
   "mimetype": "text/x-python",
   "name": "python",
   "nbconvert_exporter": "python",
   "pygments_lexer": "ipython3",
   "version": "3.8.18"
  }
 },
 "nbformat": 4,
 "nbformat_minor": 5
}
